{
 "cells": [
  {
   "cell_type": "markdown",
   "id": "e27beab2",
   "metadata": {},
   "source": [
    "# Running GHZ circuit on Braket on-demand simulators"
   ]
  },
  {
   "cell_type": "markdown",
   "id": "e2016d0a",
   "metadata": {},
   "source": [
    "<div class=\"alert alert-block alert-info\">\n",
    "- This is an example usage of the braket SDK for constructing a GHZ quantum circuit, for more details about it, please refer to this <a href = \"https://en.wikipedia.org/wiki/Greenberger%E2%80%93Horne%E2%80%93Zeilinger_state\">link</a>\n",
    "<br> - All the following simulations are using the braket SDK managed simulators, for more details about the simulators, please check their documentation regarding <a href=\"https://docs.aws.amazon.com/braket/latest/developerguide/braket-devices.html#choose-a-simulator\">choosing a simulator</a>\n",
    "<br> - The information here are based and inspired from the tutorials I attended and the SDK documentation, please contact me if you have suggestions or notes"
   ]
  },
  {
   "cell_type": "code",
   "execution_count": 1,
   "id": "6c97c524",
   "metadata": {},
   "outputs": [
    {
     "data": {
      "text/plain": [
       "'1.31.2.dev0'"
      ]
     },
     "execution_count": 1,
     "metadata": {},
     "output_type": "execute_result"
    }
   ],
   "source": [
    "# Use Braket SDK Cost Tracking to estimate the cost to run this example\n",
    "from braket.tracking import Tracker\n",
    "t = Tracker().start()\n",
    "\n",
    "import matplotlib.pyplot as plt\n",
    "%matplotlib inline\n",
    "import string\n",
    "import numpy as np\n",
    "\n",
    "from braket.circuits import Circuit\n",
    "from braket.devices import LocalSimulator\n",
    "\n",
    "#for braket devices\n",
    "from braket.aws import AwsDevice\n",
    "\n",
    "import braket._sdk as braket_sdk\n",
    "braket_sdk.__version__"
   ]
  },
  {
   "cell_type": "code",
   "execution_count": 2,
   "id": "23ffe9db",
   "metadata": {},
   "outputs": [],
   "source": [
    "#function to prepare a GHZ circuit\n",
    "def prepare_ghz_circuit(qubit_count):\n",
    "    circuit = Circuit()\n",
    "    circuit.h(0)\n",
    "    for i in range(qubit_count - 1):\n",
    "        circuit.cnot(i, i + 1)\n",
    "    return circuit"
   ]
  },
  {
   "cell_type": "code",
   "execution_count": 3,
   "id": "a7bc857b",
   "metadata": {},
   "outputs": [],
   "source": [
    "def get_time(t):\n",
    "    t = t.split('T')[1]\n",
    "    t = t.split('.')[0]\n",
    "    t = t.split(':')\n",
    "    t = int(t[0])*3600 + int(t[1])*60 + int(t[2])\n",
    "    return t"
   ]
  },
  {
   "cell_type": "code",
   "execution_count": 4,
   "id": "9b27be42",
   "metadata": {},
   "outputs": [],
   "source": [
    "def run_on_device(device, circuit, shots):\n",
    "    task = device.run(circuit, shots=shots)\n",
    "    result = task.result()\n",
    "    counts = result.measurement_counts\n",
    "    print(circuit)\n",
    "    print(counts)\n",
    "    plt.bar(counts.keys(), counts.values())\n",
    "    plt.xlabel('bitstrings')\n",
    "    plt.ylabel('counts')\n",
    "    plt.show()\n",
    "    print('Counts for all-zero bitstring:', counts['0'*n_qubits])\n",
    "    print('Counts for all-one bitstring:', counts['1'*n_qubits])\n",
    "    task_id = result.task_metadata.id\n",
    "    n = result.task_metadata.deviceParameters.paradigmParameters.qubitCount\n",
    "    #print('Task ID:', task_id) #it will return some info related to your account and task execution\n",
    "    print('Number of qubits:', n)\n",
    "    t0 = result.task_metadata.createdAt\n",
    "    t0 = get_time(t0)\n",
    "    tend = result.task_metadata.endedAt\n",
    "    tend = get_time(tend)\n",
    "    print(\"the time taken to run the circuit in seconds is: \", tend-t0)"
   ]
  },
  {
   "cell_type": "markdown",
   "id": "6e9930db",
   "metadata": {},
   "source": [
    "## using the local simulator"
   ]
  },
  {
   "cell_type": "code",
   "execution_count": 5,
   "id": "156a5c8f",
   "metadata": {},
   "outputs": [
    {
     "name": "stdout",
     "output_type": "stream",
     "text": [
      "T  : |0|1|2|\n",
      "            \n",
      "q0 : -H-C---\n",
      "        |   \n",
      "q1 : ---X-C-\n",
      "          | \n",
      "q2 : -----X-\n",
      "\n",
      "T  : |0|1|2|\n",
      "Counter({'111': 506, '000': 494})\n"
     ]
    },
    {
     "data": {
      "image/png": "[encoded data removed]",
      "text/plain": [
       "<Figure size 640x480 with 1 Axes>"
      ]
     },
     "metadata": {},
     "output_type": "display_data"
    }
   ],
   "source": [
    "# define the circuit\n",
    "n_qubits = 3\n",
    "ghz = prepare_ghz_circuit(n_qubits)\n",
    "print(ghz)\n",
    "\n",
    "# define the device to run the circuit on, here we use the LocalSimulator\n",
    "device = LocalSimulator()\n",
    "\n",
    "# run the circuit\n",
    "task = device.run(ghz, shots=1000)\n",
    "\n",
    "# get the results\n",
    "result = task.result()\n",
    "counts = result.measurement_counts\n",
    "print(counts)\n",
    "\n",
    "# plot the results\n",
    "plt.bar(counts.keys(), counts.values())\n",
    "plt.xlabel('bitstrings')\n",
    "plt.ylabel('counts')\n",
    "plt.show()"
   ]
  },
  {
   "cell_type": "markdown",
   "id": "2ffe192f",
   "metadata": {},
   "source": [
    "## using the on-demand simulator SV1"
   ]
  },
  {
   "cell_type": "code",
   "execution_count": 6,
   "id": "5f9d8567",
   "metadata": {},
   "outputs": [
    {
     "name": "stdout",
     "output_type": "stream",
     "text": [
      "T   : |0|1|2|3|4|5|6|7|8|9|10|11|\n",
      "                                 \n",
      "q0  : -H-C-----------------------\n",
      "         |                       \n",
      "q1  : ---X-C---------------------\n",
      "           |                     \n",
      "q2  : -----X-C-------------------\n",
      "             |                   \n",
      "q3  : -------X-C-----------------\n",
      "               |                 \n",
      "q4  : ---------X-C---------------\n",
      "                 |               \n",
      "q5  : -----------X-C-------------\n",
      "                   |             \n",
      "q6  : -------------X-C-----------\n",
      "                     |           \n",
      "q7  : ---------------X-C---------\n",
      "                       |         \n",
      "q8  : -----------------X-C-------\n",
      "                         |       \n",
      "q9  : -------------------X-C-----\n",
      "                           |     \n",
      "q10 : ---------------------X--C--\n",
      "                              |  \n",
      "q11 : ------------------------X--\n",
      "\n",
      "T   : |0|1|2|3|4|5|6|7|8|9|10|11|\n",
      "Counter({'111111111111': 505, '000000000000': 495})\n"
     ]
    },
    {
     "data": {
      "image/png": "[encoded data removed]",
      "text/plain": [
       "<Figure size 640x480 with 1 Axes>"
      ]
     },
     "metadata": {},
     "output_type": "display_data"
    },
    {
     "name": "stdout",
     "output_type": "stream",
     "text": [
      "Counts for all-zero bitstring: 495\n",
      "Counts for all-one bitstring: 505\n",
      "Number of qubits: 12\n",
      "the time taken to run the circuit in seconds is:  2\n"
     ]
    }
   ],
   "source": [
    "# define the circuit\n",
    "n_qubits = 12\n",
    "shots = 1000\n",
    "ghz = prepare_ghz_circuit(n_qubits)\n",
    "\n",
    "# set up the on-demand simulator SV1\n",
    "device = AwsDevice(\"arn:aws:braket:::device/quantum-simulator/amazon/sv1\")\n",
    "\n",
    "#run the circuit\n",
    "run_on_device(device=device, circuit=ghz, shots=shots)"
   ]
  },
  {
   "cell_type": "markdown",
   "id": "ec18dd5d",
   "metadata": {},
   "source": [
    "## using the on-demand simulator TN1"
   ]
  },
  {
   "cell_type": "code",
   "execution_count": 7,
   "id": "712d9eff",
   "metadata": {},
   "outputs": [
    {
     "name": "stdout",
     "output_type": "stream",
     "text": [
      "T   : |0|1|2|3|4|5|6|7|8|9|10|11|12|13|14|15|16|17|18|19|20|21|22|23|24|25|26|27|28|29|30|31|32|33|34|35|36|37|38|39|40|41|42|43|44|45|46|47|48|49|\n",
      "                                                                                                                                                   \n",
      "q0  : -H-C-----------------------------------------------------------------------------------------------------------------------------------------\n",
      "         |                                                                                                                                         \n",
      "q1  : ---X-C---------------------------------------------------------------------------------------------------------------------------------------\n",
      "           |                                                                                                                                       \n",
      "q2  : -----X-C-------------------------------------------------------------------------------------------------------------------------------------\n",
      "             |                                                                                                                                     \n",
      "q3  : -------X-C-----------------------------------------------------------------------------------------------------------------------------------\n",
      "               |                                                                                                                                   \n",
      "q4  : ---------X-C---------------------------------------------------------------------------------------------------------------------------------\n",
      "                 |                                                                                                                                 \n",
      "q5  : -----------X-C-------------------------------------------------------------------------------------------------------------------------------\n",
      "                   |                                                                                                                               \n",
      "q6  : -------------X-C-----------------------------------------------------------------------------------------------------------------------------\n",
      "                     |                                                                                                                             \n",
      "q7  : ---------------X-C---------------------------------------------------------------------------------------------------------------------------\n",
      "                       |                                                                                                                           \n",
      "q8  : -----------------X-C-------------------------------------------------------------------------------------------------------------------------\n",
      "                         |                                                                                                                         \n",
      "q9  : -------------------X-C-----------------------------------------------------------------------------------------------------------------------\n",
      "                           |                                                                                                                       \n",
      "q10 : ---------------------X--C--------------------------------------------------------------------------------------------------------------------\n",
      "                              |                                                                                                                    \n",
      "q11 : ------------------------X--C-----------------------------------------------------------------------------------------------------------------\n",
      "                                 |                                                                                                                 \n",
      "q12 : ---------------------------X--C--------------------------------------------------------------------------------------------------------------\n",
      "                                    |                                                                                                              \n",
      "q13 : ------------------------------X--C-----------------------------------------------------------------------------------------------------------\n",
      "                                       |                                                                                                           \n",
      "q14 : ---------------------------------X--C--------------------------------------------------------------------------------------------------------\n",
      "                                          |                                                                                                        \n",
      "q15 : ------------------------------------X--C-----------------------------------------------------------------------------------------------------\n",
      "                                             |                                                                                                     \n",
      "q16 : ---------------------------------------X--C--------------------------------------------------------------------------------------------------\n",
      "                                                |                                                                                                  \n",
      "q17 : ------------------------------------------X--C-----------------------------------------------------------------------------------------------\n",
      "                                                   |                                                                                               \n",
      "q18 : ---------------------------------------------X--C--------------------------------------------------------------------------------------------\n",
      "                                                      |                                                                                            \n",
      "q19 : ------------------------------------------------X--C-----------------------------------------------------------------------------------------\n",
      "                                                         |                                                                                         \n",
      "q20 : ---------------------------------------------------X--C--------------------------------------------------------------------------------------\n",
      "                                                            |                                                                                      \n",
      "q21 : ------------------------------------------------------X--C-----------------------------------------------------------------------------------\n",
      "                                                               |                                                                                   \n",
      "q22 : ---------------------------------------------------------X--C--------------------------------------------------------------------------------\n",
      "                                                                  |                                                                                \n",
      "q23 : ------------------------------------------------------------X--C-----------------------------------------------------------------------------\n",
      "                                                                     |                                                                             \n",
      "q24 : ---------------------------------------------------------------X--C--------------------------------------------------------------------------\n",
      "                                                                        |                                                                          \n",
      "q25 : ------------------------------------------------------------------X--C-----------------------------------------------------------------------\n",
      "                                                                           |                                                                       \n",
      "q26 : ---------------------------------------------------------------------X--C--------------------------------------------------------------------\n",
      "                                                                              |                                                                    \n",
      "q27 : ------------------------------------------------------------------------X--C-----------------------------------------------------------------\n",
      "                                                                                 |                                                                 \n",
      "q28 : ---------------------------------------------------------------------------X--C--------------------------------------------------------------\n",
      "                                                                                    |                                                              \n",
      "q29 : ------------------------------------------------------------------------------X--C-----------------------------------------------------------\n",
      "                                                                                       |                                                           \n",
      "q30 : ---------------------------------------------------------------------------------X--C--------------------------------------------------------\n",
      "                                                                                          |                                                        \n",
      "q31 : ------------------------------------------------------------------------------------X--C-----------------------------------------------------\n",
      "                                                                                             |                                                     \n",
      "q32 : ---------------------------------------------------------------------------------------X--C--------------------------------------------------\n",
      "                                                                                                |                                                  \n",
      "q33 : ------------------------------------------------------------------------------------------X--C-----------------------------------------------\n",
      "                                                                                                   |                                               \n",
      "q34 : ---------------------------------------------------------------------------------------------X--C--------------------------------------------\n",
      "                                                                                                      |                                            \n",
      "q35 : ------------------------------------------------------------------------------------------------X--C-----------------------------------------\n",
      "                                                                                                         |                                         \n",
      "q36 : ---------------------------------------------------------------------------------------------------X--C--------------------------------------\n",
      "                                                                                                            |                                      \n",
      "q37 : ------------------------------------------------------------------------------------------------------X--C-----------------------------------\n",
      "                                                                                                               |                                   \n",
      "q38 : ---------------------------------------------------------------------------------------------------------X--C--------------------------------\n",
      "                                                                                                                  |                                \n",
      "q39 : ------------------------------------------------------------------------------------------------------------X--C-----------------------------\n",
      "                                                                                                                     |                             \n",
      "q40 : ---------------------------------------------------------------------------------------------------------------X--C--------------------------\n",
      "                                                                                                                        |                          \n",
      "q41 : ------------------------------------------------------------------------------------------------------------------X--C-----------------------\n",
      "                                                                                                                           |                       \n",
      "q42 : ---------------------------------------------------------------------------------------------------------------------X--C--------------------\n",
      "                                                                                                                              |                    \n",
      "q43 : ------------------------------------------------------------------------------------------------------------------------X--C-----------------\n",
      "                                                                                                                                 |                 \n",
      "q44 : ---------------------------------------------------------------------------------------------------------------------------X--C--------------\n",
      "                                                                                                                                    |              \n",
      "q45 : ------------------------------------------------------------------------------------------------------------------------------X--C-----------\n",
      "                                                                                                                                       |           \n",
      "q46 : ---------------------------------------------------------------------------------------------------------------------------------X--C--------\n",
      "                                                                                                                                          |        \n",
      "q47 : ------------------------------------------------------------------------------------------------------------------------------------X--C-----\n",
      "                                                                                                                                             |     \n",
      "q48 : ---------------------------------------------------------------------------------------------------------------------------------------X--C--\n",
      "                                                                                                                                                |  \n",
      "q49 : ------------------------------------------------------------------------------------------------------------------------------------------X--\n",
      "\n",
      "T   : |0|1|2|3|4|5|6|7|8|9|10|11|12|13|14|15|16|17|18|19|20|21|22|23|24|25|26|27|28|29|30|31|32|33|34|35|36|37|38|39|40|41|42|43|44|45|46|47|48|49|\n",
      "Counter({'00000000000000000000000000000000000000000000000000': 509, '11111111111111111111111111111111111111111111111111': 491})\n"
     ]
    },
    {
     "data": {
      "image/png": "[encoded data removed]",
      "text/plain": [
       "<Figure size 640x480 with 1 Axes>"
      ]
     },
     "metadata": {},
     "output_type": "display_data"
    },
    {
     "name": "stdout",
     "output_type": "stream",
     "text": [
      "Counts for all-zero bitstring: 509\n",
      "Counts for all-one bitstring: 491\n",
      "Number of qubits: 50\n",
      "the time taken to run the circuit in seconds is:  7\n"
     ]
    }
   ],
   "source": [
    "#define the circuit\n",
    "n_qubits = 50\n",
    "shots = 1000\n",
    "ghz = prepare_ghz_circuit(n_qubits)\n",
    "\n",
    "# set up the on-demand simulator TN1 with larger number of qubits\n",
    "device = AwsDevice(\"arn:aws:braket:::device/quantum-simulator/amazon/tn1\")\n",
    "\n",
    "#run the circuit\n",
    "run_on_device(device=device, circuit=ghz, shots=shots)"
   ]
  },
  {
   "cell_type": "markdown",
   "id": "7ea4c9ff",
   "metadata": {},
   "source": [
    "## using the on-demand simulator DM1"
   ]
  },
  {
   "cell_type": "code",
   "execution_count": 8,
   "id": "2d47fd02",
   "metadata": {},
   "outputs": [
    {
     "name": "stdout",
     "output_type": "stream",
     "text": [
      "T   : |0|1|2|3|4|5|6|7|8|9|10|11|12|13|14|15|16|\n",
      "                                                \n",
      "q0  : -H-C--------------------------------------\n",
      "         |                                      \n",
      "q1  : ---X-C------------------------------------\n",
      "           |                                    \n",
      "q2  : -----X-C----------------------------------\n",
      "             |                                  \n",
      "q3  : -------X-C--------------------------------\n",
      "               |                                \n",
      "q4  : ---------X-C------------------------------\n",
      "                 |                              \n",
      "q5  : -----------X-C----------------------------\n",
      "                   |                            \n",
      "q6  : -------------X-C--------------------------\n",
      "                     |                          \n",
      "q7  : ---------------X-C------------------------\n",
      "                       |                        \n",
      "q8  : -----------------X-C----------------------\n",
      "                         |                      \n",
      "q9  : -------------------X-C--------------------\n",
      "                           |                    \n",
      "q10 : ---------------------X--C-----------------\n",
      "                              |                 \n",
      "q11 : ------------------------X--C--------------\n",
      "                                 |              \n",
      "q12 : ---------------------------X--C-----------\n",
      "                                    |           \n",
      "q13 : ------------------------------X--C--------\n",
      "                                       |        \n",
      "q14 : ---------------------------------X--C-----\n",
      "                                          |     \n",
      "q15 : ------------------------------------X--C--\n",
      "                                             |  \n",
      "q16 : ---------------------------------------X--\n",
      "\n",
      "T   : |0|1|2|3|4|5|6|7|8|9|10|11|12|13|14|15|16|\n",
      "Counter({'11111111111111111': 526, '00000000000000000': 474})\n"
     ]
    },
    {
     "data": {
      "image/png": "[encoded data removed]",
      "text/plain": [
       "<Figure size 640x480 with 1 Axes>"
      ]
     },
     "metadata": {},
     "output_type": "display_data"
    },
    {
     "name": "stdout",
     "output_type": "stream",
     "text": [
      "Counts for all-zero bitstring: 474\n",
      "Counts for all-one bitstring: 526\n",
      "Number of qubits: 17\n",
      "the time taken to run the circuit in seconds is:  162\n"
     ]
    }
   ],
   "source": [
    "# set up the on-demand simulator DM1 with the max number of allowed qubits on this simulator(17)\n",
    "device = AwsDevice(\"arn:aws:braket:::device/quantum-simulator/amazon/dm1\")\n",
    "\n",
    "#define and run the circuit\n",
    "n_qubits = 17\n",
    "ghz = prepare_ghz_circuit(n_qubits)\n",
    "\n",
    "#run the circuit\n",
    "run_on_device(device=device, circuit=ghz, shots=shots)"
   ]
  },
  {
   "cell_type": "code",
   "execution_count": 9,
   "id": "1b4fb9dc",
   "metadata": {},
   "outputs": [
    {
     "name": "stdout",
     "output_type": "stream",
     "text": [
      "Task Summary\n",
      "{'arn:aws:braket:::device/quantum-simulator/amazon/sv1': {'shots': 1000, 'tasks': {'COMPLETED': 1}, 'execution_duration': datetime.timedelta(microseconds=42000), 'billed_execution_duration': datetime.timedelta(seconds=3)}, 'arn:aws:braket:::device/quantum-simulator/amazon/tn1': {'shots': 1000, 'tasks': {'COMPLETED': 1}, 'execution_duration': datetime.timedelta(seconds=5, microseconds=618000), 'billed_execution_duration': datetime.timedelta(seconds=5, microseconds=618000)}, 'arn:aws:braket:::device/quantum-simulator/amazon/dm1': {'shots': 1000, 'tasks': {'COMPLETED': 1}, 'execution_duration': datetime.timedelta(seconds=159, microseconds=438000), 'billed_execution_duration': datetime.timedelta(seconds=159, microseconds=438000)}}\n",
      "Estimated cost to run this example: 0.23 USD\n"
     ]
    }
   ],
   "source": [
    "print(\"Task Summary\")\n",
    "print(t.quantum_tasks_statistics())\n",
    "print(f\"Estimated cost to run this example: {t.qpu_tasks_cost() + t.simulator_tasks_cost():.2f} USD\")"
   ]
  },
  {
   "cell_type": "code",
   "execution_count": 10,
   "id": "1f7019d9",
   "metadata": {},
   "outputs": [
    {
     "data": {
      "text/plain": [
       "Decimal('0')"
      ]
     },
     "execution_count": 10,
     "metadata": {},
     "output_type": "execute_result"
    }
   ],
   "source": [
    "t.qpu_tasks_cost()"
   ]
  },
  {
   "cell_type": "code",
   "execution_count": 11,
   "id": "5ca02e4d",
   "metadata": {},
   "outputs": [
    {
     "data": {
      "text/plain": [
       "Decimal('0.2287966666666666666666666667')"
      ]
     },
     "execution_count": 11,
     "metadata": {},
     "output_type": "execute_result"
    }
   ],
   "source": [
    "t.simulator_tasks_cost()"
   ]
  }
 ],
 "metadata": {
  "kernelspec": {
   "display_name": "Python 3.10.2 64-bit ('3.10.2')",
   "language": "python",
   "name": "python3"
  },
  "language_info": {
   "codemirror_mode": {
    "name": "ipython",
    "version": 3
   },
   "file_extension": ".py",
   "mimetype": "text/x-python",
   "name": "python",
   "nbconvert_exporter": "python",
   "pygments_lexer": "ipython3",
   "version": "3.10.2"
  },
  "vscode": {
   "interpreter": {
    "hash": "27af1eeeb92b5991d3180e82c8d8b1547dacbfe5a769b447ec95fa790dfbbaa9"
   }
  }
 },
 "nbformat": 4,
 "nbformat_minor": 5
}
