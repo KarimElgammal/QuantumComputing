{
 "cells": [
  {
   "cell_type": "markdown",
   "id": "3898c45d",
   "metadata": {},
   "source": [
    "## hello world braket example"
   ]
  },
  {
   "cell_type": "markdown",
   "id": "077b8375",
   "metadata": {},
   "source": [
    "<div class=\"alert alert-block alert-info\">\n",
    "This is an example usage of the braket SDK for quantum computing introduced by Amazon AWS\n",
    "<br>All the following simulations are using the braket SDK local simulator\n",
    "<br>The information here are based on tutorials I attended and the SDK documentation, please contact me if you have suggestions or notes    "
   ]
  },
  {
   "cell_type": "code",
   "execution_count": 1,
   "id": "e8a4520c",
   "metadata": {},
   "outputs": [
    {
     "data": {
      "text/plain": [
       "'1.31.2.dev0'"
      ]
     },
     "execution_count": 1,
     "metadata": {},
     "output_type": "execute_result"
    }
   ],
   "source": [
    "import matplotlib.pyplot as plt\n",
    "%matplotlib inline\n",
    "import string\n",
    "import numpy as np\n",
    "\n",
    "from braket.circuits import Circuit\n",
    "from braket.devices import LocalSimulator\n",
    "\n",
    "#for Gates query\n",
    "from braket.circuits import Gate\n",
    "from braket.circuits import Instruction\n",
    "\n",
    "#for braket devices\n",
    "from braket.aws import AwsDevice\n",
    "\n",
    "import braket._sdk as braket_sdk\n",
    "braket_sdk.__version__"
   ]
  },
  {
   "cell_type": "markdown",
   "id": "48ecc6cd",
   "metadata": {},
   "source": [
    "## Bell state circuit\n",
    "\n",
    "Here comes a Bell state with two qubits"
   ]
  },
  {
   "cell_type": "code",
   "execution_count": 2,
   "id": "20e3b1c6",
   "metadata": {},
   "outputs": [
    {
     "name": "stdout",
     "output_type": "stream",
     "text": [
      "T  : |0|1|\n",
      "          \n",
      "q0 : -H-C-\n",
      "        | \n",
      "q1 : ---X-\n",
      "\n",
      "T  : |0|1|\n"
     ]
    }
   ],
   "source": [
    "bell = Circuit().h(0).cnot(control=0, target=1)\n",
    "print(bell)"
   ]
  },
  {
   "cell_type": "markdown",
   "id": "4bca0b7a",
   "metadata": {},
   "source": [
    "## Submit the circuit to the local simulator and obtain the results\n",
    "\n",
    "Here we submit our circuit to the local simulator and obtain the results."
   ]
  },
  {
   "cell_type": "code",
   "execution_count": 3,
   "id": "cdd3e691",
   "metadata": {},
   "outputs": [
    {
     "name": "stdout",
     "output_type": "stream",
     "text": [
      "Counter({'11': 52, '00': 48})\n"
     ]
    }
   ],
   "source": [
    "# set up device\n",
    "device = LocalSimulator()\n",
    "# run circuit\n",
    "result = device.run(bell, shots=100).result()\n",
    "# get measurement shots\n",
    "counts = result.measurement_counts\n",
    "# print counts\n",
    "print(counts)"
   ]
  },
  {
   "cell_type": "code",
   "execution_count": 4,
   "id": "a3913817",
   "metadata": {},
   "outputs": [
    {
     "data": {
      "text/plain": [
       "Text(0, 0.5, 'counts')"
      ]
     },
     "execution_count": 4,
     "metadata": {},
     "output_type": "execute_result"
    },
    {
     "data": {
      "image/png": "[encoded data removed]",
      "text/plain": [
       "<Figure size 640x480 with 1 Axes>"
      ]
     },
     "metadata": {},
     "output_type": "display_data"
    }
   ],
   "source": [
    "plt.bar(counts.keys(), counts.values())\n",
    "plt.xlabel('bitstrings')\n",
    "plt.ylabel('counts')"
   ]
  },
  {
   "cell_type": "markdown",
   "id": "c95d2979",
   "metadata": {},
   "source": [
    "### Let's complicate the circuit abit more"
   ]
  },
  {
   "cell_type": "markdown",
   "id": "6a523aa8",
   "metadata": {},
   "source": [
    "<div class=\"alert alert-block alert-info\">\n",
    " <b>dive deep!</b> let's try other gates and maybe add random rotations or implement a circuit we tried before </br>  supported gates <a href=\"https://docs.aws.amazon.com/braket/latest/developerguide/braket-constructing-circuit.html#braket-gates\">in the developer guide</a>.\n",
    "</br>The source code for gate definitions are available in braket.circuit <a href=\"https://github.com/aws/amazon-braket-sdk-python/blob/main/src/braket/circuits/circuit.py\"> in the braket source code</a>\n",
    "\n",
    "Many of the examples here and text are following Braket tutorials and the SDK documentations\n",
    "</div>"
   ]
  },
  {
   "cell_type": "code",
   "execution_count": 5,
   "id": "c071d368",
   "metadata": {},
   "outputs": [
    {
     "name": "stdout",
     "output_type": "stream",
     "text": [
      "T  : |0| 1 |\n",
      "            \n",
      "q0 : -H-C---\n",
      "        |   \n",
      "q1 : -H-|-C-\n",
      "        | | \n",
      "q2 : -H-X-|-\n",
      "          | \n",
      "q3 : -H---X-\n",
      "\n",
      "T  : |0| 1 |\n"
     ]
    }
   ],
   "source": [
    "#let's make the circuit with 4qubits\n",
    "bell_4q = Circuit().h(range(4)).cnot(control = 0, target = 2).cnot(control = 1, target = 3)\n",
    "print(bell_4q)"
   ]
  },
  {
   "cell_type": "code",
   "execution_count": 6,
   "id": "04deedfe",
   "metadata": {},
   "outputs": [
    {
     "name": "stdout",
     "output_type": "stream",
     "text": [
      "Counter({'11': 52, '00': 48})\n"
     ]
    },
    {
     "data": {
      "text/plain": [
       "Text(0, 0.5, 'counts')"
      ]
     },
     "execution_count": 6,
     "metadata": {},
     "output_type": "execute_result"
    },
    {
     "data": {
      "image/png": "[encoded data removed]",
      "text/plain": [
       "<Figure size 640x480 with 1 Axes>"
      ]
     },
     "metadata": {},
     "output_type": "display_data"
    }
   ],
   "source": [
    "# let's simulate it\n",
    "device = LocalSimulator()\n",
    "result = device.run(bell, shots=100).result()\n",
    "counts = result.measurement_counts\n",
    "print(counts)\n",
    "# Let's plot using counts\n",
    "plt.bar(counts.keys(), counts.values())\n",
    "plt.xlabel('bitstrings')\n",
    "plt.ylabel('counts')"
   ]
  },
  {
   "cell_type": "code",
   "execution_count": 7,
   "id": "8510e060",
   "metadata": {},
   "outputs": [
    {
     "name": "stdout",
     "output_type": "stream",
     "text": [
      "['CCNot', 'CNot', 'CPhaseShift', 'CPhaseShift00', 'CPhaseShift01', 'CPhaseShift10', 'CSwap', 'CV', 'CY', 'CZ', 'ECR', 'GPi', 'GPi2', 'H', 'I', 'ISwap', 'MS', 'PSwap', 'PhaseShift', 'PulseGate', 'Rx', 'Ry', 'Rz', 'S', 'Si', 'Swap', 'T', 'Ti', 'Unitary', 'V', 'Vi', 'X', 'XX', 'XY', 'Y', 'YY', 'Z', 'ZZ']\n"
     ]
    }
   ],
   "source": [
    "# what are the available Gates in Circuit()\n",
    "gate_set = [attr for attr in dir(Gate) if attr[0] in string.ascii_uppercase]\n",
    "print(gate_set)"
   ]
  },
  {
   "cell_type": "code",
   "execution_count": 8,
   "id": "2092ac55",
   "metadata": {},
   "outputs": [],
   "source": [
    "#let's play abit with those gates\n",
    "gates_circuit = Circuit()"
   ]
  },
  {
   "cell_type": "code",
   "execution_count": 9,
   "id": "ef14e81a",
   "metadata": {},
   "outputs": [
    {
     "name": "stdout",
     "output_type": "stream",
     "text": [
      "T  : |0|\n",
      "        \n",
      "q0 : -C-\n",
      "      | \n",
      "q1 : -C-\n",
      "      | \n",
      "q2 : -X-\n",
      "\n",
      "T  : |0|\n"
     ]
    }
   ],
   "source": [
    "# toffoli gate with q0, q1 the control qubits and q2 the target.\n",
    "gates_circuit = gates_circuit.ccnot(0, 1, 2)\n",
    "print(gates_circuit)"
   ]
  },
  {
   "cell_type": "code",
   "execution_count": 10,
   "id": "a88abf4e",
   "metadata": {},
   "outputs": [
    {
     "name": "stdout",
     "output_type": "stream",
     "text": [
      "T  : |0|1|\n",
      "          \n",
      "q0 : -C-C-\n",
      "      | | \n",
      "q1 : -C-X-\n",
      "      |   \n",
      "q2 : -X---\n",
      "\n",
      "T  : |0|1|\n"
     ]
    }
   ],
   "source": [
    "# cnot gate\n",
    "gates_circuit = gates_circuit.cnot(0, 1)\n",
    "print(gates_circuit)"
   ]
  },
  {
   "cell_type": "code",
   "execution_count": 11,
   "id": "6e55d0a4",
   "metadata": {},
   "outputs": [
    {
     "name": "stdout",
     "output_type": "stream",
     "text": [
      "T  : |0|1|     2     |\n",
      "                      \n",
      "q0 : -C-C-C-----------\n",
      "      | | |           \n",
      "q1 : -C-X-PHASE(0.15)-\n",
      "      |               \n",
      "q2 : -X---------------\n",
      "\n",
      "T  : |0|1|     2     |\n"
     ]
    }
   ],
   "source": [
    "# controlled-phase gate that phases the |11> state, cphaseshift(phi) = diag((1,1,1,exp(1j*phi))), where phi=0.15 in the examples below\n",
    "gates_circuit = gates_circuit.cphaseshift(0, 1, 0.15)\n",
    "print(gates_circuit)"
   ]
  },
  {
   "cell_type": "code",
   "execution_count": 12,
   "id": "eb9c21dd",
   "metadata": {},
   "outputs": [
    {
     "name": "stdout",
     "output_type": "stream",
     "text": [
      "T  : |0|1|     2     |      3      |\n",
      "                                    \n",
      "q0 : -C-C-C-----------C-------------\n",
      "      | | |           |             \n",
      "q1 : -C-X-PHASE(0.15)-PHASE00(0.15)-\n",
      "      |                             \n",
      "q2 : -X-----------------------------\n",
      "\n",
      "T  : |0|1|     2     |      3      |\n"
     ]
    }
   ],
   "source": [
    "# controlled-phase gate that phases the |00> state, cphaseshift00(phi) = diag([exp(1j*phi),1,1,1])\n",
    "gates_circuit = gates_circuit.cphaseshift00(0, 1, 0.15)\n",
    "print(gates_circuit)"
   ]
  },
  {
   "cell_type": "code",
   "execution_count": 13,
   "id": "5b315b33",
   "metadata": {},
   "outputs": [
    {
     "name": "stdout",
     "output_type": "stream",
     "text": [
      "T  : |0|1|     2     |      3      |      4      |\n",
      "                                                  \n",
      "q0 : -C-C-C-----------C-------------C-------------\n",
      "      | | |           |             |             \n",
      "q1 : -C-X-PHASE(0.15)-PHASE00(0.15)-PHASE01(0.15)-\n",
      "      |                                           \n",
      "q2 : -X-------------------------------------------\n",
      "\n",
      "T  : |0|1|     2     |      3      |      4      |\n"
     ]
    }
   ],
   "source": [
    "# controlled-phase gate that phases the |01> state, cphaseshift01(phi) = diag([1,exp(1j*phi),1,1])\n",
    "gates_circuit = gates_circuit.cphaseshift01(0, 1, 0.15)\n",
    "print(gates_circuit)"
   ]
  },
  {
   "cell_type": "code",
   "execution_count": 14,
   "id": "800d8982",
   "metadata": {},
   "outputs": [
    {
     "name": "stdout",
     "output_type": "stream",
     "text": [
      "T  : |0|1|     2     |      3      |      4      |      5      |\n",
      "                                                                \n",
      "q0 : -C-C-C-----------C-------------C-------------C-------------\n",
      "      | | |           |             |             |             \n",
      "q1 : -C-X-PHASE(0.15)-PHASE00(0.15)-PHASE01(0.15)-PHASE10(0.15)-\n",
      "      |                                                         \n",
      "q2 : -X---------------------------------------------------------\n",
      "\n",
      "T  : |0|1|     2     |      3      |      4      |      5      |\n"
     ]
    }
   ],
   "source": [
    "# controlled-phase gate that phases the |10> state, cphaseshift10(phi) = diag([1,1,exp(1j*phi),1])\n",
    "gates_circuit = gates_circuit.cphaseshift10(0, 1, 0.15)\n",
    "print(gates_circuit)"
   ]
  },
  {
   "cell_type": "code",
   "execution_count": 15,
   "id": "82b51c93",
   "metadata": {},
   "outputs": [
    {
     "name": "stdout",
     "output_type": "stream",
     "text": [
      "T  : |0|1|     2     |      3      |      4      |      5      | 6  |\n",
      "                                                                     \n",
      "q0 : -C-C-C-----------C-------------C-------------C-------------C----\n",
      "      | | |           |             |             |             |    \n",
      "q1 : -C-X-PHASE(0.15)-PHASE00(0.15)-PHASE01(0.15)-PHASE10(0.15)-SWAP-\n",
      "      |                                                         |    \n",
      "q2 : -X---------------------------------------------------------SWAP-\n",
      "\n",
      "T  : |0|1|     2     |      3      |      4      |      5      | 6  |\n"
     ]
    }
   ],
   "source": [
    "# controlled swap gate\n",
    "gates_circuit = gates_circuit.cswap(0, 1, 2)\n",
    "print(gates_circuit)"
   ]
  },
  {
   "cell_type": "code",
   "execution_count": 16,
   "id": "cde54067",
   "metadata": {},
   "outputs": [
    {
     "name": "stdout",
     "output_type": "stream",
     "text": [
      "T  : |0|1|     2     |      3      |      4      |      5      | 6  | 7  |\n",
      "                                                                          \n",
      "q0 : -C-C-C-----------C-------------C-------------C-------------C----SWAP-\n",
      "      | | |           |             |             |             |    |    \n",
      "q1 : -C-X-PHASE(0.15)-PHASE00(0.15)-PHASE01(0.15)-PHASE10(0.15)-SWAP-SWAP-\n",
      "      |                                                         |         \n",
      "q2 : -X---------------------------------------------------------SWAP------\n",
      "\n",
      "T  : |0|1|     2     |      3      |      4      |      5      | 6  | 7  |\n"
     ]
    }
   ],
   "source": [
    "# swap gate\n",
    "gates_circuit = gates_circuit.swap(0,1)\n",
    "print(gates_circuit)"
   ]
  },
  {
   "cell_type": "code",
   "execution_count": 17,
   "id": "2bf30db3",
   "metadata": {},
   "outputs": [
    {
     "name": "stdout",
     "output_type": "stream",
     "text": [
      "T  : |0|1|     2     |      3      |      4      |      5      | 6  | 7  |     8     |\n",
      "                                                                                      \n",
      "q0 : -C-C-C-----------C-------------C-------------C-------------C----SWAP-PHASE(0.15)-\n",
      "      | | |           |             |             |             |    |                \n",
      "q1 : -C-X-PHASE(0.15)-PHASE00(0.15)-PHASE01(0.15)-PHASE10(0.15)-SWAP-SWAP-------------\n",
      "      |                                                         |                     \n",
      "q2 : -X---------------------------------------------------------SWAP------------------\n",
      "\n",
      "T  : |0|1|     2     |      3      |      4      |      5      | 6  | 7  |     8     |\n"
     ]
    }
   ],
   "source": [
    "# phaseshift(phi)= diag([1,exp(1j*phi)])\n",
    "gates_circuit = gates_circuit.phaseshift(0,0.15)\n",
    "print(gates_circuit)"
   ]
  },
  {
   "cell_type": "code",
   "execution_count": 18,
   "id": "5bc775fd",
   "metadata": {},
   "outputs": [
    {
     "name": "stdout",
     "output_type": "stream",
     "text": [
      "T  : |0|1|     2     |      3      |      4      |      5      | 6  | 7  |     8     |9|\n",
      "                                                                                        \n",
      "q0 : -C-C-C-----------C-------------C-------------C-------------C----SWAP-PHASE(0.15)-C-\n",
      "      | | |           |             |             |             |    |                | \n",
      "q1 : -C-X-PHASE(0.15)-PHASE00(0.15)-PHASE01(0.15)-PHASE10(0.15)-SWAP-SWAP-------------Y-\n",
      "      |                                                         |                       \n",
      "q2 : -X---------------------------------------------------------SWAP--------------------\n",
      "\n",
      "T  : |0|1|     2     |      3      |      4      |      5      | 6  | 7  |     8     |9|\n"
     ]
    }
   ],
   "source": [
    "# controlled Y gate\n",
    "gates_circuit = gates_circuit.cy(0, 1)\n",
    "print(gates_circuit)"
   ]
  },
  {
   "cell_type": "code",
   "execution_count": 19,
   "id": "da516aef",
   "metadata": {},
   "outputs": [
    {
     "name": "stdout",
     "output_type": "stream",
     "text": [
      "T  : |0|1|     2     |      3      |      4      |      5      | 6  | 7  |     8     |9|10|\n",
      "                                                                                           \n",
      "q0 : -C-C-C-----------C-------------C-------------C-------------C----SWAP-PHASE(0.15)-C-C--\n",
      "      | | |           |             |             |             |    |                | |  \n",
      "q1 : -C-X-PHASE(0.15)-PHASE00(0.15)-PHASE01(0.15)-PHASE10(0.15)-SWAP-SWAP-------------Y-Z--\n",
      "      |                                                         |                          \n",
      "q2 : -X---------------------------------------------------------SWAP-----------------------\n",
      "\n",
      "T  : |0|1|     2     |      3      |      4      |      5      | 6  | 7  |     8     |9|10|\n"
     ]
    }
   ],
   "source": [
    "# controlled phase gate\n",
    "gates_circuit = gates_circuit.cz(0, 1)\n",
    "print(gates_circuit)"
   ]
  },
  {
   "cell_type": "code",
   "execution_count": 20,
   "id": "a7b7d8d0",
   "metadata": {},
   "outputs": [],
   "source": [
    "# Let's make a newer gates_circuit2 to continue playing!\n",
    "gates_circuit2 = Circuit()"
   ]
  },
  {
   "cell_type": "code",
   "execution_count": 21,
   "id": "d0cf852d",
   "metadata": {},
   "outputs": [
    {
     "name": "stdout",
     "output_type": "stream",
     "text": [
      "T  : | 0 |\n",
      "          \n",
      "q0 : -ECR-\n",
      "      |   \n",
      "q1 : -ECR-\n",
      "\n",
      "T  : | 0 |\n"
     ]
    }
   ],
   "source": [
    "# Echoed cross-resonance gate applied to q0, q1\n",
    "gates_circuit2 = gates_circuit2.ecr(0,1)\n",
    "print(gates_circuit2)"
   ]
  },
  {
   "cell_type": "code",
   "execution_count": 22,
   "id": "30d71f1f",
   "metadata": {},
   "outputs": [
    {
     "name": "stdout",
     "output_type": "stream",
     "text": [
      "T  : | 0 |   1    |\n",
      "                   \n",
      "q0 : -ECR-Rx(0.15)-\n",
      "      |            \n",
      "q1 : -ECR----------\n",
      "\n",
      "T  : | 0 |   1    |\n"
     ]
    }
   ],
   "source": [
    "# X rotation with angle 0.15\n",
    "gates_circuit2 = gates_circuit2.rx(0, 0.15)\n",
    "print(gates_circuit2)"
   ]
  },
  {
   "cell_type": "code",
   "execution_count": 23,
   "id": "68087aa7",
   "metadata": {},
   "outputs": [
    {
     "name": "stdout",
     "output_type": "stream",
     "text": [
      "T  : | 0 |   1    |   2    |\n",
      "                            \n",
      "q0 : -ECR-Rx(0.15)-Ry(0.15)-\n",
      "      |                     \n",
      "q1 : -ECR-------------------\n",
      "\n",
      "T  : | 0 |   1    |   2    |\n"
     ]
    }
   ],
   "source": [
    "# Y rotation with angle 0.15\n",
    "gates_circuit2 = gates_circuit2.ry(0, 0.15)\n",
    "print(gates_circuit2)"
   ]
  },
  {
   "cell_type": "code",
   "execution_count": 24,
   "id": "40eaf6b1",
   "metadata": {},
   "outputs": [
    {
     "name": "stdout",
     "output_type": "stream",
     "text": [
      "T  : | 0 |   1    |   2    |   3    |\n",
      "                                     \n",
      "q0 : -ECR-Rx(0.15)-Ry(0.15)-Rz(0.15)-\n",
      "      |                              \n",
      "q1 : -ECR----------------------------\n",
      "\n",
      "T  : | 0 |   1    |   2    |   3    |\n"
     ]
    }
   ],
   "source": [
    "# Z rotation with angle 0.15\n",
    "gates_circuit2 = gates_circuit2.rz(0, 0.15)\n",
    "print(gates_circuit2)"
   ]
  },
  {
   "cell_type": "code",
   "execution_count": 25,
   "id": "fa489a26",
   "metadata": {},
   "outputs": [
    {
     "name": "stdout",
     "output_type": "stream",
     "text": [
      "T  : | 0 |   1    |   2    |   3    |4|\n",
      "                                       \n",
      "q0 : -ECR-Rx(0.15)-Ry(0.15)-Rz(0.15)-H-\n",
      "      |                                \n",
      "q1 : -ECR-H----------------------------\n",
      "                                       \n",
      "q2 : -H--------------------------------\n",
      "\n",
      "T  : | 0 |   1    |   2    |   3    |4|\n"
     ]
    }
   ],
   "source": [
    "# Hadamard gates applied to q0, q1, q2\n",
    "gates_circuit2 = gates_circuit2.h(range(3))\n",
    "print(gates_circuit2)"
   ]
  },
  {
   "cell_type": "code",
   "execution_count": 26,
   "id": "9987ddec",
   "metadata": {},
   "outputs": [
    {
     "name": "stdout",
     "output_type": "stream",
     "text": [
      "T  : | 0 |   1    |   2    |   3    |4|  5  |\n",
      "                                             \n",
      "q0 : -ECR-Rx(0.15)-Ry(0.15)-Rz(0.15)-H-ISWAP-\n",
      "      |                                |     \n",
      "q1 : -ECR-H----------------------------ISWAP-\n",
      "                                             \n",
      "q2 : -H--------------------------------------\n",
      "\n",
      "T  : | 0 |   1    |   2    |   3    |4|  5  |\n"
     ]
    }
   ],
   "source": [
    "# iswap gate, iswap = [[1,0,0,0],[0,0,1j,0],[0,1j,0,0],[0,0,0,1]]\n",
    "gates_circuit2 = gates_circuit2.iswap(0, 1)\n",
    "print(gates_circuit2)"
   ]
  },
  {
   "cell_type": "code",
   "execution_count": 27,
   "id": "18b4ee7d",
   "metadata": {},
   "outputs": [
    {
     "name": "stdout",
     "output_type": "stream",
     "text": [
      "T  : | 0 |   1    |   2    |   3    |4|  5  |     6     |\n",
      "                                                         \n",
      "q0 : -ECR-Rx(0.15)-Ry(0.15)-Rz(0.15)-H-ISWAP-PSWAP(0.15)-\n",
      "      |                                |     |           \n",
      "q1 : -ECR-H----------------------------ISWAP-PSWAP(0.15)-\n",
      "                                                         \n",
      "q2 : -H--------------------------------------------------\n",
      "\n",
      "T  : | 0 |   1    |   2    |   3    |4|  5  |     6     |\n"
     ]
    }
   ],
   "source": [
    "# pswap gate, PSWAP(phi) = [[1,0,0,0],[0,0,exp(1j*phi),0],[0,exp(1j*phi),0,0],[0,0,0,1]]\n",
    "gates_circuit2 = gates_circuit2.pswap(0, 1, 0.15)\n",
    "print(gates_circuit2)"
   ]
  },
  {
   "cell_type": "code",
   "execution_count": 28,
   "id": "572c5e88",
   "metadata": {},
   "outputs": [
    {
     "name": "stdout",
     "output_type": "stream",
     "text": [
      "T  : | 0 |   1    |   2    |   3    |4|  5  |     6     |7|\n",
      "                                                           \n",
      "q0 : -ECR-Rx(0.15)-Ry(0.15)-Rz(0.15)-H-ISWAP-PSWAP(0.15)---\n",
      "      |                                |     |             \n",
      "q1 : -ECR-H----------------------------ISWAP-PSWAP(0.15)-X-\n",
      "                                                           \n",
      "q2 : -H---X------------------------------------------------\n",
      "\n",
      "T  : | 0 |   1    |   2    |   3    |4|  5  |     6     |7|\n"
     ]
    }
   ],
   "source": [
    "# X gate applied to q1, q2\n",
    "gates_circuit2 = gates_circuit2.x([1, 2])\n",
    "print(gates_circuit2)"
   ]
  },
  {
   "cell_type": "code",
   "execution_count": null,
   "id": "d73b5d0d",
   "metadata": {},
   "outputs": [],
   "source": []
  },
  {
   "cell_type": "code",
   "execution_count": 29,
   "id": "56634acd",
   "metadata": {},
   "outputs": [
    {
     "name": "stdout",
     "output_type": "stream",
     "text": [
      "T  : | 0 |   1    |   2    |   3    |4|  5  |     6     |7|8|\n",
      "                                                             \n",
      "q0 : -ECR-Rx(0.15)-Ry(0.15)-Rz(0.15)-H-ISWAP-PSWAP(0.15)-----\n",
      "      |                                |     |               \n",
      "q1 : -ECR-H----------------------------ISWAP-PSWAP(0.15)-X-Y-\n",
      "                                                             \n",
      "q2 : -H---X--------Y-----------------------------------------\n",
      "\n",
      "T  : | 0 |   1    |   2    |   3    |4|  5  |     6     |7|8|\n"
     ]
    }
   ],
   "source": [
    "# Y gate applied to q1, q2\n",
    "gates_circuit2 = gates_circuit2.y([1, 2])\n",
    "print(gates_circuit2)"
   ]
  },
  {
   "cell_type": "code",
   "execution_count": 30,
   "id": "82c443fb",
   "metadata": {},
   "outputs": [
    {
     "name": "stdout",
     "output_type": "stream",
     "text": [
      "T  : | 0 |   1    |   2    |   3    |4|  5  |     6     |7|8|9|\n",
      "                                                               \n",
      "q0 : -ECR-Rx(0.15)-Ry(0.15)-Rz(0.15)-H-ISWAP-PSWAP(0.15)-------\n",
      "      |                                |     |                 \n",
      "q1 : -ECR-H----------------------------ISWAP-PSWAP(0.15)-X-Y-Z-\n",
      "                                                               \n",
      "q2 : -H---X--------Y--------Z----------------------------------\n",
      "\n",
      "T  : | 0 |   1    |   2    |   3    |4|  5  |     6     |7|8|9|\n"
     ]
    }
   ],
   "source": [
    "# Z gate applied to q1, q2\n",
    "gates_circuit2 = gates_circuit2.z([1, 2])\n",
    "print(gates_circuit2)"
   ]
  },
  {
   "cell_type": "code",
   "execution_count": 31,
   "id": "2d2e63dc",
   "metadata": {},
   "outputs": [
    {
     "name": "stdout",
     "output_type": "stream",
     "text": [
      "T  : | 0 |   1    |   2    |   3    |4|  5  |     6     |7|8|9|10|\n",
      "                                                                  \n",
      "q0 : -ECR-Rx(0.15)-Ry(0.15)-Rz(0.15)-H-ISWAP-PSWAP(0.15)-S--------\n",
      "      |                                |     |                    \n",
      "q1 : -ECR-H----------------------------ISWAP-PSWAP(0.15)-X-Y-Z-S--\n",
      "                                                                  \n",
      "q2 : -H---X--------Y--------Z--------S----------------------------\n",
      "\n",
      "T  : | 0 |   1    |   2    |   3    |4|  5  |     6     |7|8|9|10|\n"
     ]
    }
   ],
   "source": [
    "# S gate applied to q0, q1, q2\n",
    "gates_circuit2 = gates_circuit2.s([0, 1, 2])\n",
    "print(gates_circuit2)"
   ]
  },
  {
   "cell_type": "code",
   "execution_count": 32,
   "id": "c129aca4",
   "metadata": {},
   "outputs": [
    {
     "name": "stdout",
     "output_type": "stream",
     "text": [
      "T  : | 0 |   1    |   2    |   3    |4|  5  |     6     |7|8 |9|10|11|\n",
      "                                                                      \n",
      "q0 : -ECR-Rx(0.15)-Ry(0.15)-Rz(0.15)-H-ISWAP-PSWAP(0.15)-S-Si---------\n",
      "      |                                |     |                        \n",
      "q1 : -ECR-H----------------------------ISWAP-PSWAP(0.15)-X-Y--Z-S--Si-\n",
      "                                                                      \n",
      "q2 : -H---X--------Y--------Z--------S--------------------------------\n",
      "\n",
      "T  : | 0 |   1    |   2    |   3    |4|  5  |     6     |7|8 |9|10|11|\n"
     ]
    }
   ],
   "source": [
    "# conjugate transpose of S gate applied to q0, q1\n",
    "gates_circuit2 = gates_circuit2.si([0, 1])\n",
    "print(gates_circuit2)"
   ]
  },
  {
   "cell_type": "code",
   "execution_count": 33,
   "id": "b6e5719e",
   "metadata": {},
   "outputs": [
    {
     "name": "stdout",
     "output_type": "stream",
     "text": [
      "T  : | 0 |   1    |   2    |   3    |4|  5  |     6     |7|8 |9|10|11|12|\n",
      "                                                                         \n",
      "q0 : -ECR-Rx(0.15)-Ry(0.15)-Rz(0.15)-H-ISWAP-PSWAP(0.15)-S-Si-T----------\n",
      "      |                                |     |                           \n",
      "q1 : -ECR-H----------------------------ISWAP-PSWAP(0.15)-X-Y--Z-S--Si-T--\n",
      "                                                                         \n",
      "q2 : -H---X--------Y--------Z--------S-----------------------------------\n",
      "\n",
      "T  : | 0 |   1    |   2    |   3    |4|  5  |     6     |7|8 |9|10|11|12|\n"
     ]
    }
   ],
   "source": [
    "# T gate applied to q0, q1\n",
    "gates_circuit2 = gates_circuit2.t([0, 1])\n",
    "print(gates_circuit2)"
   ]
  },
  {
   "cell_type": "code",
   "execution_count": 34,
   "id": "a279ae5b",
   "metadata": {},
   "outputs": [
    {
     "name": "stdout",
     "output_type": "stream",
     "text": [
      "T  : | 0 |   1    |   2    |   3    |4|  5  |     6     |7|8 |9|10|11|12|13|\n",
      "                                                                            \n",
      "q0 : -ECR-Rx(0.15)-Ry(0.15)-Rz(0.15)-H-ISWAP-PSWAP(0.15)-S-Si-T-Ti----------\n",
      "      |                                |     |                              \n",
      "q1 : -ECR-H----------------------------ISWAP-PSWAP(0.15)-X-Y--Z-S--Si-T--Ti-\n",
      "                                                                            \n",
      "q2 : -H---X--------Y--------Z--------S--------------------------------------\n",
      "\n",
      "T  : | 0 |   1    |   2    |   3    |4|  5  |     6     |7|8 |9|10|11|12|13|\n"
     ]
    }
   ],
   "source": [
    "# conjugate transpose of T gate applied to q0, q1\n",
    "gates_circuit2 = gates_circuit2.ti([0, 1])\n",
    "print(gates_circuit2)"
   ]
  },
  {
   "cell_type": "code",
   "execution_count": 35,
   "id": "a2c00d32",
   "metadata": {},
   "outputs": [
    {
     "name": "stdout",
     "output_type": "stream",
     "text": [
      "T  : | 0 |   1    |   2    |   3    |4|  5  |     6     |7|8 |9|10|11|12|13|14|\n",
      "                                                                               \n",
      "q0 : -ECR-Rx(0.15)-Ry(0.15)-Rz(0.15)-H-ISWAP-PSWAP(0.15)-S-Si-T-Ti-V-----------\n",
      "      |                                |     |                                 \n",
      "q1 : -ECR-H----------------------------ISWAP-PSWAP(0.15)-X-Y--Z-S--Si-T--Ti-V--\n",
      "                                                                               \n",
      "q2 : -H---X--------Y--------Z--------S-V---------------------------------------\n",
      "\n",
      "T  : | 0 |   1    |   2    |   3    |4|  5  |     6     |7|8 |9|10|11|12|13|14|\n"
     ]
    }
   ],
   "source": [
    "# square root of not gate applied to q0, q1, q2\n",
    "gates_circuit2 = gates_circuit2.v([0, 1, 2])\n",
    "print(gates_circuit2)"
   ]
  },
  {
   "cell_type": "code",
   "execution_count": 36,
   "id": "647429a3",
   "metadata": {},
   "outputs": [
    {
     "name": "stdout",
     "output_type": "stream",
     "text": [
      "T  : | 0 |   1    |   2    |   3    |4|  5  |     6     |7|8 |9|10|11|12|13|14|15|\n",
      "                                                                                  \n",
      "q0 : -ECR-Rx(0.15)-Ry(0.15)-Rz(0.15)-H-ISWAP-PSWAP(0.15)-S-Si-T-Ti-V--Vi----------\n",
      "      |                                |     |                                    \n",
      "q1 : -ECR-H----------------------------ISWAP-PSWAP(0.15)-X-Y--Z-S--Si-T--Ti-V--Vi-\n",
      "                                                                                  \n",
      "q2 : -H---X--------Y--------Z--------S-V-----Vi-----------------------------------\n",
      "\n",
      "T  : | 0 |   1    |   2    |   3    |4|  5  |     6     |7|8 |9|10|11|12|13|14|15|\n"
     ]
    }
   ],
   "source": [
    "# conjugate transpose of square root of not gate applied to q0, q1, q2\n",
    "gates_circuit2 = gates_circuit2.vi([0, 1, 2])\n",
    "print(gates_circuit2)"
   ]
  },
  {
   "cell_type": "code",
   "execution_count": 37,
   "id": "055c0899",
   "metadata": {},
   "outputs": [
    {
     "name": "stdout",
     "output_type": "stream",
     "text": [
      "T  : | 0 |   1    |   2    |   3    |4|  5  |     6     |7|8 |9|10|11|12|13|14|15|   16   |\n",
      "                                                                                           \n",
      "q0 : -ECR-Rx(0.15)-Ry(0.15)-Rz(0.15)-H-ISWAP-PSWAP(0.15)-S-Si-T-Ti-V--Vi----------XX(0.15)-\n",
      "      |                                |     |                                    |        \n",
      "q1 : -ECR-H----------------------------ISWAP-PSWAP(0.15)-X-Y--Z-S--Si-T--Ti-V--Vi-XX(0.15)-\n",
      "                                                                                           \n",
      "q2 : -H---X--------Y--------Z--------S-V-----Vi--------------------------------------------\n",
      "\n",
      "T  : | 0 |   1    |   2    |   3    |4|  5  |     6     |7|8 |9|10|11|12|13|14|15|   16   |\n"
     ]
    }
   ],
   "source": [
    "# exp(i(XX+YY) theta/4), where theta=0.15 in the examples below\n",
    "gates_circuit2 = gates_circuit2.xx(0, 1, 0.15)\n",
    "print(gates_circuit2)"
   ]
  },
  {
   "cell_type": "code",
   "execution_count": 38,
   "id": "2acb2f5b",
   "metadata": {},
   "outputs": [
    {
     "name": "stdout",
     "output_type": "stream",
     "text": [
      "T  : | 0 |   1    |   2    |   3    |4|  5  |     6     |7|8 |9|10|11|12|13|14|15|   16   |   17   |\n",
      "                                                                                                    \n",
      "q0 : -ECR-Rx(0.15)-Ry(0.15)-Rz(0.15)-H-ISWAP-PSWAP(0.15)-S-Si-T-Ti-V--Vi----------XX(0.15)-XY(0.15)-\n",
      "      |                                |     |                                    |        |        \n",
      "q1 : -ECR-H----------------------------ISWAP-PSWAP(0.15)-X-Y--Z-S--Si-T--Ti-V--Vi-XX(0.15)-XY(0.15)-\n",
      "                                                                                                    \n",
      "q2 : -H---X--------Y--------Z--------S-V-----Vi-----------------------------------------------------\n",
      "\n",
      "T  : | 0 |   1    |   2    |   3    |4|  5  |     6     |7|8 |9|10|11|12|13|14|15|   16   |   17   |\n"
     ]
    }
   ],
   "source": [
    "# exp(-iXY theta/2)\n",
    "gates_circuit2 = gates_circuit2.xy(0, 1, 0.15)\n",
    "print(gates_circuit2)"
   ]
  },
  {
   "cell_type": "code",
   "execution_count": 39,
   "id": "db044d6f",
   "metadata": {},
   "outputs": [
    {
     "name": "stdout",
     "output_type": "stream",
     "text": [
      "T  : | 0 |   1    |   2    |   3    |4|  5  |     6     |7|8 |9|10|11|12|13|14|15|   16   |   17   |   18   |\n",
      "                                                                                                             \n",
      "q0 : -ECR-Rx(0.15)-Ry(0.15)-Rz(0.15)-H-ISWAP-PSWAP(0.15)-S-Si-T-Ti-V--Vi----------XX(0.15)-XY(0.15)-YY(0.15)-\n",
      "      |                                |     |                                    |        |        |        \n",
      "q1 : -ECR-H----------------------------ISWAP-PSWAP(0.15)-X-Y--Z-S--Si-T--Ti-V--Vi-XX(0.15)-XY(0.15)-YY(0.15)-\n",
      "                                                                                                             \n",
      "q2 : -H---X--------Y--------Z--------S-V-----Vi--------------------------------------------------------------\n",
      "\n",
      "T  : | 0 |   1    |   2    |   3    |4|  5  |     6     |7|8 |9|10|11|12|13|14|15|   16   |   17   |   18   |\n"
     ]
    }
   ],
   "source": [
    "# exp(-iYY theta/2)\n",
    "gates_circuit2 = gates_circuit2.yy(0, 1, 0.15)\n",
    "print(gates_circuit2)"
   ]
  },
  {
   "cell_type": "code",
   "execution_count": 40,
   "id": "7e5a876f",
   "metadata": {},
   "outputs": [
    {
     "name": "stdout",
     "output_type": "stream",
     "text": [
      "T  : | 0 |   1    |   2    |   3    |4|  5  |     6     |7|8 |9|10|11|12|13|14|15|   16   |   17   |   18   |   19   |\n",
      "                                                                                                                      \n",
      "q0 : -ECR-Rx(0.15)-Ry(0.15)-Rz(0.15)-H-ISWAP-PSWAP(0.15)-S-Si-T-Ti-V--Vi----------XX(0.15)-XY(0.15)-YY(0.15)-ZZ(0.15)-\n",
      "      |                                |     |                                    |        |        |        |        \n",
      "q1 : -ECR-H----------------------------ISWAP-PSWAP(0.15)-X-Y--Z-S--Si-T--Ti-V--Vi-XX(0.15)-XY(0.15)-YY(0.15)-ZZ(0.15)-\n",
      "                                                                                                                      \n",
      "q2 : -H---X--------Y--------Z--------S-V-----Vi-----------------------------------------------------------------------\n",
      "\n",
      "T  : | 0 |   1    |   2    |   3    |4|  5  |     6     |7|8 |9|10|11|12|13|14|15|   16   |   17   |   18   |   19   |\n"
     ]
    }
   ],
   "source": [
    "# exp(-iZZ theta/2)\n",
    "gates_circuit2 = gates_circuit2.zz(0, 1, 0.15)\n",
    "print(gates_circuit2)"
   ]
  },
  {
   "cell_type": "code",
   "execution_count": 41,
   "id": "ee17f4d4",
   "metadata": {},
   "outputs": [
    {
     "data": {
      "text/plain": [
       "Circuit('instructions': [Instruction('operator': ECR('qubit_count': 2), 'target': QubitSet([Qubit(0), Qubit(1)])), Instruction('operator': Rx('angle': 0.15, 'qubit_count': 1), 'target': QubitSet([Qubit(0)])), Instruction('operator': Ry('angle': 0.15, 'qubit_count': 1), 'target': QubitSet([Qubit(0)])), Instruction('operator': Rz('angle': 0.15, 'qubit_count': 1), 'target': QubitSet([Qubit(0)])), Instruction('operator': H('qubit_count': 1), 'target': QubitSet([Qubit(0)])), Instruction('operator': H('qubit_count': 1), 'target': QubitSet([Qubit(1)])), Instruction('operator': H('qubit_count': 1), 'target': QubitSet([Qubit(2)])), Instruction('operator': ISwap('qubit_count': 2), 'target': QubitSet([Qubit(0), Qubit(1)])), Instruction('operator': PSwap('angle': 0.15, 'qubit_count': 2), 'target': QubitSet([Qubit(0), Qubit(1)])), Instruction('operator': X('qubit_count': 1), 'target': QubitSet([Qubit(1)])), Instruction('operator': X('qubit_count': 1), 'target': QubitSet([Qubit(2)])), Instruction('operator': Y('qubit_count': 1), 'target': QubitSet([Qubit(1)])), Instruction('operator': Y('qubit_count': 1), 'target': QubitSet([Qubit(2)])), Instruction('operator': Z('qubit_count': 1), 'target': QubitSet([Qubit(1)])), Instruction('operator': Z('qubit_count': 1), 'target': QubitSet([Qubit(2)])), Instruction('operator': S('qubit_count': 1), 'target': QubitSet([Qubit(0)])), Instruction('operator': S('qubit_count': 1), 'target': QubitSet([Qubit(1)])), Instruction('operator': S('qubit_count': 1), 'target': QubitSet([Qubit(2)])), Instruction('operator': Si('qubit_count': 1), 'target': QubitSet([Qubit(0)])), Instruction('operator': Si('qubit_count': 1), 'target': QubitSet([Qubit(1)])), Instruction('operator': T('qubit_count': 1), 'target': QubitSet([Qubit(0)])), Instruction('operator': T('qubit_count': 1), 'target': QubitSet([Qubit(1)])), Instruction('operator': Ti('qubit_count': 1), 'target': QubitSet([Qubit(0)])), Instruction('operator': Ti('qubit_count': 1), 'target': QubitSet([Qubit(1)])), Instruction('operator': V('qubit_count': 1), 'target': QubitSet([Qubit(0)])), Instruction('operator': V('qubit_count': 1), 'target': QubitSet([Qubit(1)])), Instruction('operator': V('qubit_count': 1), 'target': QubitSet([Qubit(2)])), Instruction('operator': Vi('qubit_count': 1), 'target': QubitSet([Qubit(0)])), Instruction('operator': Vi('qubit_count': 1), 'target': QubitSet([Qubit(1)])), Instruction('operator': Vi('qubit_count': 1), 'target': QubitSet([Qubit(2)])), Instruction('operator': XX('angle': 0.15, 'qubit_count': 2), 'target': QubitSet([Qubit(0), Qubit(1)])), Instruction('operator': XY('angle': 0.15, 'qubit_count': 2), 'target': QubitSet([Qubit(0), Qubit(1)])), Instruction('operator': YY('angle': 0.15, 'qubit_count': 2), 'target': QubitSet([Qubit(0), Qubit(1)])), Instruction('operator': ZZ('angle': 0.15, 'qubit_count': 2), 'target': QubitSet([Qubit(0), Qubit(1)])), Instruction('operator': I('qubit_count': 1), 'target': QubitSet([Qubit(0)])), Instruction('operator': I('qubit_count': 1), 'target': QubitSet([Qubit(1)])), Instruction('operator': I('qubit_count': 1), 'target': QubitSet([Qubit(2)]))])"
      ]
     },
     "execution_count": 41,
     "metadata": {},
     "output_type": "execute_result"
    }
   ],
   "source": [
    "# identity gates applied to q0, q1, q2\n",
    "gates_circuit2.i([0, 1, 2])"
   ]
  },
  {
   "cell_type": "code",
   "execution_count": 42,
   "id": "f931ce8a",
   "metadata": {},
   "outputs": [
    {
     "name": "stdout",
     "output_type": "stream",
     "text": [
      "Instruction('operator': ECR('qubit_count': 2), 'target': QubitSet([Qubit(0), Qubit(1)]))\n",
      "Instruction('operator': Rx('angle': 0.15, 'qubit_count': 1), 'target': QubitSet([Qubit(0)]))\n",
      "Instruction('operator': Ry('angle': 0.15, 'qubit_count': 1), 'target': QubitSet([Qubit(0)]))\n",
      "Instruction('operator': Rz('angle': 0.15, 'qubit_count': 1), 'target': QubitSet([Qubit(0)]))\n",
      "Instruction('operator': H('qubit_count': 1), 'target': QubitSet([Qubit(0)]))\n",
      "Instruction('operator': H('qubit_count': 1), 'target': QubitSet([Qubit(1)]))\n",
      "Instruction('operator': H('qubit_count': 1), 'target': QubitSet([Qubit(2)]))\n",
      "Instruction('operator': ISwap('qubit_count': 2), 'target': QubitSet([Qubit(0), Qubit(1)]))\n",
      "Instruction('operator': PSwap('angle': 0.15, 'qubit_count': 2), 'target': QubitSet([Qubit(0), Qubit(1)]))\n",
      "Instruction('operator': X('qubit_count': 1), 'target': QubitSet([Qubit(1)]))\n",
      "Instruction('operator': X('qubit_count': 1), 'target': QubitSet([Qubit(2)]))\n",
      "Instruction('operator': Y('qubit_count': 1), 'target': QubitSet([Qubit(1)]))\n",
      "Instruction('operator': Y('qubit_count': 1), 'target': QubitSet([Qubit(2)]))\n",
      "Instruction('operator': Z('qubit_count': 1), 'target': QubitSet([Qubit(1)]))\n",
      "Instruction('operator': Z('qubit_count': 1), 'target': QubitSet([Qubit(2)]))\n",
      "Instruction('operator': S('qubit_count': 1), 'target': QubitSet([Qubit(0)]))\n",
      "Instruction('operator': S('qubit_count': 1), 'target': QubitSet([Qubit(1)]))\n",
      "Instruction('operator': S('qubit_count': 1), 'target': QubitSet([Qubit(2)]))\n",
      "Instruction('operator': Si('qubit_count': 1), 'target': QubitSet([Qubit(0)]))\n",
      "Instruction('operator': Si('qubit_count': 1), 'target': QubitSet([Qubit(1)]))\n",
      "Instruction('operator': T('qubit_count': 1), 'target': QubitSet([Qubit(0)]))\n",
      "Instruction('operator': T('qubit_count': 1), 'target': QubitSet([Qubit(1)]))\n",
      "Instruction('operator': Ti('qubit_count': 1), 'target': QubitSet([Qubit(0)]))\n",
      "Instruction('operator': Ti('qubit_count': 1), 'target': QubitSet([Qubit(1)]))\n",
      "Instruction('operator': V('qubit_count': 1), 'target': QubitSet([Qubit(0)]))\n",
      "Instruction('operator': V('qubit_count': 1), 'target': QubitSet([Qubit(1)]))\n",
      "Instruction('operator': V('qubit_count': 1), 'target': QubitSet([Qubit(2)]))\n",
      "Instruction('operator': Vi('qubit_count': 1), 'target': QubitSet([Qubit(0)]))\n",
      "Instruction('operator': Vi('qubit_count': 1), 'target': QubitSet([Qubit(1)]))\n",
      "Instruction('operator': Vi('qubit_count': 1), 'target': QubitSet([Qubit(2)]))\n",
      "Instruction('operator': XX('angle': 0.15, 'qubit_count': 2), 'target': QubitSet([Qubit(0), Qubit(1)]))\n",
      "Instruction('operator': XY('angle': 0.15, 'qubit_count': 2), 'target': QubitSet([Qubit(0), Qubit(1)]))\n",
      "Instruction('operator': YY('angle': 0.15, 'qubit_count': 2), 'target': QubitSet([Qubit(0), Qubit(1)]))\n",
      "Instruction('operator': ZZ('angle': 0.15, 'qubit_count': 2), 'target': QubitSet([Qubit(0), Qubit(1)]))\n",
      "Instruction('operator': I('qubit_count': 1), 'target': QubitSet([Qubit(0)]))\n",
      "Instruction('operator': I('qubit_count': 1), 'target': QubitSet([Qubit(1)]))\n",
      "Instruction('operator': I('qubit_count': 1), 'target': QubitSet([Qubit(2)]))\n"
     ]
    }
   ],
   "source": [
    "#for better formatting\n",
    "for instr in gates_circuit2.instructions:\n",
    "     print(instr)"
   ]
  },
  {
   "cell_type": "code",
   "execution_count": 43,
   "id": "43eb9791",
   "metadata": {},
   "outputs": [
    {
     "name": "stdout",
     "output_type": "stream",
     "text": [
      "T  : |0|\n",
      "        \n",
      "q0 : -H-\n",
      "\n",
      "T  : |0|\n"
     ]
    }
   ],
   "source": [
    "# very simple circuit\n",
    "simple_circuit = Circuit()\n",
    "# let's apply Hadamard gate \n",
    "simple_circuit = simple_circuit.h(0)\n",
    "print(simple_circuit)"
   ]
  },
  {
   "cell_type": "markdown",
   "id": "d95b378a",
   "metadata": {},
   "source": [
    "#### retrieve circuit instructions"
   ]
  },
  {
   "cell_type": "code",
   "execution_count": 44,
   "id": "5a457f78",
   "metadata": {},
   "outputs": [
    {
     "data": {
      "text/plain": [
       "Circuit('instructions': [Instruction('operator': H('qubit_count': 1), 'target': QubitSet([Qubit(0)])), Instruction('operator': I('qubit_count': 1), 'target': QubitSet([Qubit(0)]))])"
      ]
     },
     "execution_count": 44,
     "metadata": {},
     "output_type": "execute_result"
    }
   ],
   "source": [
    "simple_circuit.i([0])"
   ]
  },
  {
   "cell_type": "markdown",
   "id": "e8b3d6b9",
   "metadata": {},
   "source": [
    "### applying self-defined unitary gates to the circuit"
   ]
  },
  {
   "cell_type": "code",
   "execution_count": 45,
   "id": "03dbfbf6",
   "metadata": {},
   "outputs": [
    {
     "name": "stdout",
     "output_type": "stream",
     "text": [
      "T  : |0|\n",
      "        \n",
      "q0 : -U-\n",
      "\n",
      "T  : |0|\n"
     ]
    }
   ],
   "source": [
    "#single-qubit gates applied to 1st qubit\n",
    "unitary_matrix = np.array([[0,1],[1,0]])\n",
    "unitary_1q_circuit = Circuit()\n",
    "unitary_1q_circuit.unitary(matrix = unitary_matrix, targets = [0])\n",
    "print(unitary_1q_circuit)"
   ]
  },
  {
   "cell_type": "markdown",
   "id": "fcdbc3c5",
   "metadata": {},
   "source": [
    "##  constructing circuits by specifying instructions\n",
    "as shown in the example above, an Instruction is a quantum directive that describes the task to perform on a quantum device. Instruction operators include objects of type Gate only"
   ]
  },
  {
   "cell_type": "code",
   "execution_count": 46,
   "id": "11a31abf",
   "metadata": {},
   "outputs": [
    {
     "name": "stdout",
     "output_type": "stream",
     "text": [
      "T  : |0|\n",
      "        \n",
      "q0 : -H-\n",
      "\n",
      "T  : |0|\n"
     ]
    }
   ],
   "source": [
    "instr_list = [Instruction(Gate.H(), 0)]\n",
    "circuit_instr = Circuit(instr_list)\n",
    "print(circuit_instr)"
   ]
  },
  {
   "cell_type": "code",
   "execution_count": 47,
   "id": "518b81f4",
   "metadata": {},
   "outputs": [
    {
     "name": "stdout",
     "output_type": "stream",
     "text": [
      "T  : |0|1|\n",
      "          \n",
      "q0 : -H-C-\n",
      "        | \n",
      "q1 : ---X-\n",
      "\n",
      "T  : |0|1|\n"
     ]
    }
   ],
   "source": [
    "# let's add instruction\n",
    "instr_tmp = Instruction(Gate.CNot(), [0, 1])\n",
    "circuit_instr.add_instruction(instr_tmp)\n",
    "print(circuit_instr)"
   ]
  },
  {
   "cell_type": "code",
   "execution_count": 48,
   "id": "5b0084a2",
   "metadata": {},
   "outputs": [
    {
     "name": "stdout",
     "output_type": "stream",
     "text": [
      "T  : |0|1|\n",
      "          \n",
      "q0 : -H-C-\n",
      "        | \n",
      "q1 : ---X-\n",
      "          \n",
      "q3 : -C-C-\n",
      "      | | \n",
      "q4 : -X-X-\n",
      "\n",
      "T  : |0|1|\n"
     ]
    }
   ],
   "source": [
    "# specify where the circuit is appended and reuse an old instruction\n",
    "circuit_instr.add_instruction(instr_tmp, target=[3, 4])\n",
    "circuit_instr.add_instruction(instr_tmp, target_mapping={0: 3, 1: 4})\n",
    "print(circuit_instr)"
   ]
  },
  {
   "cell_type": "code",
   "execution_count": 49,
   "id": "cc8b6367",
   "metadata": {},
   "outputs": [
    {
     "name": "stdout",
     "output_type": "stream",
     "text": [
      "[Instruction('operator': H('qubit_count': 1), 'target': QubitSet([Qubit(0)])), Instruction('operator': CNot('qubit_count': 2), 'target': QubitSet([Qubit(0), Qubit(1)])), Instruction('operator': CNot('qubit_count': 2), 'target': QubitSet([Qubit(3), Qubit(4)])), Instruction('operator': CNot('qubit_count': 2), 'target': QubitSet([Qubit(3), Qubit(4)]))]\n"
     ]
    }
   ],
   "source": [
    "# print the instructions applied to a specific circuit\n",
    "print(circuit_instr.instructions)"
   ]
  },
  {
   "cell_type": "code",
   "execution_count": 50,
   "id": "92840516",
   "metadata": {},
   "outputs": [
    {
     "data": {
      "text/plain": [
       "<bound method Circuit.register_subroutine.<locals>.method_from_subroutine of Circuit('instructions': [Instruction('operator': H('qubit_count': 1), 'target': QubitSet([Qubit(0)])), Instruction('operator': CNot('qubit_count': 2), 'target': QubitSet([Qubit(0), Qubit(1)])), Instruction('operator': CNot('qubit_count': 2), 'target': QubitSet([Qubit(3), Qubit(4)])), Instruction('operator': CNot('qubit_count': 2), 'target': QubitSet([Qubit(3), Qubit(4)]))])>"
      ]
     },
     "execution_count": 50,
     "metadata": {},
     "output_type": "execute_result"
    }
   ],
   "source": [
    "circuit_instr.i"
   ]
  },
  {
   "cell_type": "code",
   "execution_count": 51,
   "id": "a8aa66ba",
   "metadata": {},
   "outputs": [
    {
     "name": "stdout",
     "output_type": "stream",
     "text": [
      "Instruction('operator': H('qubit_count': 1), 'target': QubitSet([Qubit(0)]))\n",
      "Instruction('operator': CNot('qubit_count': 2), 'target': QubitSet([Qubit(0), Qubit(1)]))\n",
      "Instruction('operator': CNot('qubit_count': 2), 'target': QubitSet([Qubit(3), Qubit(4)]))\n",
      "Instruction('operator': CNot('qubit_count': 2), 'target': QubitSet([Qubit(3), Qubit(4)]))\n"
     ]
    }
   ],
   "source": [
    "#for better formatting\n",
    "for instr in circuit_instr.instructions:\n",
    "     print(instr)"
   ]
  },
  {
   "cell_type": "code",
   "execution_count": 52,
   "id": "42d79513",
   "metadata": {},
   "outputs": [
    {
     "name": "stdout",
     "output_type": "stream",
     "text": [
      "Instruction('operator': CNot('qubit_count': 2), 'target': QubitSet([Qubit(0), Qubit(1)]))\n"
     ]
    }
   ],
   "source": [
    "# instructions can be copied\n",
    "new_instr = instr_tmp.copy()\n",
    "print(new_instr)"
   ]
  },
  {
   "cell_type": "markdown",
   "id": "a61c009d",
   "metadata": {},
   "source": [
    "## query gates supported on real quantum computer devices available through AWS Braket"
   ]
  },
  {
   "cell_type": "code",
   "execution_count": 53,
   "id": "51995591",
   "metadata": {},
   "outputs": [],
   "source": [
    "device = AwsDevice(\"arn:aws:braket:::device/qpu/ionq/ionQdevice\")"
   ]
  },
  {
   "cell_type": "code",
   "execution_count": 54,
   "id": "017ec707",
   "metadata": {},
   "outputs": [
    {
     "data": {
      "text/plain": [
       "Device('name': IonQ Device, 'arn': arn:aws:braket:::device/qpu/ionq/ionQdevice)"
      ]
     },
     "execution_count": 54,
     "metadata": {},
     "output_type": "execute_result"
    }
   ],
   "source": [
    "device"
   ]
  },
  {
   "cell_type": "code",
   "execution_count": 55,
   "id": "60a92c25",
   "metadata": {},
   "outputs": [
    {
     "name": "stdout",
     "output_type": "stream",
     "text": [
      "IonQ Device\n"
     ]
    }
   ],
   "source": [
    "print(device.name)"
   ]
  },
  {
   "cell_type": "code",
   "execution_count": 56,
   "id": "6c0f4291",
   "metadata": {},
   "outputs": [
    {
     "name": "stdout",
     "output_type": "stream",
     "text": [
      "Quantum Gates supported by IonQ Device:\n",
      " ['x', 'y', 'z', 'rx', 'ry', 'rz', 'h', 'cnot', 's', 'si', 't', 'ti', 'v', 'vi', 'xx', 'yy', 'zz', 'swap', 'i']\n"
     ]
    }
   ],
   "source": [
    "# show supportedQuantumOperations (supported gates for a device)\n",
    "device_operations = device.properties.dict()['action']['braket.ir.jaqcd.program']['supportedOperations']\n",
    "print('Quantum Gates supported by {}:\\n {}'.format(device.name, device_operations))"
   ]
  },
  {
   "cell_type": "code",
   "execution_count": 57,
   "id": "d263825f",
   "metadata": {},
   "outputs": [
    {
     "name": "stdout",
     "output_type": "stream",
     "text": [
      "Quantum Gates supported by Aspen-M-2:\n",
      " ['cz', 'xy', 'ccnot', 'cnot', 'cphaseshift', 'cphaseshift00', 'cphaseshift01', 'cphaseshift10', 'cswap', 'h', 'i', 'iswap', 'phaseshift', 'pswap', 'rx', 'ry', 'rz', 's', 'si', 'swap', 't', 'ti', 'x', 'y', 'z', 'start_verbatim_box', 'end_verbatim_box']\n"
     ]
    }
   ],
   "source": [
    "device = AwsDevice(\"arn:aws:braket:us-west-1::device/qpu/rigetti/Aspen-M-2\")\n",
    "\n",
    "# get device name\n",
    "device_name = device.name\n",
    "# show supportedQuantumOperations (supported gates for a device)\n",
    "device_operations = device.properties.dict()['action']['braket.ir.jaqcd.program']['supportedOperations']\n",
    "print('Quantum Gates supported by {}:\\n {}'.format(device.name, device_operations))"
   ]
  },
  {
   "cell_type": "markdown",
   "id": "c6eb1701",
   "metadata": {},
   "source": [
    "## Next step"
   ]
  },
  {
   "cell_type": "markdown",
   "id": "1133f43b",
   "metadata": {},
   "source": [
    "<div class=\"alert alert-block alert-info\">\n",
    " <b>dive deeper!</b> I can advice to dive deep in <a href=\"https://docs.aws.amazon.com/braket/latest/developerguide/braket-constructing-circuit.html#manual-qubit-allocation\"> for manual qubit allocation</a> on the quantum device to manually allocate the qubits and apply the circuit algorithm in the developer guide.\n",
    "</div>"
   ]
  },
  {
   "cell_type": "markdown",
   "id": "398b92fd",
   "metadata": {},
   "source": [
    "<div class=\"alert alert-block alert-info\">\n",
    " <b>simulate noise!</b> Noise is very important to consider for the NISQ devices, please refer to more detailed info and examples regarding <a href=\"https://docs.aws.amazon.com/braket/latest/developerguide/braket-constructing-circuit.html#noise-simulation\"> simulating noise to different quantum devices </a>.\n",
    "</div>"
   ]
  },
  {
   "cell_type": "code",
   "execution_count": null,
   "id": "49248863",
   "metadata": {},
   "outputs": [],
   "source": []
  }
 ],
 "metadata": {
  "kernelspec": {
   "display_name": "conda_braket",
   "language": "python",
   "name": "conda_braket"
  },
  "language_info": {
   "codemirror_mode": {
    "name": "ipython",
    "version": 3
   },
   "file_extension": ".py",
   "mimetype": "text/x-python",
   "name": "python",
   "nbconvert_exporter": "python",
   "pygments_lexer": "ipython3",
   "version": "3.7.13"
  }
 },
 "nbformat": 4,
 "nbformat_minor": 5
}
