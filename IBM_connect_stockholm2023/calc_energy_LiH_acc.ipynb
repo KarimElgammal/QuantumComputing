{
 "cells": [
  {
   "cell_type": "code",
   "execution_count": null,
   "metadata": {},
   "outputs": [],
   "source": []
  },
  {
   "cell_type": "code",
   "execution_count": 4,
   "metadata": {},
   "outputs": [],
   "source": [
    "import matplotlib.pyplot as plt\n",
    "import qiskit\n",
    "from qiskit.algorithms import VQE\n",
    "import qiskit_nature\n",
    "import qiskit_nature.problems.second_quantization\n",
    "import qiskit_nature.drivers.second_quantization\n",
    "import qiskit_nature.transformers.second_quantization.electronic\n",
    "import qiskit_nature.algorithms\n",
    "from qiskit_nature.drivers import Molecule\n",
    "import numpy as np"
   ]
  },
  {
   "cell_type": "code",
   "execution_count": 2,
   "metadata": {},
   "outputs": [],
   "source": [
    "def get_qubit_op(molecule,remove_orbitals):\n",
    "    driver = qiskit_nature.drivers.second_quantization.ElectronicStructureMoleculeDriver(\n",
    "        molecule=molecule,\n",
    "        basis=\"sto3g\",\n",
    "        driver_type=qiskit_nature.drivers.second_quantization.ElectronicStructureDriverType.PYSCF)\n",
    "\n",
    "    # Define Problem, Use freeze core approximation, remove orbitals.\n",
    "    problem = qiskit_nature.problems.second_quantization.ElectronicStructureProblem(\n",
    "        driver,\n",
    "        remove_orbitals)\n",
    "\n",
    "    second_q_ops = problem.second_q_ops()  # Get 2nd Quant OP\n",
    "    num_spin_orbitals = problem.num_spin_orbitals\n",
    "    num_particles = problem.num_particles\n",
    "\n",
    "    mapper = qiskit_nature.mappers.second_quantization.ParityMapper()  # Set Mapper\n",
    "    hamiltonian = second_q_ops[0]  # Set Hamiltonian\n",
    "    # Do two qubit reduction\n",
    "    converter = qiskit_nature.converters.second_quantization.QubitConverter(mapper,two_qubit_reduction=True)\n",
    "    reducer = qiskit.opflow.TwoQubitReduction(num_particles)\n",
    "    qubit_op = converter.convert(hamiltonian)\n",
    "    qubit_op = reducer.convert(qubit_op)\n",
    "\n",
    "    return qubit_op, num_particles, num_spin_orbitals, problem, converter"
   ]
  },
  {
   "cell_type": "code",
   "execution_count": 5,
   "metadata": {},
   "outputs": [
    {
     "name": "stderr",
     "output_type": "stream",
     "text": [
      "/var/folders/yk/_rb14s1j5tg2qcj87ml0w1n80000gn/T/ipykernel_41011/4289922393.py:24: NatureDeprecationWarning: The qiskit_nature.problems.second_quantization.electronic.ElectronicStructureProblem class is deprecated as of version 0.5.0 and will be removed no sooner than 3 months after the release. Instead use the qiskit_nature.second_q.problems.ElectronicStructureProblem class.\n",
      "  problem, converter) = get_qubit_op(molecule,\n"
     ]
    },
    {
     "ename": "KeyError",
     "evalue": "0",
     "output_type": "error",
     "traceback": [
      "\u001b[0;31m---------------------------------------------------------------------------\u001b[0m",
      "\u001b[0;31mKeyError\u001b[0m                                  Traceback (most recent call last)",
      "Cell \u001b[0;32mIn[5], line 24\u001b[0m\n\u001b[1;32m     12\u001b[0m \u001b[39mfor\u001b[39;00m dist \u001b[39min\u001b[39;00m distances:\n\u001b[1;32m     13\u001b[0m     \u001b[39m# Define Molecule\u001b[39;00m\n\u001b[1;32m     14\u001b[0m     molecule \u001b[39m=\u001b[39m Molecule(\n\u001b[1;32m     15\u001b[0m         \u001b[39m# Coordinates in Angstrom\u001b[39;00m\n\u001b[1;32m     16\u001b[0m         geometry\u001b[39m=\u001b[39m[\n\u001b[0;32m   (...)\u001b[0m\n\u001b[1;32m     21\u001b[0m         charge\u001b[39m=\u001b[39m\u001b[39m0\u001b[39m,\n\u001b[1;32m     22\u001b[0m     )\n\u001b[1;32m     23\u001b[0m     (qubit_op, num_particles, num_spin_orbitals,\n\u001b[0;32m---> 24\u001b[0m                              problem, converter) \u001b[39m=\u001b[39m get_qubit_op(molecule,\n\u001b[1;32m     25\u001b[0m                                                                 [qiskit_nature\u001b[39m.\u001b[39;49mtransformers\u001b[39m.\u001b[39;49msecond_quantization\u001b[39m.\u001b[39;49melectronic\u001b[39m.\u001b[39;49mFreezeCoreTransformer(\n\u001b[1;32m     26\u001b[0m                                                                     freeze_core\u001b[39m=\u001b[39;49m\u001b[39mTrue\u001b[39;49;00m,\n\u001b[1;32m     27\u001b[0m                                                                     remove_orbitals\u001b[39m=\u001b[39;49m[\u001b[39m-\u001b[39;49m\u001b[39m3\u001b[39;49m,\u001b[39m-\u001b[39;49m\u001b[39m2\u001b[39;49m])])\n\u001b[1;32m     28\u001b[0m     result \u001b[39m=\u001b[39m exact_solver(problem,converter)\n\u001b[1;32m     29\u001b[0m     exact_energies\u001b[39m.\u001b[39mappend(result\u001b[39m.\u001b[39mtotal_energies[\u001b[39m0\u001b[39m]\u001b[39m.\u001b[39mreal)\n",
      "Cell \u001b[0;32mIn[2], line 17\u001b[0m, in \u001b[0;36mget_qubit_op\u001b[0;34m(molecule, remove_orbitals)\u001b[0m\n\u001b[1;32m     14\u001b[0m num_particles \u001b[39m=\u001b[39m problem\u001b[39m.\u001b[39mnum_particles\n\u001b[1;32m     16\u001b[0m mapper \u001b[39m=\u001b[39m qiskit_nature\u001b[39m.\u001b[39mmappers\u001b[39m.\u001b[39msecond_quantization\u001b[39m.\u001b[39mParityMapper()  \u001b[39m# Set Mapper\u001b[39;00m\n\u001b[0;32m---> 17\u001b[0m hamiltonian \u001b[39m=\u001b[39m second_q_ops[\u001b[39m0\u001b[39;49m]  \u001b[39m# Set Hamiltonian\u001b[39;00m\n\u001b[1;32m     18\u001b[0m \u001b[39m# Do two qubit reduction\u001b[39;00m\n\u001b[1;32m     19\u001b[0m converter \u001b[39m=\u001b[39m qiskit_nature\u001b[39m.\u001b[39mconverters\u001b[39m.\u001b[39msecond_quantization\u001b[39m.\u001b[39mQubitConverter(mapper,two_qubit_reduction\u001b[39m=\u001b[39m\u001b[39mTrue\u001b[39;00m)\n",
      "\u001b[0;31mKeyError\u001b[0m: 0"
     ]
    }
   ],
   "source": [
    "def exact_solver(problem, converter):\n",
    "    solver = qiskit_nature.algorithms.NumPyMinimumEigensolverFactory()\n",
    "    calc = qiskit_nature.algorithms.GroundStateEigensolver(converter, solver)\n",
    "    result = calc.solve(problem)\n",
    "    return result\n",
    "\n",
    "backend = qiskit.BasicAer.get_backend(\"statevector_simulator\")\n",
    "distances = np.arange(0.5, 4.0, 0.2)\n",
    "exact_energies = []\n",
    "vqe_energies = []\n",
    "optimizer = qiskit.algorithms.optimizers.SLSQP(maxiter=5)\n",
    "for dist in distances:\n",
    "    # Define Molecule\n",
    "    molecule = Molecule(\n",
    "        # Coordinates in Angstrom\n",
    "        geometry=[\n",
    "            [\"Li\", [0.0, 0.0, 0.0] ],\n",
    "            [\"H\", [dist, 0.0, 0.0] ]\n",
    "        ],\n",
    "        multiplicity=1,  # = 2*spin + 1\n",
    "        charge=0,\n",
    "    )\n",
    "    (qubit_op, num_particles, num_spin_orbitals,\n",
    "                             problem, converter) = get_qubit_op(molecule,\n",
    "                                                                [qiskit_nature.transformers.second_quantization.electronic.FreezeCoreTransformer(\n",
    "                                                                    freeze_core=True,\n",
    "                                                                    remove_orbitals=[-3,-2])])\n",
    "    result = exact_solver(problem,converter)\n",
    "    exact_energies.append(result.total_energies[0].real)\n",
    "    init_state = qiskit_nature.circuit.library.HartreeFock(num_spin_orbitals, num_particles, converter)\n",
    "    var_form = qiskit_nature.circuit.library.UCCSD(converter,\n",
    "                     num_particles,\n",
    "                     num_spin_orbitals,\n",
    "                     initial_state=init_state)\n",
    "    vqe = VQE(var_form, optimizer, quantum_instance=backend)\n",
    "    vqe_calc = vqe.compute_minimum_eigenvalue(qubit_op)\n",
    "    vqe_result = problem.interpret(vqe_calc).total_energies[0].real\n",
    "    vqe_energies.append(vqe_result)\n",
    "    print(f\"Interatomic Distance: {np.round(dist, 2)}\",\n",
    "          f\"VQE Result: {vqe_result:.5f}\",\n",
    "          f\"Exact Energy: {exact_energies[-1]:.5f}\")\n",
    "\n",
    "print(\"All energies have been calculated\")"
   ]
  },
  {
   "cell_type": "code",
   "execution_count": 6,
   "metadata": {},
   "outputs": [
    {
     "ename": "ValueError",
     "evalue": "x and y must have same first dimension, but have shapes (18,) and (0,)",
     "output_type": "error",
     "traceback": [
      "\u001b[0;31m---------------------------------------------------------------------------\u001b[0m",
      "\u001b[0;31mValueError\u001b[0m                                Traceback (most recent call last)",
      "Cell \u001b[0;32mIn[6], line 1\u001b[0m\n\u001b[0;32m----> 1\u001b[0m plt\u001b[39m.\u001b[39;49mplot(distances, exact_energies, label\u001b[39m=\u001b[39;49m\u001b[39m\"\u001b[39;49m\u001b[39mExact Energy\u001b[39;49m\u001b[39m\"\u001b[39;49m)\n\u001b[1;32m      2\u001b[0m plt\u001b[39m.\u001b[39mplot(distances, vqe_energies, label\u001b[39m=\u001b[39m\u001b[39m\"\u001b[39m\u001b[39mVQE Energy\u001b[39m\u001b[39m\"\u001b[39m)\n\u001b[1;32m      3\u001b[0m plt\u001b[39m.\u001b[39mxlabel(\u001b[39m'\u001b[39m\u001b[39mAtomic distance (Angstrom)\u001b[39m\u001b[39m'\u001b[39m)\n",
      "File \u001b[0;32m~/.pyenv/versions/3.11.1/envs/qc/lib/python3.11/site-packages/matplotlib/pyplot.py:2812\u001b[0m, in \u001b[0;36mplot\u001b[0;34m(scalex, scaley, data, *args, **kwargs)\u001b[0m\n\u001b[1;32m   2810\u001b[0m \u001b[39m@_copy_docstring_and_deprecators\u001b[39m(Axes\u001b[39m.\u001b[39mplot)\n\u001b[1;32m   2811\u001b[0m \u001b[39mdef\u001b[39;00m \u001b[39mplot\u001b[39m(\u001b[39m*\u001b[39margs, scalex\u001b[39m=\u001b[39m\u001b[39mTrue\u001b[39;00m, scaley\u001b[39m=\u001b[39m\u001b[39mTrue\u001b[39;00m, data\u001b[39m=\u001b[39m\u001b[39mNone\u001b[39;00m, \u001b[39m*\u001b[39m\u001b[39m*\u001b[39mkwargs):\n\u001b[0;32m-> 2812\u001b[0m     \u001b[39mreturn\u001b[39;00m gca()\u001b[39m.\u001b[39;49mplot(\n\u001b[1;32m   2813\u001b[0m         \u001b[39m*\u001b[39;49margs, scalex\u001b[39m=\u001b[39;49mscalex, scaley\u001b[39m=\u001b[39;49mscaley,\n\u001b[1;32m   2814\u001b[0m         \u001b[39m*\u001b[39;49m\u001b[39m*\u001b[39;49m({\u001b[39m\"\u001b[39;49m\u001b[39mdata\u001b[39;49m\u001b[39m\"\u001b[39;49m: data} \u001b[39mif\u001b[39;49;00m data \u001b[39mis\u001b[39;49;00m \u001b[39mnot\u001b[39;49;00m \u001b[39mNone\u001b[39;49;00m \u001b[39melse\u001b[39;49;00m {}), \u001b[39m*\u001b[39;49m\u001b[39m*\u001b[39;49mkwargs)\n",
      "File \u001b[0;32m~/.pyenv/versions/3.11.1/envs/qc/lib/python3.11/site-packages/matplotlib/axes/_axes.py:1688\u001b[0m, in \u001b[0;36mAxes.plot\u001b[0;34m(self, scalex, scaley, data, *args, **kwargs)\u001b[0m\n\u001b[1;32m   1445\u001b[0m \u001b[39m\u001b[39m\u001b[39m\"\"\"\u001b[39;00m\n\u001b[1;32m   1446\u001b[0m \u001b[39mPlot y versus x as lines and/or markers.\u001b[39;00m\n\u001b[1;32m   1447\u001b[0m \n\u001b[0;32m   (...)\u001b[0m\n\u001b[1;32m   1685\u001b[0m \u001b[39m(``'green'``) or hex strings (``'#008000'``).\u001b[39;00m\n\u001b[1;32m   1686\u001b[0m \u001b[39m\"\"\"\u001b[39;00m\n\u001b[1;32m   1687\u001b[0m kwargs \u001b[39m=\u001b[39m cbook\u001b[39m.\u001b[39mnormalize_kwargs(kwargs, mlines\u001b[39m.\u001b[39mLine2D)\n\u001b[0;32m-> 1688\u001b[0m lines \u001b[39m=\u001b[39m [\u001b[39m*\u001b[39m\u001b[39mself\u001b[39m\u001b[39m.\u001b[39m_get_lines(\u001b[39m*\u001b[39margs, data\u001b[39m=\u001b[39mdata, \u001b[39m*\u001b[39m\u001b[39m*\u001b[39mkwargs)]\n\u001b[1;32m   1689\u001b[0m \u001b[39mfor\u001b[39;00m line \u001b[39min\u001b[39;00m lines:\n\u001b[1;32m   1690\u001b[0m     \u001b[39mself\u001b[39m\u001b[39m.\u001b[39madd_line(line)\n",
      "File \u001b[0;32m~/.pyenv/versions/3.11.1/envs/qc/lib/python3.11/site-packages/matplotlib/axes/_base.py:311\u001b[0m, in \u001b[0;36m_process_plot_var_args.__call__\u001b[0;34m(self, data, *args, **kwargs)\u001b[0m\n\u001b[1;32m    309\u001b[0m     this \u001b[39m+\u001b[39m\u001b[39m=\u001b[39m args[\u001b[39m0\u001b[39m],\n\u001b[1;32m    310\u001b[0m     args \u001b[39m=\u001b[39m args[\u001b[39m1\u001b[39m:]\n\u001b[0;32m--> 311\u001b[0m \u001b[39myield from\u001b[39;00m \u001b[39mself\u001b[39;49m\u001b[39m.\u001b[39;49m_plot_args(\n\u001b[1;32m    312\u001b[0m     this, kwargs, ambiguous_fmt_datakey\u001b[39m=\u001b[39;49mambiguous_fmt_datakey)\n",
      "File \u001b[0;32m~/.pyenv/versions/3.11.1/envs/qc/lib/python3.11/site-packages/matplotlib/axes/_base.py:504\u001b[0m, in \u001b[0;36m_process_plot_var_args._plot_args\u001b[0;34m(self, tup, kwargs, return_kwargs, ambiguous_fmt_datakey)\u001b[0m\n\u001b[1;32m    501\u001b[0m     \u001b[39mself\u001b[39m\u001b[39m.\u001b[39maxes\u001b[39m.\u001b[39myaxis\u001b[39m.\u001b[39mupdate_units(y)\n\u001b[1;32m    503\u001b[0m \u001b[39mif\u001b[39;00m x\u001b[39m.\u001b[39mshape[\u001b[39m0\u001b[39m] \u001b[39m!=\u001b[39m y\u001b[39m.\u001b[39mshape[\u001b[39m0\u001b[39m]:\n\u001b[0;32m--> 504\u001b[0m     \u001b[39mraise\u001b[39;00m \u001b[39mValueError\u001b[39;00m(\u001b[39mf\u001b[39m\u001b[39m\"\u001b[39m\u001b[39mx and y must have same first dimension, but \u001b[39m\u001b[39m\"\u001b[39m\n\u001b[1;32m    505\u001b[0m                      \u001b[39mf\u001b[39m\u001b[39m\"\u001b[39m\u001b[39mhave shapes \u001b[39m\u001b[39m{\u001b[39;00mx\u001b[39m.\u001b[39mshape\u001b[39m}\u001b[39;00m\u001b[39m and \u001b[39m\u001b[39m{\u001b[39;00my\u001b[39m.\u001b[39mshape\u001b[39m}\u001b[39;00m\u001b[39m\"\u001b[39m)\n\u001b[1;32m    506\u001b[0m \u001b[39mif\u001b[39;00m x\u001b[39m.\u001b[39mndim \u001b[39m>\u001b[39m \u001b[39m2\u001b[39m \u001b[39mor\u001b[39;00m y\u001b[39m.\u001b[39mndim \u001b[39m>\u001b[39m \u001b[39m2\u001b[39m:\n\u001b[1;32m    507\u001b[0m     \u001b[39mraise\u001b[39;00m \u001b[39mValueError\u001b[39;00m(\u001b[39mf\u001b[39m\u001b[39m\"\u001b[39m\u001b[39mx and y can be no greater than 2D, but have \u001b[39m\u001b[39m\"\u001b[39m\n\u001b[1;32m    508\u001b[0m                      \u001b[39mf\u001b[39m\u001b[39m\"\u001b[39m\u001b[39mshapes \u001b[39m\u001b[39m{\u001b[39;00mx\u001b[39m.\u001b[39mshape\u001b[39m}\u001b[39;00m\u001b[39m and \u001b[39m\u001b[39m{\u001b[39;00my\u001b[39m.\u001b[39mshape\u001b[39m}\u001b[39;00m\u001b[39m\"\u001b[39m)\n",
      "\u001b[0;31mValueError\u001b[0m: x and y must have same first dimension, but have shapes (18,) and (0,)"
     ]
    },
    {
     "data": {
      "image/png": "[encoded data removed]",
      "text/plain": [
       "<Figure size 640x480 with 1 Axes>"
      ]
     },
     "metadata": {},
     "output_type": "display_data"
    }
   ],
   "source": [
    "plt.plot(distances, exact_energies, label=\"Exact Energy\")\n",
    "plt.plot(distances, vqe_energies, label=\"VQE Energy\")\n",
    "plt.xlabel('Atomic distance (Angstrom)')\n",
    "plt.ylabel('Energy')\n",
    "plt.legend()\n",
    "plt.show()"
   ]
  },
  {
   "cell_type": "code",
   "execution_count": 7,
   "metadata": {},
   "outputs": [
    {
     "name": "stdout",
     "output_type": "stream",
     "text": [
      "Fermionic Operator\n",
      "number spin orbitals=4, number terms=36\n",
      "  -1.25633907300325 * ( +_0 -_0 )\n",
      "+ -0.4718960072811418 * ( +_1 -_1 )\n",
      "+ -1.25633907300325 * ( +_2 -_2 )\n",
      "+ -0.4718960072811418 * ( +_3 -_3 )\n",
      "+ 0.3378550774017583 * ( +_0 +_0 -_0 -_0 )\n",
      "+ 0.09046559989211575 * ( +_0 +_0 -_1 -_1 )\n",
      "+ 0.09046559989211567 * ( +_0 +_1 -_0 -_1 )\n",
      "+ 0.3322908651276485 * ( +_0 +_1 -_1 -_0 )\n",
      "...\n"
     ]
    }
   ],
   "source": [
    "from qiskit_nature.second_q.drivers import PySCFDriver\n",
    "from qiskit_nature.second_q.formats.molecule_info import MoleculeInfo\n",
    "from qiskit_nature.second_q.transformers import FreezeCoreTransformer\n",
    "\n",
    "molecule = MoleculeInfo([\"H\", \"H\"], [(0.0, 0.0, 0.0), (0.0, 0.0, 0.735)], charge=0, multiplicity=1)\n",
    "\n",
    "driver = PySCFDriver.from_molecule(molecule, basis=\"sto3g\")\n",
    "\n",
    "# this is now done explicitly\n",
    "problem = driver.run()\n",
    "\n",
    "transformer = FreezeCoreTransformer()\n",
    "\n",
    "# and you also apply transformers explicitly\n",
    "problem = transformer.transform(problem)\n",
    "\n",
    "hamiltonian = problem.hamiltonian.second_q_op()\n",
    "print(\"\\n\".join(str(hamiltonian).splitlines()[:10] + [\"...\"]))"
   ]
  },
  {
   "cell_type": "code",
   "execution_count": 8,
   "metadata": {},
   "outputs": [
    {
     "name": "stdout",
     "output_type": "stream",
     "text": [
      "<class 'qiskit_nature.second_q.problems.electronic_structure_problem.ElectronicStructureProblem'>\n"
     ]
    }
   ],
   "source": [
    "from qiskit_nature.second_q.drivers import PySCFDriver\n",
    "from qiskit_nature.second_q.formats.molecule_info import MoleculeInfo\n",
    "\n",
    "molecule = MoleculeInfo([\"H\", \"H\"], [(0.0, 0.0, 0.0), (0.0, 0.0, 0.735)], charge=0, multiplicity=1)\n",
    "\n",
    "driver = PySCFDriver.from_molecule(molecule, basis=\"sto3g\")\n",
    "\n",
    "result = driver.run()\n",
    "print(type(result))"
   ]
  },
  {
   "cell_type": "code",
   "execution_count": 9,
   "metadata": {},
   "outputs": [
    {
     "ename": "QiskitNatureError",
     "evalue": "\"Input file 'aux_files/h2.fcidump' cannot be read!\"",
     "output_type": "error",
     "traceback": [
      "\u001b[0;31m---------------------------------------------------------------------------\u001b[0m",
      "\u001b[0;31mFileNotFoundError\u001b[0m                         Traceback (most recent call last)",
      "File \u001b[0;32m~/.pyenv/versions/3.11.1/envs/qc/lib/python3.11/site-packages/qiskit_nature/second_q/formats/fcidump/parser.py:41\u001b[0m, in \u001b[0;36m_parse\u001b[0;34m(fcidump)\u001b[0m\n\u001b[1;32m     40\u001b[0m \u001b[39mtry\u001b[39;00m:\n\u001b[0;32m---> 41\u001b[0m     \u001b[39mwith\u001b[39;00m fcidump\u001b[39m.\u001b[39;49mopen(\u001b[39m\"\u001b[39;49m\u001b[39mr\u001b[39;49m\u001b[39m\"\u001b[39;49m, encoding\u001b[39m=\u001b[39;49m\u001b[39m\"\u001b[39;49m\u001b[39mutf8\u001b[39;49m\u001b[39m\"\u001b[39;49m) \u001b[39mas\u001b[39;00m file:\n\u001b[1;32m     42\u001b[0m         fcidump_str \u001b[39m=\u001b[39m file\u001b[39m.\u001b[39mread()\n",
      "File \u001b[0;32m~/.pyenv/versions/3.11.1/lib/python3.11/pathlib.py:1044\u001b[0m, in \u001b[0;36mPath.open\u001b[0;34m(self, mode, buffering, encoding, errors, newline)\u001b[0m\n\u001b[1;32m   1043\u001b[0m     encoding \u001b[39m=\u001b[39m io\u001b[39m.\u001b[39mtext_encoding(encoding)\n\u001b[0;32m-> 1044\u001b[0m \u001b[39mreturn\u001b[39;00m io\u001b[39m.\u001b[39;49mopen(\u001b[39mself\u001b[39;49m, mode, buffering, encoding, errors, newline)\n",
      "\u001b[0;31mFileNotFoundError\u001b[0m: [Errno 2] No such file or directory: 'aux_files/h2.fcidump'",
      "\nThe above exception was the direct cause of the following exception:\n",
      "\u001b[0;31mQiskitNatureError\u001b[0m                         Traceback (most recent call last)",
      "Cell \u001b[0;32mIn[9], line 4\u001b[0m\n\u001b[1;32m      1\u001b[0m \u001b[39mfrom\u001b[39;00m \u001b[39mqiskit_nature\u001b[39;00m\u001b[39m.\u001b[39;00m\u001b[39msecond_q\u001b[39;00m\u001b[39m.\u001b[39;00m\u001b[39mformats\u001b[39;00m\u001b[39m.\u001b[39;00m\u001b[39mfcidump\u001b[39;00m \u001b[39mimport\u001b[39;00m FCIDump\n\u001b[1;32m      3\u001b[0m path_to_fcidump \u001b[39m=\u001b[39m \u001b[39m\"\u001b[39m\u001b[39maux_files/h2.fcidump\u001b[39m\u001b[39m\"\u001b[39m\n\u001b[0;32m----> 4\u001b[0m fcidump \u001b[39m=\u001b[39m FCIDump\u001b[39m.\u001b[39;49mfrom_file(path_to_fcidump)\n\u001b[1;32m      5\u001b[0m \u001b[39mprint\u001b[39m(\u001b[39mtype\u001b[39m(fcidump))\n\u001b[1;32m      7\u001b[0m \u001b[39mfrom\u001b[39;00m \u001b[39mqiskit_nature\u001b[39;00m\u001b[39m.\u001b[39;00m\u001b[39msecond_q\u001b[39;00m\u001b[39m.\u001b[39;00m\u001b[39mformats\u001b[39;00m\u001b[39m.\u001b[39;00m\u001b[39mfcidump_translator\u001b[39;00m \u001b[39mimport\u001b[39;00m fcidump_to_problem\n",
      "File \u001b[0;32m~/.pyenv/versions/3.11.1/envs/qc/lib/python3.11/site-packages/qiskit_nature/second_q/formats/fcidump/fcidump.py:209\u001b[0m, in \u001b[0;36mFCIDump.from_file\u001b[0;34m(cls, fcidump)\u001b[0m\n\u001b[1;32m    206\u001b[0m \u001b[39m# pylint: disable=cyclic-import\u001b[39;00m\n\u001b[1;32m    207\u001b[0m \u001b[39mfrom\u001b[39;00m \u001b[39m.\u001b[39;00m\u001b[39mparser\u001b[39;00m \u001b[39mimport\u001b[39;00m _parse\n\u001b[0;32m--> 209\u001b[0m \u001b[39mreturn\u001b[39;00m _parse(fcidump \u001b[39mif\u001b[39;49;00m \u001b[39misinstance\u001b[39;49m(fcidump, Path) \u001b[39melse\u001b[39;49;00m Path(fcidump))\n",
      "File \u001b[0;32m~/.pyenv/versions/3.11.1/envs/qc/lib/python3.11/site-packages/qiskit_nature/second_q/formats/fcidump/parser.py:44\u001b[0m, in \u001b[0;36m_parse\u001b[0;34m(fcidump)\u001b[0m\n\u001b[1;32m     42\u001b[0m         fcidump_str \u001b[39m=\u001b[39m file\u001b[39m.\u001b[39mread()\n\u001b[1;32m     43\u001b[0m \u001b[39mexcept\u001b[39;00m \u001b[39mOSError\u001b[39;00m \u001b[39mas\u001b[39;00m ex:\n\u001b[0;32m---> 44\u001b[0m     \u001b[39mraise\u001b[39;00m QiskitNatureError(\u001b[39mf\u001b[39m\u001b[39m\"\u001b[39m\u001b[39mInput file \u001b[39m\u001b[39m'\u001b[39m\u001b[39m{\u001b[39;00mfcidump\u001b[39m}\u001b[39;00m\u001b[39m'\u001b[39m\u001b[39m cannot be read!\u001b[39m\u001b[39m\"\u001b[39m) \u001b[39mfrom\u001b[39;00m \u001b[39mex\u001b[39;00m\n\u001b[1;32m     46\u001b[0m output: \u001b[39mdict\u001b[39m[\u001b[39mstr\u001b[39m, Any] \u001b[39m=\u001b[39m {}\n\u001b[1;32m     48\u001b[0m \u001b[39m# FCIDump starts with a Fortran namelist of meta data\u001b[39;00m\n",
      "\u001b[0;31mQiskitNatureError\u001b[0m: \"Input file 'aux_files/h2.fcidump' cannot be read!\""
     ]
    }
   ],
   "source": [
    "from qiskit_nature.second_q.formats.fcidump import FCIDump\n",
    "\n",
    "path_to_fcidump = \"aux_files/h2.fcidump\"\n",
    "fcidump = FCIDump.from_file(path_to_fcidump)\n",
    "print(type(fcidump))\n",
    "\n",
    "from qiskit_nature.second_q.formats.fcidump_translator import fcidump_to_problem\n",
    "\n",
    "problem = fcidump_to_problem(fcidump)\n",
    "print(type(problem))"
   ]
  },
  {
   "cell_type": "code",
   "execution_count": null,
   "metadata": {},
   "outputs": [],
   "source": []
  }
 ],
 "metadata": {
  "kernelspec": {
   "display_name": "qc",
   "language": "python",
   "name": "python3"
  },
  "language_info": {
   "codemirror_mode": {
    "name": "ipython",
    "version": 3
   },
   "file_extension": ".py",
   "mimetype": "text/x-python",
   "name": "python",
   "nbconvert_exporter": "python",
   "pygments_lexer": "ipython3",
   "version": "3.11.1"
  },
  "orig_nbformat": 4
 },
 "nbformat": 4,
 "nbformat_minor": 2
}
