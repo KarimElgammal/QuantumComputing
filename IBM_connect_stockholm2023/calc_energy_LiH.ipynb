{
 "cells": [
  {
   "attachments": {},
   "cell_type": "markdown",
   "metadata": {},
   "source": [
    "# Title: LiH on Quantum Computer\n",
    "## Calculate the ground state energy of LiH molecule and plot the energy curve as a function of bond length"
   ]
  },
  {
   "attachments": {},
   "cell_type": "markdown",
   "metadata": {},
   "source": [
    "We first need to import all necessary libraries and packages that will be used in the calculation. This includes both general purpose libraries like `numpy` and `matplotlib`, as well as specialized libraries for quantum computations like `pyscf` and `qiskit`.\n",
    "\n",
    "the code is from https://github.com/qiskit-community/qiskit-nature-pyscf \n",
    "\n",
    "\n",
    "![Alt text](../../../workspace/screenshots/Screenshot%202023-05-23%20at%2013.05.18.png)"
   ]
  },
  {
   "attachments": {},
   "cell_type": "markdown",
   "metadata": {},
   "source": [
    "## Set up the molecule and quantum variables"
   ]
  },
  {
   "attachments": {},
   "cell_type": "markdown",
   "metadata": {},
   "source": [
    "In this cell, we specify the parameters for the LiH molecule. This includes the number of orbitals (`norb`), the number of alpha and beta electrons (`nalpha` and `nbeta`), and the total number of electrons (`nelec`). We also prepare a range of interatomic distances for which we'll compute the ground state energy."
   ]
  },
  {
   "cell_type": "code",
   "execution_count": 9,
   "metadata": {},
   "outputs": [],
   "source": [
    "\n",
    "# molecule specification\n",
    "norb = 2\n",
    "nalpha, nbeta = 1, 1\n",
    "nelec = nalpha + nbeta\n",
    "\n",
    "# prepare the interatomic distance range\n",
    "distances = np.linspace(0.5, 4.0, 35)"
   ]
  },
  {
   "attachments": {},
   "cell_type": "markdown",
   "metadata": {},
   "source": [
    "## Main loop for computing ground state energies"
   ]
  },
  {
   "attachments": {},
   "cell_type": "markdown",
   "metadata": {},
   "source": [
    "In this cell, we perform the main computation. For each interatomic distance, we define a molecular system with `pyscf`, then set up a quantum circuit for the molecule using `qiskit`. We use the Variational Quantum Eigensolver (VQE) method to compute the ground state energy of the molecule. The computed energies are stored in the `energies` list."
   ]
  },
  {
   "cell_type": "code",
   "execution_count": 10,
   "metadata": {},
   "outputs": [
    {
     "name": "stdout",
     "output_type": "stream",
     "text": [
      "converged SCF energy = -7.02841009454193\n",
      "CASCI E = -7.02905199516753  E(CI) = -0.968587020851601\n",
      "Distance: 0.5 Energy: -7.029051995167526\n",
      "converged SCF energy = -7.30605031275521\n",
      "CASCI E = -7.3062785527267  E(CI) = -1.03754681219619\n",
      "Distance: 0.6029411764705882 Energy: -7.306278552726704\n",
      "converged SCF energy = -7.49494923396052\n",
      "CASCI E = -7.49511691775791  E(CI) = -1.09523400347015\n",
      "Distance: 0.7058823529411764 Energy: -7.495116917757913\n",
      "converged SCF energy = -7.62511698867515\n",
      "CASCI E = -7.62525977818445  E(CI) = -1.1336051440901\n",
      "Distance: 0.8088235294117647 Energy: -7.6252597781844464\n",
      "converged SCF energy = -7.71429057222577\n",
      "CASCI E = -7.71442419856313  E(CI) = -1.15311311711022\n",
      "Distance: 0.9117647058823529 Energy: -7.714424198563133\n",
      "converged SCF energy = -7.77455557777776\n",
      "CASCI E = -7.77468991152598  E(CI) = -1.15760198542799\n",
      "Distance: 1.0147058823529411 Energy: -7.774689911525982\n",
      "converged SCF energy = -7.81440726013497\n",
      "CASCI E = -7.81454880284286  E(CI) = -1.15136617367582\n",
      "Distance: 1.1176470588235294 Energy: -7.8145488028428645\n",
      "converged SCF energy = -7.83973481307468\n",
      "CASCI E = -7.83988873870585  E(CI) = -1.13786697142284\n",
      "Distance: 1.2205882352941178 Energy: -7.839888738705849\n",
      "converged SCF energy = -7.85458704379108\n",
      "CASCI E = -7.85475950015439  E(CI) = -1.11956724732734\n",
      "Distance: 1.3235294117647058 Energy: -7.854759500154392\n",
      "converged SCF energy = -7.86177843714702\n",
      "CASCI E = -7.86197670171169  E(CI) = -1.09815958226804\n",
      "Distance: 1.426470588235294 Energy: -7.8619767017116935\n",
      "converged SCF energy = -7.8633116080682\n",
      "CASCI E = -7.86354488665149  E(CI) = -1.0748127208591\n",
      "Distance: 1.5294117647058822 Energy: -7.8635448866514945\n",
      "converged SCF energy = -7.86064670314505\n",
      "CASCI E = -7.86092704498375  E(CI) = -1.05034462966818\n",
      "Distance: 1.6323529411764706 Energy: -7.860927044983746\n",
      "converged SCF energy = -7.85486879146126\n",
      "CASCI E = -7.85521228580037  E(CI) = -1.02533441088509\n",
      "Distance: 1.7352941176470589 Energy: -7.8552122858003735\n",
      "converged SCF energy = -7.84679451297411\n",
      "CASCI E = -7.8472229601767  E(CI) = -1.00019551759658\n",
      "Distance: 1.838235294117647 Energy: -7.847222960176698\n",
      "converged SCF energy = -7.83704350518106\n",
      "CASCI E = -7.83758754904454  E(CI) = -0.975225876503017\n",
      "Distance: 1.9411764705882353 Energy: -7.837587549044536\n",
      "converged SCF energy = -7.82608872294495\n",
      "CASCI E = -7.82679055818014  E(CI) = -0.950641054086619\n",
      "Distance: 2.0441176470588234 Energy: -7.826790558180142\n",
      "converged SCF energy = -7.81429338727225\n",
      "CASCI E = -7.81521393155523  E(CI) = -0.926602803060295\n",
      "Distance: 2.1470588235294117 Energy: -7.815213931555226\n",
      "converged SCF energy = -7.80193895704871\n",
      "CASCI E = -7.80316737242275  E(CI) = -0.903239371634147\n",
      "Distance: 2.25 Energy: -7.803167372422754\n",
      "converged SCF energy = -7.78924665565343\n",
      "CASCI E = -7.79091570321039  E(CI) = -0.880665068921219\n",
      "Distance: 2.352941176470588 Energy: -7.790915703210393\n",
      "converged SCF energy = -7.77639397760052\n",
      "CASCI E = -7.77870406432181  E(CI) = -0.858999386414669\n",
      "Distance: 2.4558823529411766 Energy: -7.7787040643218095\n",
      "converged SCF energy = -7.76352697892842\n",
      "CASCI E = -7.76678279857994  E(CI) = -0.83838712115821\n",
      "Distance: 2.5588235294117645 Energy: -7.766782798579943\n",
      "converged SCF energy = -7.75076889378322\n",
      "CASCI E = -7.75543029295755  E(CI) = -0.819017463317821\n",
      "Distance: 2.661764705882353 Energy: -7.755430292957553\n",
      "converged SCF energy = -7.73822560576096\n",
      "CASCI E = -7.74497225708977  E(CI) = -0.801140298864976\n",
      "Distance: 2.764705882352941 Energy: -7.744972257089771\n",
      "converged SCF energy = -7.72598860908042\n",
      "CASCI E = -7.73578067607908  E(CI) = -0.785062778027815\n",
      "Distance: 2.8676470588235294 Energy: -7.735780676079079\n",
      "converged SCF energy = -7.71413620044294\n",
      "CASCI E = -7.72823511148812  E(CI) = -0.77110873295058\n",
      "Distance: 2.9705882352941178 Energy: -7.728235111488115\n",
      "converged SCF energy = -7.70273366319321\n",
      "CASCI E = -7.72264533826172  E(CI) = -0.759539767290595\n",
      "Distance: 3.0735294117647056 Energy: -7.722645338261722\n",
      "converged SCF energy = -7.69183311202033\n",
      "CASCI E = -7.71917092772133  E(CI) = -0.750473607347791\n",
      "Distance: 3.176470588235294 Energy: -7.7191709277213345\n",
      "converged SCF energy = -7.68147348252318\n",
      "CASCI E = -7.71779051141344  E(CI) = -0.743852357756161\n",
      "Distance: 3.2794117647058822 Energy: -7.717790511413437\n",
      "converged SCF energy = -7.67168093005622\n",
      "CASCI E = -7.71832945329977  E(CI) = -0.739469348960497\n",
      "Distance: 3.3823529411764706 Energy: -7.718329453299767\n",
      "converged SCF energy = -7.6624697036603\n",
      "CASCI E = -7.72050393667799  E(CI) = -0.737012546593935\n",
      "Distance: 3.485294117647059 Energy: -7.720503936677987\n",
      "converged SCF energy = -7.6538434213016\n",
      "CASCI E = -7.72396890147301  E(CI) = -0.736111929425856\n",
      "Distance: 3.5882352941176467 Energy: -7.723968901473012\n",
      "converged SCF energy = -7.64579660239975\n",
      "CASCI E = -7.72834531109485  E(CI) = -0.736366293807914\n",
      "Distance: 3.691176470588235 Energy: -7.728345311094849\n",
      "converged SCF energy = -7.63831630120737\n",
      "CASCI E = -7.73326403870288  E(CI) = -0.7373867504024\n",
      "Distance: 3.7941176470588234 Energy: -7.73326403870288\n",
      "converged SCF energy = -7.63138370871051\n",
      "CASCI E = -7.73839219983403  E(CI) = -0.738822739136575\n",
      "Distance: 3.8970588235294117 Energy: -7.738392199834031\n",
      "converged SCF energy = -7.62497563013132\n",
      "CASCI E = -7.74346212392445  E(CI) = -0.740390726097456\n",
      "Distance: 4.0 Energy: -7.7434621239244485\n"
     ]
    }
   ],
   "source": [
    "# initialize the list for storing energies\n",
    "energies = []\n",
    "\n",
    "for d in distances:\n",
    "    # define the molecule\n",
    "    mol = gto.M(atom=\"Li 0 0 0; H 0 0 \" + str(d), basis=\"sto-3g\")\n",
    "    h_f = scf.RHF(mol).run()\n",
    "    cas = mcscf.CASCI(h_f, norb, nelec)\n",
    "\n",
    "    # define the mapper and ansatz\n",
    "    mapper = ParityMapper(num_particles=(nalpha, nbeta))\n",
    "    ansatz = UCCSD(\n",
    "        norb,\n",
    "        (nalpha, nbeta),\n",
    "        mapper,\n",
    "        initial_state=HartreeFock(\n",
    "            norb,\n",
    "            (nalpha, nbeta),\n",
    "            mapper,\n",
    "        ),\n",
    "    )\n",
    "\n",
    "    # define the VQE and the algorithm\n",
    "    vqe = VQE(Estimator(), ansatz, SLSQP())\n",
    "    vqe.initial_point = np.zeros(ansatz.num_parameters)\n",
    "    algorithm = GroundStateEigensolver(mapper, vqe)\n",
    "    cas.fcisolver = QiskitSolver(algorithm)\n",
    "    \n",
    "    # compute the ground state energy\n",
    "    res = cas.run()\n",
    "    \n",
    "    # print intermediate result\n",
    "    print(\"Distance:\", d, \"Energy:\", res.e_tot)\n",
    "    \n",
    "    # store the ground state energy\n",
    "    energies.append(res.e_tot)"
   ]
  },
  {
   "attachments": {},
   "cell_type": "markdown",
   "metadata": {},
   "source": [
    "## Plotting the dissociation curve\n",
    "\n",
    "Finally, we plot the dissociation curve of LiH. The minimum energy corresponds to the equilibrium bond length of the molecule.\n",
    "The dissociation curve shows how the energy changes with the distance between the lithium and hydrogen atoms. This curve is an important characteristic of the molecule and can be used to understand its behavior, for instance, in the context of battery materials.\n"
   ]
  },
  {
   "cell_type": "code",
   "execution_count": 11,
   "metadata": {},
   "outputs": [
    {
     "data": {
      "image/png": "[encoded data removed]",
      "text/plain": [
       "<Figure size 640x480 with 1 Axes>"
      ]
     },
     "metadata": {},
     "output_type": "display_data"
    }
   ],
   "source": [
    "# plot the results\n",
    "plt.plot(distances, energies)\n",
    "plt.title('Dissociation curve of LiH')\n",
    "plt.xlabel('Interatomic distance')\n",
    "plt.ylabel('Energy')\n",
    "plt.grid()\n",
    "plt.show()\n"
   ]
  },
  {
   "cell_type": "code",
   "execution_count": null,
   "metadata": {},
   "outputs": [],
   "source": []
  }
 ],
 "metadata": {
  "kernelspec": {
   "display_name": "qc",
   "language": "python",
   "name": "python3"
  },
  "language_info": {
   "codemirror_mode": {
    "name": "ipython",
    "version": 3
   },
   "file_extension": ".py",
   "mimetype": "text/x-python",
   "name": "python",
   "nbconvert_exporter": "python",
   "pygments_lexer": "ipython3",
   "version": "3.11.1"
  },
  "orig_nbformat": 4
 },
 "nbformat": 4,
 "nbformat_minor": 2
}
