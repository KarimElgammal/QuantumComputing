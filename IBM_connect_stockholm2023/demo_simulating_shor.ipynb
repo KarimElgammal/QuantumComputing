{
 "cells": [
  {
   "attachments": {},
   "cell_type": "markdown",
   "metadata": {},
   "source": [
    "## notebook to demonstrate Shor's algorithm as implemented in the qiskit SDK"
   ]
  },
  {
   "cell_type": "code",
   "execution_count": 1,
   "metadata": {},
   "outputs": [],
   "source": [
    "import qiskit\n",
    "import math\n",
    "from qiskit.tools.visualization import *\n",
    "from qiskit.tools.monitor import job_monitor\n",
    "from qiskit.utils import QuantumInstance\n",
    "#from qiskit.algorithms import Shor\n",
    "from qiskit.algorithms.factorizers.shor import Shor\n",
    "\n",
    "from qiskit import Aer\n",
    "from qiskit import IBMQ\n",
    "import qiskit.tools.jupyter\n",
    "import tqdm\n",
    "from qiskit import execute"
   ]
  },
  {
   "cell_type": "code",
   "execution_count": 2,
   "metadata": {},
   "outputs": [
    {
     "data": {
      "text/html": [
       "<h3>Version Information</h3><table><tr><th>Qiskit Software</th><th>Version</th></tr><tr><td><code>qiskit-terra</code></td><td>0.23.2</td></tr><tr><td><code>qiskit-aer</code></td><td>0.11.2</td></tr><tr><td><code>qiskit-ibmq-provider</code></td><td>0.20.1</td></tr><tr><td><code>qiskit</code></td><td>0.41.1</td></tr><tr><td><code>qiskit-nature</code></td><td>0.5.2</td></tr><tr><td><code>qiskit-finance</code></td><td>0.3.4</td></tr><tr><td><code>qiskit-optimization</code></td><td>0.5.0</td></tr><tr><td><code>qiskit-machine-learning</code></td><td>0.5.0</td></tr><tr><th>System information</th></tr><tr><td>Python version</td><td>3.11.1</td></tr><tr><td>Python compiler</td><td>Clang 14.0.0 (clang-1400.0.29.202)</td></tr><tr><td>Python build</td><td>main, Dec 23 2022 15:34:50</td></tr><tr><td>OS</td><td>Darwin</td></tr><tr><td>CPUs</td><td>8</td></tr><tr><td>Memory (Gb)</td><td>8.0</td></tr><tr><td colspan='2'>Mon May 22 13:33:22 2023 CEST</td></tr></table>"
      ],
      "text/plain": [
       "<IPython.core.display.HTML object>"
      ]
     },
     "metadata": {},
     "output_type": "display_data"
    }
   ],
   "source": [
    "%qiskit_version_table"
   ]
  },
  {
   "cell_type": "code",
   "execution_count": 3,
   "metadata": {},
   "outputs": [],
   "source": [
    "num2factorize=21"
   ]
  },
  {
   "cell_type": "code",
   "execution_count": 4,
   "metadata": {},
   "outputs": [
    {
     "name": "stderr",
     "output_type": "stream",
     "text": [
      "/var/folders/yk/_rb14s1j5tg2qcj87ml0w1n80000gn/T/ipykernel_23312/1855746145.py:1: DeprecationWarning: The Shor class is deprecated as of Qiskit Terra 0.22.0 and will be removed\n",
      "        no sooner than 3 months after the release date.\n",
      "        It is replaced by the tutorial at https://qiskit.org/textbook/ch-algorithms/shor.html\n",
      "        \n",
      "  factors = Shor(num2factorize)\n"
     ]
    }
   ],
   "source": [
    "factors = Shor(num2factorize)"
   ]
  },
  {
   "cell_type": "code",
   "execution_count": 5,
   "metadata": {},
   "outputs": [],
   "source": [
    "simulator = Aer.get_backend('aer_simulator') #qasm_simulator\n",
    "sim_job = QuantumInstance(backend=simulator,shots=128, skip_qobj_validation = False)"
   ]
  },
  {
   "cell_type": "code",
   "execution_count": 6,
   "metadata": {},
   "outputs": [
    {
     "name": "stderr",
     "output_type": "stream",
     "text": [
      "/var/folders/yk/_rb14s1j5tg2qcj87ml0w1n80000gn/T/ipykernel_23312/1508410665.py:1: DeprecationWarning: The Shor class is deprecated as of Qiskit Terra 0.22.0 and will be removed\n",
      "        no sooner than 3 months after the release date.\n",
      "        It is replaced by the tutorial at https://qiskit.org/textbook/ch-algorithms/shor.html\n",
      "        \n",
      "  sim_algo = Shor(quantum_instance=sim_job)\n"
     ]
    },
    {
     "data": {
      "text/plain": [
       "qiskit.algorithms.factorizers.shor.Shor"
      ]
     },
     "execution_count": 6,
     "metadata": {},
     "output_type": "execute_result"
    }
   ],
   "source": [
    "sim_algo = Shor(quantum_instance=sim_job)\n",
    "type(sim_algo)"
   ]
  },
  {
   "cell_type": "code",
   "execution_count": 7,
   "metadata": {},
   "outputs": [],
   "source": [
    "sim_result = sim_algo.factor(num2factorize)"
   ]
  },
  {
   "cell_type": "code",
   "execution_count": 8,
   "metadata": {},
   "outputs": [
    {
     "name": "stdout",
     "output_type": "stream",
     "text": [
      "The list of factors of 21 as computed by the Shor's algorithm is [3, 7].\n"
     ]
    }
   ],
   "source": [
    "print(f\"The list of factors of {num2factorize} as computed by the Shor's algorithm is {sim_result.factors[0]}.\")"
   ]
  },
  {
   "cell_type": "code",
   "execution_count": 9,
   "metadata": {},
   "outputs": [
    {
     "name": "stdout",
     "output_type": "stream",
     "text": [
      "The number of qubits in the circuit: 22\n"
     ]
    }
   ],
   "source": [
    "print(f'The number of qubits in the circuit: {sim_algo.construct_circuit(num2factorize).num_qubits}')"
   ]
  },
  {
   "attachments": {},
   "cell_type": "markdown",
   "metadata": {},
   "source": [
    "Lets check if we can do the same on IBMQ"
   ]
  },
  {
   "cell_type": "code",
   "execution_count": 10,
   "metadata": {},
   "outputs": [
    {
     "name": "stderr",
     "output_type": "stream",
     "text": [
      "/var/folders/yk/_rb14s1j5tg2qcj87ml0w1n80000gn/T/ipykernel_23312/2850719110.py:3: DeprecationWarning: The qiskit.IBMQ entrypoint and the qiskit-ibmq-provider package (accessible from 'qiskit.providers.ibmq`) are deprecated and will be removed in a future release. Instead you should use the qiskit-ibm-provider package which is accessible from 'qiskit_ibm_provider'. You can install it with 'pip install qiskit_ibm_provider'. Just replace 'qiskit.IBMQ' with 'qiskit_ibm_provider.IBMProvider'\n",
      "  IBMQ.save_account(myTocken,overwrite=True)\n"
     ]
    },
    {
     "data": {
      "text/plain": [
       "[<AccountProvider for IBMQ(hub='ibm-q', group='open', project='main')>]"
      ]
     },
     "execution_count": 10,
     "metadata": {},
     "output_type": "execute_result"
    }
   ],
   "source": [
    "with open('./tocken.txt', 'r') as file:\n",
    "    myTocken = file.read().replace('\\n', '')\n",
    "IBMQ.save_account(myTocken,overwrite=True)\n",
    "IBMQ.load_account()\n",
    "IBMQ.providers()"
   ]
  },
  {
   "attachments": {},
   "cell_type": "markdown",
   "metadata": {},
   "source": [
    "get a list of the quantum computing instances that we can run on it\n",
    "you can find more here: https://quantum-computing.ibm.com/lab/docs/iql/manage/account/ibmq#backends "
   ]
  },
  {
   "cell_type": "code",
   "execution_count": 11,
   "metadata": {},
   "outputs": [],
   "source": [
    "provider = IBMQ.get_provider('ibm-q')"
   ]
  },
  {
   "cell_type": "code",
   "execution_count": 12,
   "metadata": {},
   "outputs": [
    {
     "data": {
      "text/plain": [
       "[<IBMQSimulator('ibmq_qasm_simulator') from IBMQ(hub='ibm-q', group='open', project='main')>,\n",
       " <IBMQBackend('ibmq_lima') from IBMQ(hub='ibm-q', group='open', project='main')>,\n",
       " <IBMQBackend('ibmq_belem') from IBMQ(hub='ibm-q', group='open', project='main')>,\n",
       " <IBMQBackend('ibmq_quito') from IBMQ(hub='ibm-q', group='open', project='main')>,\n",
       " <IBMQSimulator('simulator_statevector') from IBMQ(hub='ibm-q', group='open', project='main')>,\n",
       " <IBMQSimulator('simulator_mps') from IBMQ(hub='ibm-q', group='open', project='main')>,\n",
       " <IBMQSimulator('simulator_extended_stabilizer') from IBMQ(hub='ibm-q', group='open', project='main')>,\n",
       " <IBMQSimulator('simulator_stabilizer') from IBMQ(hub='ibm-q', group='open', project='main')>,\n",
       " <IBMQBackend('ibmq_jakarta') from IBMQ(hub='ibm-q', group='open', project='main')>,\n",
       " <IBMQBackend('ibmq_manila') from IBMQ(hub='ibm-q', group='open', project='main')>,\n",
       " <IBMQBackend('ibm_lagos') from IBMQ(hub='ibm-q', group='open', project='main')>,\n",
       " <IBMQBackend('ibm_nairobi') from IBMQ(hub='ibm-q', group='open', project='main')>,\n",
       " <IBMQBackend('ibm_perth') from IBMQ(hub='ibm-q', group='open', project='main')>]"
      ]
     },
     "execution_count": 12,
     "metadata": {},
     "output_type": "execute_result"
    }
   ],
   "source": [
    "provider.backends()"
   ]
  },
  {
   "cell_type": "code",
   "execution_count": 13,
   "metadata": {},
   "outputs": [
    {
     "data": {
      "text/plain": [
       "[<IBMQBackend('ibmq_lima') from IBMQ(hub='ibm-q', group='open', project='main')>,\n",
       " <IBMQBackend('ibmq_belem') from IBMQ(hub='ibm-q', group='open', project='main')>,\n",
       " <IBMQBackend('ibmq_quito') from IBMQ(hub='ibm-q', group='open', project='main')>,\n",
       " <IBMQBackend('ibmq_jakarta') from IBMQ(hub='ibm-q', group='open', project='main')>,\n",
       " <IBMQBackend('ibmq_manila') from IBMQ(hub='ibm-q', group='open', project='main')>,\n",
       " <IBMQBackend('ibm_lagos') from IBMQ(hub='ibm-q', group='open', project='main')>,\n",
       " <IBMQBackend('ibm_nairobi') from IBMQ(hub='ibm-q', group='open', project='main')>,\n",
       " <IBMQBackend('ibm_perth') from IBMQ(hub='ibm-q', group='open', project='main')>]"
      ]
     },
     "execution_count": 13,
     "metadata": {},
     "output_type": "execute_result"
    }
   ],
   "source": [
    "provider.backends(simulator=False, operational=True)"
   ]
  },
  {
   "cell_type": "code",
   "execution_count": 14,
   "metadata": {},
   "outputs": [],
   "source": [
    "from qiskit.providers.ibmq import least_busy"
   ]
  },
  {
   "cell_type": "code",
   "execution_count": 15,
   "metadata": {},
   "outputs": [
    {
     "data": {
      "application/vnd.jupyter.widget-view+json": {
       "model_id": "2ac7e7799bc6423ea0018507041bdc8b",
       "version_major": 2,
       "version_minor": 0
      },
      "text/plain": [
       "VBox(children=(HTML(value=\"<h1 style='color:#ffffff;background-color:#000000;padding-top: 1%;padding-bottom: 1…"
      ]
     },
     "metadata": {},
     "output_type": "display_data"
    },
    {
     "data": {
      "text/plain": [
       "<IBMQBackend('ibmq_belem') from IBMQ(hub='ibm-q', group='open', project='main')>"
      ]
     },
     "execution_count": 15,
     "metadata": {},
     "output_type": "execute_result"
    }
   ],
   "source": [
    "small_devices = provider.backends(filters=lambda x: x.configuration().n_qubits < 6 and not x.configuration().simulator)\n",
    "least_busy(small_devices)"
   ]
  },
  {
   "cell_type": "code",
   "execution_count": 16,
   "metadata": {},
   "outputs": [
    {
     "data": {
      "text/plain": [
       "[<IBMQBackend('ibmq_lima') from IBMQ(hub='ibm-q', group='open', project='main')>,\n",
       " <IBMQBackend('ibmq_belem') from IBMQ(hub='ibm-q', group='open', project='main')>,\n",
       " <IBMQBackend('ibmq_quito') from IBMQ(hub='ibm-q', group='open', project='main')>,\n",
       " <IBMQBackend('ibmq_jakarta') from IBMQ(hub='ibm-q', group='open', project='main')>,\n",
       " <IBMQBackend('ibmq_manila') from IBMQ(hub='ibm-q', group='open', project='main')>,\n",
       " <IBMQBackend('ibm_lagos') from IBMQ(hub='ibm-q', group='open', project='main')>,\n",
       " <IBMQBackend('ibm_nairobi') from IBMQ(hub='ibm-q', group='open', project='main')>,\n",
       " <IBMQBackend('ibm_perth') from IBMQ(hub='ibm-q', group='open', project='main')>]"
      ]
     },
     "execution_count": 16,
     "metadata": {},
     "output_type": "execute_result"
    }
   ],
   "source": [
    "big_devices = provider.backends(filters=lambda x: x.configuration().n_qubits >= 5 and not x.configuration().simulator)\n",
    "big_devices"
   ]
  },
  {
   "cell_type": "code",
   "execution_count": 17,
   "metadata": {},
   "outputs": [
    {
     "data": {
      "application/vnd.jupyter.widget-view+json": {
       "model_id": "1aeece85bf4c432bbc8723497975b61c",
       "version_major": 2,
       "version_minor": 0
      },
      "text/plain": [
       "VBox(children=(HTML(value=\"<h1 style='color:#ffffff;background-color:#000000;padding-top: 1%;padding-bottom: 1…"
      ]
     },
     "metadata": {},
     "output_type": "display_data"
    },
    {
     "data": {
      "text/plain": [
       "<IBMQBackend('ibmq_belem') from IBMQ(hub='ibm-q', group='open', project='main')>"
      ]
     },
     "execution_count": 17,
     "metadata": {},
     "output_type": "execute_result"
    }
   ],
   "source": [
    "backend = least_busy(big_devices)\n",
    "backend"
   ]
  },
  {
   "cell_type": "code",
   "execution_count": 18,
   "metadata": {},
   "outputs": [
    {
     "data": {
      "text/plain": [
       "5"
      ]
     },
     "execution_count": 18,
     "metadata": {},
     "output_type": "execute_result"
    }
   ],
   "source": [
    "backend.configuration().n_qubits"
   ]
  },
  {
   "cell_type": "code",
   "execution_count": 19,
   "metadata": {},
   "outputs": [],
   "source": [
    "quantum_instance = QuantumInstance(backend=least_busy(big_devices),shots=128, skip_qobj_validation = False)"
   ]
  },
  {
   "cell_type": "code",
   "execution_count": 20,
   "metadata": {},
   "outputs": [
    {
     "data": {
      "text/html": [
       "<pre>&lt;qiskit.providers.models.backendstatus.BackendStatus object at 0x28862b150&gt;</pre><b>name</b>: ibmq_belem<br/><b>version</b>: 1.2.8, <b>pending jobs</b>: 11<br/><b>status</b>: active<br/>"
      ],
      "text/plain": [
       "<qiskit.providers.models.backendstatus.BackendStatus at 0x28862b150>"
      ]
     },
     "execution_count": 20,
     "metadata": {},
     "output_type": "execute_result"
    }
   ],
   "source": [
    "quantum_instance.backend.status()"
   ]
  },
  {
   "cell_type": "code",
   "execution_count": 36,
   "metadata": {},
   "outputs": [
    {
     "name": "stdout",
     "output_type": "stream",
     "text": [
      "The number of qubits in the device: 7\n",
      "The name of the device: ibmq_jakarta\n"
     ]
    },
    {
     "name": "stderr",
     "output_type": "stream",
     "text": [
      "/var/folders/yk/_rb14s1j5tg2qcj87ml0w1n80000gn/T/ipykernel_23312/1960062064.py:16: DeprecationWarning: The Shor class is deprecated as of Qiskit Terra 0.22.0 and will be removed\n",
      "        no sooner than 3 months after the release date.\n",
      "        It is replaced by the tutorial at https://qiskit.org/textbook/ch-algorithms/shor.html\n",
      "        \n",
      "  real_algo = Shor(quantum_instance=quantum_instance)\n"
     ]
    },
    {
     "ename": "TranspilerError",
     "evalue": "'Number of qubits (10) in Shor(N=3, a=2) is greater than maximum (7) in the coupling_map'",
     "output_type": "error",
     "traceback": [
      "\u001b[0;31m---------------------------------------------------------------------------\u001b[0m",
      "\u001b[0;31mTranspilerError\u001b[0m                           Traceback (most recent call last)",
      "Cell \u001b[0;32mIn[36], line 17\u001b[0m\n\u001b[1;32m     13\u001b[0m quantum_instance \u001b[39m=\u001b[39m QuantumInstance(backend\u001b[39m=\u001b[39mbackend,shots\u001b[39m=\u001b[39m\u001b[39m128\u001b[39m, skip_qobj_validation \u001b[39m=\u001b[39m \u001b[39mFalse\u001b[39;00m)\n\u001b[1;32m     16\u001b[0m real_algo \u001b[39m=\u001b[39m Shor(quantum_instance\u001b[39m=\u001b[39mquantum_instance)\n\u001b[0;32m---> 17\u001b[0m real_result \u001b[39m=\u001b[39m real_algo\u001b[39m.\u001b[39;49mfactor(num2factorize)\n\u001b[1;32m     19\u001b[0m \u001b[39mprint\u001b[39m(\u001b[39mf\u001b[39m\u001b[39m\"\u001b[39m\u001b[39mThe list of factors of \u001b[39m\u001b[39m{\u001b[39;00mnum2factorize\u001b[39m}\u001b[39;00m\u001b[39m as computed by the Shor\u001b[39m\u001b[39m'\u001b[39m\u001b[39ms algorithm is \u001b[39m\u001b[39m{\u001b[39;00mreal_result\u001b[39m.\u001b[39mfactors[\u001b[39m0\u001b[39m]\u001b[39m}\u001b[39;00m\u001b[39m.\u001b[39m\u001b[39m\"\u001b[39m)\n\u001b[1;32m     20\u001b[0m \u001b[39mprint\u001b[39m(\u001b[39mf\u001b[39m\u001b[39m'\u001b[39m\u001b[39mThe number of qubits in the circuit: \u001b[39m\u001b[39m{\u001b[39;00mreal_algo\u001b[39m.\u001b[39mconstruct_circuit(num2factorize)\u001b[39m.\u001b[39mnum_qubits\u001b[39m}\u001b[39;00m\u001b[39m'\u001b[39m)\n",
      "File \u001b[0;32m~/.pyenv/versions/3.11.1/envs/qc/lib/python3.11/site-packages/qiskit/algorithms/factorizers/shor.py:474\u001b[0m, in \u001b[0;36mShor.factor\u001b[0;34m(self, N, a)\u001b[0m\n\u001b[1;32m    472\u001b[0m \u001b[39melse\u001b[39;00m:\n\u001b[1;32m    473\u001b[0m     circuit \u001b[39m=\u001b[39m \u001b[39mself\u001b[39m\u001b[39m.\u001b[39mconstruct_circuit(N\u001b[39m=\u001b[39mN, a\u001b[39m=\u001b[39ma, measurement\u001b[39m=\u001b[39m\u001b[39mTrue\u001b[39;00m)\n\u001b[0;32m--> 474\u001b[0m     counts \u001b[39m=\u001b[39m \u001b[39mself\u001b[39;49m\u001b[39m.\u001b[39;49m_quantum_instance\u001b[39m.\u001b[39;49mexecute(circuit)\u001b[39m.\u001b[39mget_counts(circuit)\n\u001b[1;32m    476\u001b[0m result\u001b[39m.\u001b[39mtotal_counts \u001b[39m=\u001b[39m \u001b[39mlen\u001b[39m(counts)\n\u001b[1;32m    478\u001b[0m \u001b[39m# For each simulation result, print proper info to user\u001b[39;00m\n\u001b[1;32m    479\u001b[0m \u001b[39m# and try to calculate the factors of N\u001b[39;00m\n",
      "File \u001b[0;32m~/.pyenv/versions/3.11.1/envs/qc/lib/python3.11/site-packages/qiskit/utils/quantum_instance.py:508\u001b[0m, in \u001b[0;36mQuantumInstance.execute\u001b[0;34m(self, circuits, had_transpiled)\u001b[0m\n\u001b[1;32m    505\u001b[0m         circuits \u001b[39m=\u001b[39m [circuits]\n\u001b[1;32m    506\u001b[0m \u001b[39melse\u001b[39;00m:\n\u001b[1;32m    507\u001b[0m     \u001b[39m# transpile here, the method always returns a copied list\u001b[39;00m\n\u001b[0;32m--> 508\u001b[0m     circuits \u001b[39m=\u001b[39m \u001b[39mself\u001b[39;49m\u001b[39m.\u001b[39;49mtranspile(circuits)\n\u001b[1;32m    510\u001b[0m \u001b[39mif\u001b[39;00m \u001b[39mself\u001b[39m\u001b[39m.\u001b[39mis_statevector \u001b[39mand\u001b[39;00m \u001b[39m\"\u001b[39m\u001b[39maer_simulator_statevector\u001b[39m\u001b[39m\"\u001b[39m \u001b[39min\u001b[39;00m \u001b[39mself\u001b[39m\u001b[39m.\u001b[39mbackend_name:\n\u001b[1;32m    511\u001b[0m     \u001b[39mtry\u001b[39;00m:\n",
      "File \u001b[0;32m~/.pyenv/versions/3.11.1/envs/qc/lib/python3.11/site-packages/qiskit/utils/quantum_instance.py:434\u001b[0m, in \u001b[0;36mQuantumInstance.transpile\u001b[0;34m(self, circuits, pass_manager)\u001b[0m\n\u001b[1;32m    431\u001b[0m \u001b[39mif\u001b[39;00m pass_manager \u001b[39mis\u001b[39;00m \u001b[39mNone\u001b[39;00m:\n\u001b[1;32m    432\u001b[0m     \u001b[39m# if they haven't been set in the init, use the transpile args from the init\u001b[39;00m\n\u001b[1;32m    433\u001b[0m     \u001b[39mif\u001b[39;00m \u001b[39mself\u001b[39m\u001b[39m.\u001b[39m_pass_manager \u001b[39mis\u001b[39;00m \u001b[39mNone\u001b[39;00m \u001b[39mand\u001b[39;00m \u001b[39mself\u001b[39m\u001b[39m.\u001b[39m_bound_pass_manager \u001b[39mis\u001b[39;00m \u001b[39mNone\u001b[39;00m:\n\u001b[0;32m--> 434\u001b[0m         transpiled_circuits \u001b[39m=\u001b[39m compiler\u001b[39m.\u001b[39;49mtranspile(\n\u001b[1;32m    435\u001b[0m             circuits, \u001b[39mself\u001b[39;49m\u001b[39m.\u001b[39;49m_backend, \u001b[39m*\u001b[39;49m\u001b[39m*\u001b[39;49m\u001b[39mself\u001b[39;49m\u001b[39m.\u001b[39;49m_backend_config, \u001b[39m*\u001b[39;49m\u001b[39m*\u001b[39;49m\u001b[39mself\u001b[39;49m\u001b[39m.\u001b[39;49m_compile_config\n\u001b[1;32m    436\u001b[0m         )\n\u001b[1;32m    437\u001b[0m     \u001b[39m# it they have been set, run them\u001b[39;00m\n\u001b[1;32m    438\u001b[0m     \u001b[39melse\u001b[39;00m:\n\u001b[1;32m    439\u001b[0m         pass_manager \u001b[39m=\u001b[39m PassManager()\n",
      "File \u001b[0;32m~/.pyenv/versions/3.11.1/envs/qc/lib/python3.11/site-packages/qiskit/compiler/transpiler.py:359\u001b[0m, in \u001b[0;36mtranspile\u001b[0;34m(circuits, backend, basis_gates, inst_map, coupling_map, backend_properties, initial_layout, layout_method, routing_method, translation_method, scheduling_method, instruction_durations, dt, approximation_degree, timing_constraints, seed_transpiler, optimization_level, callback, output_name, unitary_synthesis_method, unitary_synthesis_plugin_config, target, hls_config, init_method, optimization_method, ignore_backend_supplied_default_methods)\u001b[0m\n\u001b[1;32m    357\u001b[0m \u001b[39melse\u001b[39;00m:\n\u001b[1;32m    358\u001b[0m     cmap_conf \u001b[39m=\u001b[39m [shared_args[\u001b[39m\"\u001b[39m\u001b[39mcoupling_map\u001b[39m\u001b[39m\"\u001b[39m]] \u001b[39m*\u001b[39m \u001b[39mlen\u001b[39m(circuits)\n\u001b[0;32m--> 359\u001b[0m _check_circuits_coupling_map(circuits, cmap_conf, backend)\n\u001b[1;32m    360\u001b[0m \u001b[39mif\u001b[39;00m (\n\u001b[1;32m    361\u001b[0m     \u001b[39mlen\u001b[39m(circuits) \u001b[39m>\u001b[39m \u001b[39m1\u001b[39m\n\u001b[1;32m    362\u001b[0m     \u001b[39mand\u001b[39;00m os\u001b[39m.\u001b[39mgetenv(\u001b[39m\"\u001b[39m\u001b[39mQISKIT_IN_PARALLEL\u001b[39m\u001b[39m\"\u001b[39m, \u001b[39m\"\u001b[39m\u001b[39mFALSE\u001b[39m\u001b[39m\"\u001b[39m) \u001b[39m==\u001b[39m \u001b[39m\"\u001b[39m\u001b[39mFALSE\u001b[39m\u001b[39m\"\u001b[39m\n\u001b[1;32m    363\u001b[0m     \u001b[39mand\u001b[39;00m parallel\u001b[39m.\u001b[39mPARALLEL_DEFAULT\n\u001b[1;32m    364\u001b[0m ):\n\u001b[1;32m    365\u001b[0m     \u001b[39mwith\u001b[39;00m SharedMemoryManager() \u001b[39mas\u001b[39;00m smm:\n",
      "File \u001b[0;32m~/.pyenv/versions/3.11.1/envs/qc/lib/python3.11/site-packages/qiskit/compiler/transpiler.py:421\u001b[0m, in \u001b[0;36m_check_circuits_coupling_map\u001b[0;34m(circuits, cmap_conf, backend)\u001b[0m\n\u001b[1;32m    418\u001b[0m         max_qubits \u001b[39m=\u001b[39m backend\u001b[39m.\u001b[39mnum_qubits\n\u001b[1;32m    420\u001b[0m \u001b[39mif\u001b[39;00m max_qubits \u001b[39mis\u001b[39;00m \u001b[39mnot\u001b[39;00m \u001b[39mNone\u001b[39;00m \u001b[39mand\u001b[39;00m (num_qubits \u001b[39m>\u001b[39m max_qubits):\n\u001b[0;32m--> 421\u001b[0m     \u001b[39mraise\u001b[39;00m TranspilerError(\n\u001b[1;32m    422\u001b[0m         \u001b[39mf\u001b[39m\u001b[39m\"\u001b[39m\u001b[39mNumber of qubits (\u001b[39m\u001b[39m{\u001b[39;00mnum_qubits\u001b[39m}\u001b[39;00m\u001b[39m) in \u001b[39m\u001b[39m{\u001b[39;00mcircuit\u001b[39m.\u001b[39mname\u001b[39m}\u001b[39;00m\u001b[39m \u001b[39m\u001b[39m\"\u001b[39m\n\u001b[1;32m    423\u001b[0m         \u001b[39mf\u001b[39m\u001b[39m\"\u001b[39m\u001b[39mis greater than maximum (\u001b[39m\u001b[39m{\u001b[39;00mmax_qubits\u001b[39m}\u001b[39;00m\u001b[39m) in the coupling_map\u001b[39m\u001b[39m\"\u001b[39m\n\u001b[1;32m    424\u001b[0m     )\n",
      "\u001b[0;31mTranspilerError\u001b[0m: 'Number of qubits (10) in Shor(N=3, a=2) is greater than maximum (7) in the coupling_map'"
     ]
    }
   ],
   "source": [
    "#Let's do the same but with the real device instead of the simulator (it will take a while)\n",
    "num2factorize=3\n",
    "#choose a backend from big_devices list and print the number of qubits in the device\n",
    "big_devices = provider.backends(filters=lambda x: x.configuration().n_qubits >= 7 and not x.configuration().simulator)\n",
    "least_busy(big_devices)\n",
    "\n",
    "backend = least_busy(big_devices)\n",
    "print(f'The number of qubits in the device: {backend.configuration().n_qubits}')\n",
    "\n",
    "#what is the name of the device?\n",
    "print(f'The name of the device: {backend.name()}')\n",
    "\n",
    "quantum_instance = QuantumInstance(backend=backend,shots=128, skip_qobj_validation = False)\n",
    "\n",
    "\n",
    "real_algo = Shor(quantum_instance=quantum_instance)\n",
    "real_result = real_algo.factor(num2factorize)\n",
    "\n",
    "print(f\"The list of factors of {num2factorize} as computed by the Shor's algorithm is {real_result.factors[0]}.\")\n",
    "print(f'The number of qubits in the circuit: {real_algo.construct_circuit(num2factorize).num_qubits}')"
   ]
  },
  {
   "cell_type": "code",
   "execution_count": 35,
   "metadata": {},
   "outputs": [
    {
     "data": {
      "application/vnd.jupyter.widget-view+json": {
       "model_id": "69ba7e82f67141ab9b9bd7542a2265fa",
       "version_major": 2,
       "version_minor": 0
      },
      "text/plain": [
       "VBox(children=(HTML(value=\"<h1 style='color:#ffffff;background-color:#000000;padding-top: 1%;padding-bottom: 1…"
      ]
     },
     "metadata": {},
     "output_type": "display_data"
    },
    {
     "data": {
      "text/plain": [
       "<IBMQBackend('ibmq_jakarta') from IBMQ(hub='ibm-q', group='open', project='main')>"
      ]
     },
     "execution_count": 35,
     "metadata": {},
     "output_type": "execute_result"
    }
   ],
   "source": []
  },
  {
   "cell_type": "code",
   "execution_count": null,
   "metadata": {},
   "outputs": [],
   "source": []
  }
 ],
 "metadata": {
  "interpreter": {
   "hash": "27af1eeeb92b5991d3180e82c8d8b1547dacbfe5a769b447ec95fa790dfbbaa9"
  },
  "kernelspec": {
   "display_name": "Python 3.10.2 64-bit ('3.10.2')",
   "language": "python",
   "name": "python3"
  },
  "language_info": {
   "codemirror_mode": {
    "name": "ipython",
    "version": 3
   },
   "file_extension": ".py",
   "mimetype": "text/x-python",
   "name": "python",
   "nbconvert_exporter": "python",
   "pygments_lexer": "ipython3",
   "version": "3.11.1"
  },
  "orig_nbformat": 4
 },
 "nbformat": 4,
 "nbformat_minor": 2
}
