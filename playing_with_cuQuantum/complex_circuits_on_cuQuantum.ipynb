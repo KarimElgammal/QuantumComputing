{
 "cells": [
  {
   "cell_type": "markdown",
   "metadata": {},
   "source": [
    "## Running a more complex circuit\n",
    "\n",
    "A common building block of many quantum algorithms is the Quantum Fourier Transform (QFT), which transforms the basis states of an N-qubit system an integer $|n\\rangle$ \n",
    "to a Fourier basis\n",
    "\n",
    "$$\n",
    "\\text{QFT}|n\\rangle = \\frac{1}{2^N} \\sum_{k=0}^{n-1} \\omega_{2^N}^{nk} |k\\rangle\n",
    "$$\n",
    "\n",
    "where $\\omega_{2^N} = e^{2 \\pi i / 2^N}$. This algorithm is already provided by Cirq and can be used directly in a circuit:"
   ]
  },
  {
   "cell_type": "code",
   "execution_count": 18,
   "metadata": {},
   "outputs": [],
   "source": [
    "import cirq\n",
    "import qsimcirq\n",
    "import time"
   ]
  },
  {
   "cell_type": "code",
   "execution_count": 3,
   "metadata": {},
   "outputs": [],
   "source": [
    "c = cirq.Circuit()"
   ]
  },
  {
   "cell_type": "code",
   "execution_count": 4,
   "metadata": {},
   "outputs": [],
   "source": [
    "qubits = cirq.LineQubit.range(22)"
   ]
  },
  {
   "cell_type": "code",
   "execution_count": 5,
   "metadata": {},
   "outputs": [],
   "source": [
    "c.append(cirq.qft(*qubits))"
   ]
  },
  {
   "cell_type": "code",
   "execution_count": 6,
   "metadata": {},
   "outputs": [
    {
     "name": "stdout",
     "output_type": "stream",
     "text": [
      "0: ────qft───\n",
      "       │\n",
      "1: ────#2────\n",
      "       │\n",
      "2: ────#3────\n",
      "       │\n",
      "3: ────#4────\n",
      "       │\n",
      "4: ────#5────\n",
      "       │\n",
      "5: ────#6────\n",
      "       │\n",
      "6: ────#7────\n",
      "       │\n",
      "7: ────#8────\n",
      "       │\n",
      "8: ────#9────\n",
      "       │\n",
      "9: ────#10───\n",
      "       │\n",
      "10: ───#11───\n",
      "       │\n",
      "11: ───#12───\n",
      "       │\n",
      "12: ───#13───\n",
      "       │\n",
      "13: ───#14───\n",
      "       │\n",
      "14: ───#15───\n",
      "       │\n",
      "15: ───#16───\n",
      "       │\n",
      "16: ───#17───\n",
      "       │\n",
      "17: ───#18───\n",
      "       │\n",
      "18: ───#19───\n",
      "       │\n",
      "19: ───#20───\n",
      "       │\n",
      "20: ───#21───\n",
      "       │\n",
      "21: ───#22───\n"
     ]
    }
   ],
   "source": [
    "print(c)"
   ]
  },
  {
   "cell_type": "code",
   "execution_count": 7,
   "metadata": {},
   "outputs": [],
   "source": [
    "c.append(cirq.measure_each(*qubits))"
   ]
  },
  {
   "cell_type": "code",
   "execution_count": 8,
   "metadata": {},
   "outputs": [
    {
     "name": "stdout",
     "output_type": "stream",
     "text": [
      "0: ────qft───M───\n",
      "       │\n",
      "1: ────#2────M───\n",
      "       │\n",
      "2: ────#3────M───\n",
      "       │\n",
      "3: ────#4────M───\n",
      "       │\n",
      "4: ────#5────M───\n",
      "       │\n",
      "5: ────#6────M───\n",
      "       │\n",
      "6: ────#7────M───\n",
      "       │\n",
      "7: ────#8────M───\n",
      "       │\n",
      "8: ────#9────M───\n",
      "       │\n",
      "9: ────#10───M───\n",
      "       │\n",
      "10: ───#11───M───\n",
      "       │\n",
      "11: ───#12───M───\n",
      "       │\n",
      "12: ───#13───M───\n",
      "       │\n",
      "13: ───#14───M───\n",
      "       │\n",
      "14: ───#15───M───\n",
      "       │\n",
      "15: ───#16───M───\n",
      "       │\n",
      "16: ───#17───M───\n",
      "       │\n",
      "17: ───#18───M───\n",
      "       │\n",
      "18: ───#19───M───\n",
      "       │\n",
      "19: ───#20───M───\n",
      "       │\n",
      "20: ───#21───M───\n",
      "       │\n",
      "21: ───#22───M───\n"
     ]
    }
   ],
   "source": [
    "print(c)"
   ]
  },
  {
   "cell_type": "markdown",
   "metadata": {},
   "source": [
    "Simulating this circuit with Cirq's native simulator is a bit time consuming..."
   ]
  },
  {
   "cell_type": "code",
   "execution_count": 17,
   "metadata": {},
   "outputs": [
    {
     "name": "stdout",
     "output_type": "stream",
     "text": [
      "    0  1  2  3  4  5  6  7  8  9  ...  12  13  14  15  16  17  18  19  20  21\n",
      "0   0  0  1  0  0  1  1  0  1  0  ...   0   1   1   0   1   1   1   0   0   0\n",
      "1   1  0  1  1  1  1  1  0  1  0  ...   1   0   1   0   0   0   1   1   1   0\n",
      "2   0  1  1  0  0  1  0  0  1  0  ...   0   1   1   1   1   1   0   1   0   1\n",
      "3   1  1  1  1  0  0  1  0  1  1  ...   0   0   1   1   0   0   0   0   0   1\n",
      "4   1  0  1  1  0  1  1  0  1  1  ...   1   0   0   1   1   0   0   1   0   0\n",
      "5   0  1  1  1  0  0  1  0  0  1  ...   1   1   0   1   1   0   0   1   0   1\n",
      "6   1  0  0  0  1  1  1  0  1  0  ...   0   0   1   0   1   0   1   0   1   0\n",
      "7   1  1  1  0  1  0  0  0  0  0  ...   1   1   0   0   0   1   1   0   1   1\n",
      "8   0  1  0  1  1  0  0  0  1  0  ...   0   1   1   1   1   1   1   1   0   0\n",
      "9   1  0  1  1  0  1  1  1  0  0  ...   1   1   1   1   0   0   1   0   0   1\n",
      "10  0  1  0  1  1  0  1  0  1  0  ...   1   1   1   1   0   1   0   0   1   1\n",
      "11  1  1  0  0  0  0  1  1  1  0  ...   1   0   0   1   1   0   1   1   0   0\n",
      "12  0  1  1  0  0  1  0  1  0  0  ...   0   1   0   0   1   1   1   1   1   0\n",
      "13  0  1  0  1  0  1  1  1  0  1  ...   1   0   1   0   0   0   0   1   1   0\n",
      "14  1  1  0  1  1  1  0  0  0  1  ...   1   1   1   1   0   1   1   1   1   1\n",
      "15  1  1  1  1  0  1  0  0  1  0  ...   0   1   0   1   1   0   1   1   1   0\n",
      "16  0  1  0  0  0  1  0  0  0  1  ...   1   1   1   1   1   1   0   1   0   0\n",
      "17  1  0  1  1  0  0  0  0  1  0  ...   0   1   0   0   1   1   1   0   0   0\n",
      "18  0  1  0  0  0  0  0  1  0  0  ...   1   1   1   0   0   1   1   0   1   1\n",
      "19  1  1  0  1  0  1  1  1  1  0  ...   0   0   1   1   1   1   1   1   1   0\n",
      "\n",
      "[20 rows x 22 columns]\n",
      "--- 52.59086275100708 seconds ---\n",
      "runtime: 52.59s\n"
     ]
    }
   ],
   "source": [
    "#let's simulate the circuit with cirq native simulator\n",
    "cirq_simulator = cirq.Simulator()\n",
    "start_time = time.time()\n",
    "cirq_simulator_result = cirq_simulator.sample(c, repetitions=20)\n",
    "print(repr(cirq_simulator_result))\n",
    "print(\"--- %s seconds ---\" % (time.time() - start_time))\n",
    "print(\"runtime: {:.2f}s\".format(time.time() - start_time))\n"
   ]
  },
  {
   "cell_type": "markdown",
   "metadata": {},
   "source": [
    "## Running with qsim + cuQuantum\n",
    "\n",
    "The same circuit simulated with qsim on GPUs using NVIDIA cuQuantum library can accelerate this simulation substantially.\n",
    "\n",
    "We first need to setup the simulator with GPU support. The NVIDIA cuQuantum Appliance added a few options to QsimOptions:\n",
    "\n",
    "#### gpu_mode\n",
    "The GPU simulator backend to use. If 1, the simulator backend will use cuStateVec. If n, an integer greater than 1, the simulator will use the multi-GPU backend with the first n devices (if available). If a sequence of integers, the simulator will use the multi-GPU backend with devices whose ordinals match the values in the list. Default is to use the multi-GPU backend with device 0\n",
    "\n",
    "#### use_sampler\n",
    "If None, the multi-GPU backend will use its sampler, and all other backends will use their default sampler. If True, use the multi-GPU backend’s sampler. If False, the multi-GPU backend’s sampler is disabled\n",
    "\n",
    "#### disable_gpu\n",
    "Whether or not to disable the GPU simulator backend. All GPU options are only considered when this is False (default). Note the difference from qsimcirq’s use_gpu keyword.\n",
    "\n",
    "We setup the qsim simulator with one GPU:"
   ]
  },
  {
   "cell_type": "code",
   "execution_count": 19,
   "metadata": {},
   "outputs": [],
   "source": [
    "ngpus = 1\n",
    "qsim_options = qsimcirq.QSimOptions(\n",
    "        max_fused_gate_size = 2\n",
    "        , cpu_threads = 1\n",
    "        , gpu_mode = ngpus\n",
    "        , use_sampler = True\n",
    "        , disable_gpu = False\n",
    "    )\n",
    "qsim_simulator = qsimcirq.QSimSimulator(qsim_options)"
   ]
  },
  {
   "cell_type": "markdown",
   "metadata": {},
   "source": [
    "... and rerun the same circuit simulation on the GPU using the same syntax as before"
   ]
  },
  {
   "cell_type": "code",
   "execution_count": 20,
   "metadata": {},
   "outputs": [
    {
     "name": "stdout",
     "output_type": "stream",
     "text": [
      "    0  1  2  3  4  5  6  7  8  9  ...  12  13  14  15  16  17  18  19  20  21\n",
      "0   0  1  0  1  1  1  1  0  1  0  ...   0   0   0   0   1   0   1   1   0   0\n",
      "1   1  1  0  0  0  0  0  1  0  0  ...   1   1   0   0   1   0   1   1   0   1\n",
      "2   0  0  1  1  1  1  0  1  1  0  ...   1   0   0   0   0   1   1   0   1   1\n",
      "3   1  0  0  1  1  1  1  1  0  1  ...   0   0   0   0   1   1   1   1   0   1\n",
      "4   1  0  0  1  0  0  0  1  1  1  ...   1   1   0   0   1   0   1   0   1   1\n",
      "5   1  1  1  0  0  0  1  0  1  0  ...   0   1   1   1   1   0   0   0   0   0\n",
      "6   1  0  1  0  1  1  0  0  0  1  ...   0   0   1   0   0   0   1   1   0   1\n",
      "7   0  0  0  1  1  1  1  1  0  0  ...   0   0   1   1   0   1   0   1   0   0\n",
      "8   1  0  1  1  1  1  1  1  0  1  ...   0   0   0   0   0   0   0   1   1   1\n",
      "9   0  1  1  1  0  1  0  0  0  0  ...   0   0   0   0   1   0   1   1   1   0\n",
      "10  1  0  0  0  1  1  0  1  1  0  ...   0   1   1   1   1   1   0   0   0   1\n",
      "11  1  0  0  1  1  1  1  1  1  0  ...   1   0   0   1   1   1   0   1   0   0\n",
      "12  1  0  1  1  0  0  1  0  0  1  ...   0   1   0   1   1   0   1   1   1   0\n",
      "13  0  1  0  1  1  1  1  0  0  0  ...   0   1   0   1   0   1   1   1   1   1\n",
      "14  0  1  0  1  1  1  1  0  0  1  ...   0   1   0   1   1   1   0   0   0   1\n",
      "15  1  0  0  1  1  1  1  1  0  0  ...   1   1   1   1   1   1   1   1   1   1\n",
      "16  0  0  1  0  1  0  0  1  0  0  ...   0   0   0   0   0   0   0   1   0   1\n",
      "17  1  0  1  0  0  0  1  0  0  1  ...   0   1   1   0   0   1   0   1   1   1\n",
      "18  0  0  1  0  0  0  0  0  0  1  ...   1   1   1   0   1   0   0   1   0   1\n",
      "19  0  0  1  0  0  1  0  0  1  1  ...   1   0   1   0   1   1   0   0   1   1\n",
      "\n",
      "[20 rows x 22 columns]\n",
      "--- 0.6677954196929932 seconds ---\n",
      "runtime: 0.67s\n"
     ]
    }
   ],
   "source": [
    "#let's simulate the circuit with qsim cirq simulator\n",
    "start_time = time.time()\n",
    "qsim_simulator_result = qsim_simulator.sample(c, repetitions=20)\n",
    "print(repr(qsim_simulator_result))\n",
    "print(\"--- %s seconds ---\" % (time.time() - start_time))\n",
    "print(\"runtime: {:.2f}s\".format(time.time() - start_time))"
   ]
  },
  {
   "cell_type": "code",
   "execution_count": null,
   "metadata": {},
   "outputs": [],
   "source": []
  }
 ],
 "metadata": {
  "kernelspec": {
   "display_name": "Python 3 (ipykernel)",
   "language": "python",
   "name": "python3"
  },
  "language_info": {
   "codemirror_mode": {
    "name": "ipython",
    "version": 3
   },
   "file_extension": ".py",
   "mimetype": "text/x-python",
   "name": "python",
   "nbconvert_exporter": "python",
   "pygments_lexer": "ipython3",
   "version": "3.8.13"
  },
  "orig_nbformat": 4
 },
 "nbformat": 4,
 "nbformat_minor": 2
}
