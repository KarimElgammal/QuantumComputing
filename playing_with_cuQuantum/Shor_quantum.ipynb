{
 "cells": [
  {
   "cell_type": "code",
   "execution_count": 3,
   "metadata": {},
   "outputs": [],
   "source": [
    "from math import gcd, log2, ceil\n",
    "import numpy as np\n",
    "from random import randint\n",
    "import sys\n",
    "sys.path.append('./GTC_tutorial/data')\n",
    "from qiskit.algorithms import Shor\n",
    "import cirq\n",
    "import qsimcirq\n",
    "import qiskit_to_cirq_conversion\n",
    "import fractions"
   ]
  },
  {
   "cell_type": "code",
   "execution_count": 4,
   "metadata": {},
   "outputs": [
    {
     "name": "stdout",
     "output_type": "stream",
     "text": [
      "/staff/GTC_tutorial\n"
     ]
    }
   ],
   "source": [
    "!pwd"
   ]
  },
  {
   "cell_type": "code",
   "execution_count": 5,
   "metadata": {},
   "outputs": [],
   "source": [
    "ngpus = 1\n",
    "qsim_options = qsimcirq.QSimOptions(\n",
    "        max_fused_gate_size = 2\n",
    "        , cpu_threads = 1\n",
    "        , gpu_mode = ngpus\n",
    "        , use_sampler = True\n",
    "        , disable_gpu = False\n",
    "    )\n",
    "qsim_simulator = qsimcirq.QSimSimulator(qsim_options)"
   ]
  },
  {
   "cell_type": "code",
   "execution_count": 6,
   "metadata": {},
   "outputs": [],
   "source": [
    "def get_num_bits(N):\n",
    "    return int(log2(N)+1)"
   ]
  },
  {
   "cell_type": "code",
   "execution_count": 7,
   "metadata": {},
   "outputs": [],
   "source": [
    "def get_histogram(result, width, shots):\n",
    "    if shots == 1:\n",
    "        return {result.tobytes(): 1}\n",
    "\n",
    "    # We rely on the PY37+ feature that the dict is ordered, and sort the\n",
    "    # measurement outcome (significant ones come first)\n",
    "    out = {}\n",
    "    axis = None if result.ndim == 1 else 0\n",
    "    keys, values = np.unique(result, axis=axis, return_counts=True)\n",
    "    idx = np.argsort(values)[::-1]\n",
    "    keys = keys[idx]\n",
    "    values = values[idx]\n",
    "    for i in range(keys.shape[0]):\n",
    "        # numpy arrays are not hashable\n",
    "        if result.ndim == 2:  # from qsimcirq\n",
    "            k = ''.join(str(keys[i])[1:-1].split())\n",
    "        else:\n",
    "            assert False\n",
    "        out[k] = values[i]\n",
    "\n",
    "    # sanity check\n",
    "    counts = 0\n",
    "    for k, v in out.items():\n",
    "        counts += v\n",
    "    assert counts == shots, f\"counts = {counts}, shots = {shots}\"\n",
    "\n",
    "    if shots/len(out) < 5.0:\n",
    "        print(f\"WARNING: too many ({len(out)}) unique bitstrings with limited shots ({shots}), \"\n",
    "              \"statistics may not be accurate\")\n",
    "\n",
    "    return out\n"
   ]
  },
  {
   "cell_type": "code",
   "execution_count": 8,
   "metadata": {},
   "outputs": [],
   "source": [
    "def get_factors(r, r_nbits, x, N):\n",
    "    assert r_nbits > 0\n",
    "    assert x > 0\n",
    "    assert N > 0\n",
    "    eigenphase = float(r) / 2**r_nbits\n",
    "    f = fractions.Fraction.from_float(eigenphase).limit_denominator(N)    \n",
    "    # If the numerator is zero, the order finder failed.\n",
    "    if f.numerator == 0:\n",
    "        return None\n",
    "    \n",
    "    # Else, return the denominator if it is valid.\n",
    "    r = f.denominator\n",
    "    if x**r % N != 1:\n",
    "        return None\n",
    "    return r"
   ]
  },
  {
   "cell_type": "code",
   "execution_count": 9,
   "metadata": {},
   "outputs": [],
   "source": [
    "def find_period_quantum(x, N):\n",
    "    \"\"\"The quantum algorithm to find the period r of x^r (mod N).\"\"\"\n",
    "    \n",
    "    print(\"Running quantum algorithm...\")\n",
    "    shots   = 128\n",
    "    nbits   = get_num_bits(N)\n",
    "    \n",
    "    qiskit_circuit              = Shor().construct_circuit(N, x)\n",
    "    cirq_circuit, qubit_offsets = qiskit_to_cirq_conversion.convert(qiskit_circuit)\n",
    "\n",
    "    print(\"Total number of qubits:\", qubit_offsets['total'])\n",
    "    cirq_circuit.append(cirq.measure_each(*cirq.LineQubit.range(qubit_offsets['up'], qubit_offsets['down'])))\n",
    "\n",
    "    result = qsim_simulator.sample(cirq_circuit,repetitions=shots)\n",
    "    measurement_results = result.to_numpy()\n",
    "    print(\"Measurement results:\")\n",
    "    print(measurement_results)\n",
    "    hist = get_histogram(measurement_results, qubit_offsets['down'], shots)\n",
    "    print(\"Number of occurences:\", hist)\n",
    "    most_probable_bitpattern = max(hist, key=hist.get)\n",
    "    result = int(most_probable_bitpattern[::-1],2)\n",
    "    print(\"Most probable bitpattern:\", most_probable_bitpattern, \"=\", result)\n",
    "    r = get_factors(result, qubit_offsets['down'], x, N)\n",
    "    print(\"Found period:\", r)\n",
    "    # #print the circuit \n",
    "    # print(cirq_circuit)\n",
    "    # #print the circuit using qiskit \n",
    "    # print(qiskit_circuit.draw())\n",
    "    # #as the circuit depth is big so maybe it won't work for large N\n",
    "    # # print(\"The circuit:\")\n",
    "    # # print(cirq_circuit)\n",
    "    return r"
   ]
  },
  {
   "cell_type": "code",
   "execution_count": 10,
   "metadata": {},
   "outputs": [],
   "source": [
    "def find_period(a, N):\n",
    "    r = find_period_quantum(a, N)\n",
    "    return r"
   ]
  },
  {
   "cell_type": "code",
   "execution_count": 11,
   "metadata": {},
   "outputs": [],
   "source": [
    "def shors_algorithm(N):\n",
    "    print(\"Running Shor's algorithm quantum on N =\", N)\n",
    "    while(True):\n",
    "        # 1. Select a random integer between 2 and N-1\n",
    "        a = randint(2,N-1)\n",
    "        \n",
    "        # 2. See if it happens to factor N\n",
    "        print(\"Trying a =\", a)\n",
    "        g = gcd(a,N)\n",
    "        if g != 1:\n",
    "            print(\"Found factor by chance:\", g)\n",
    "            return (g, N//g)\n",
    "        \n",
    "        # 3. Find the period a^r = 1 (mod N)\n",
    "        r = find_period(a, N)\n",
    "        if r != None and r % 2 != 1 and (r//2) % N != N-1:\n",
    "            a1 = gcd(a ** (r//2) + 1, N)\n",
    "            print(\"Found factor:\", a1)\n",
    "            return (a1, N//a1)\n",
    "            print(\"The resultL:\")\n",
    "            print(r)\n",
    "        print(\"retrying...\")"
   ]
  },
  {
   "cell_type": "code",
   "execution_count": 12,
   "metadata": {},
   "outputs": [
    {
     "name": "stdout",
     "output_type": "stream",
     "text": [
      "Running Shor's algorithm quantum on N = 15\n",
      "Trying a = 9\n",
      "Found factor by chance: 3\n"
     ]
    },
    {
     "data": {
      "text/plain": [
       "(3, 5)"
      ]
     },
     "execution_count": 12,
     "metadata": {},
     "output_type": "execute_result"
    }
   ],
   "source": [
    "my_integer = 3*5\n",
    "shors_algorithm(my_integer)"
   ]
  },
  {
   "cell_type": "code",
   "execution_count": 13,
   "metadata": {},
   "outputs": [
    {
     "name": "stdout",
     "output_type": "stream",
     "text": [
      "Running Shor's algorithm quantum on N = 25\n",
      "Trying a = 6\n",
      "Running quantum algorithm...\n",
      "Total number of qubits: 22\n",
      "Measurement results:\n",
      "[[0 1 1 ... 0 0 1]\n",
      " [1 0 1 ... 1 0 0]\n",
      " [0 0 0 ... 0 0 0]\n",
      " ...\n",
      " [1 1 0 ... 0 1 1]\n",
      " [0 1 1 ... 0 0 1]\n",
      " [1 1 0 ... 0 1 1]]\n",
      "Number of occurences: {'0000000000': 35, '1100110011': 30, '0110011001': 16, '1011001100': 13, '0101100110': 10, '1001100110': 6, '1110011001': 3, '1101100110': 3, '0001011001': 3, '1101001100': 2, '0100110011': 2, '1111001100': 1, '1010011001': 1, '1000110011': 1, '0011001100': 1, '0000010110': 1}\n",
      "Most probable bitpattern: 0000000000 = 0\n",
      "Found period: None\n",
      "retrying...\n",
      "Trying a = 5\n",
      "Found factor by chance: 5\n"
     ]
    },
    {
     "data": {
      "text/plain": [
       "(5, 5)"
      ]
     },
     "execution_count": 13,
     "metadata": {},
     "output_type": "execute_result"
    }
   ],
   "source": [
    "my_integer = 5*5\n",
    "shors_algorithm(my_integer)"
   ]
  },
  {
   "cell_type": "code",
   "execution_count": 14,
   "metadata": {},
   "outputs": [
    {
     "name": "stdout",
     "output_type": "stream",
     "text": [
      "Running Shor's algorithm quantum on N = 35\n",
      "Trying a = 27\n",
      "Running quantum algorithm...\n",
      "Total number of qubits: 26\n",
      "Measurement results:\n",
      "[[0 0 0 ... 0 1 1]\n",
      " [0 0 0 ... 0 0 1]\n",
      " [0 0 0 ... 0 0 1]\n",
      " ...\n",
      " [0 0 0 ... 0 1 1]\n",
      " [0 0 0 ... 0 0 1]\n",
      " [0 0 0 ... 0 1 1]]\n",
      "Number of occurences: {'000000000011': 37, '000000000001': 34, '000000000010': 32, '000000000000': 25}\n",
      "Most probable bitpattern: 000000000011 = 3072\n",
      "Found period: 4\n",
      "Found factor: 5\n"
     ]
    },
    {
     "data": {
      "text/plain": [
       "(5, 7)"
      ]
     },
     "execution_count": 14,
     "metadata": {},
     "output_type": "execute_result"
    }
   ],
   "source": [
    "my_integer = 5*7\n",
    "shors_algorithm(my_integer)"
   ]
  },
  {
   "cell_type": "code",
   "execution_count": 12,
   "metadata": {},
   "outputs": [
    {
     "name": "stdout",
     "output_type": "stream",
     "text": [
      "Running Shor's algorithm quantum on N = 45\n",
      "Trying a = 19\n",
      "Running quantum algorithm...\n",
      "Total number of qubits: 26\n",
      "Measurement results:\n",
      "[[0 0 0 ... 0 0 1]\n",
      " [0 0 0 ... 0 0 1]\n",
      " [0 0 0 ... 0 0 1]\n",
      " ...\n",
      " [0 0 0 ... 0 0 0]\n",
      " [0 0 0 ... 0 0 0]\n",
      " [0 0 0 ... 0 0 1]]\n",
      "Number of occurences: {'000000000000': 72, '000000000001': 56}\n",
      "Most probable bitpattern: 000000000000 = 0\n",
      "Found period: None\n",
      "retrying...\n",
      "Trying a = 37\n",
      "Running quantum algorithm...\n",
      "Total number of qubits: 26\n",
      "Measurement results:\n",
      "[[0 0 0 ... 0 1 0]\n",
      " [0 0 0 ... 0 0 0]\n",
      " [0 0 0 ... 0 0 1]\n",
      " ...\n",
      " [0 0 0 ... 0 1 1]\n",
      " [0 0 0 ... 0 1 0]\n",
      " [0 0 0 ... 0 0 0]]\n",
      "Number of occurences: {'000000000011': 36, '000000000010': 33, '000000000000': 32, '000000000001': 27}\n",
      "Most probable bitpattern: 000000000011 = 3072\n",
      "Found period: 4\n",
      "Found factor: 5\n"
     ]
    },
    {
     "data": {
      "text/plain": [
       "(5, 9)"
      ]
     },
     "execution_count": 12,
     "metadata": {},
     "output_type": "execute_result"
    }
   ],
   "source": [
    "my_integer = 5*9\n",
    "shors_algorithm(my_integer)"
   ]
  },
  {
   "cell_type": "code",
   "execution_count": 13,
   "metadata": {},
   "outputs": [
    {
     "name": "stdout",
     "output_type": "stream",
     "text": [
      "Running Shor's algorithm quantum on N = 63\n",
      "Trying a = 31\n",
      "Running quantum algorithm...\n",
      "Total number of qubits: 26\n",
      "Measurement results:\n",
      "[[1 0 1 ... 0 1 0]\n",
      " [0 0 0 ... 0 0 0]\n",
      " [1 1 0 ... 1 0 1]\n",
      " ...\n",
      " [0 1 1 ... 1 0 0]\n",
      " [1 1 1 ... 0 1 1]\n",
      " [1 0 1 ... 0 1 1]]\n",
      "Number of occurences: {'110101010101': 23, '000000000000': 22, '000000000001': 20, '101010101010': 18, '110101010100': 17, '101010101011': 11, '010101010101': 4, '011010101010': 2, '001010101011': 2, '011010101011': 2, '111010101010': 1, '010101010100': 1, '001011101011': 1, '011101010100': 1, '001010101010': 1, '110100101011': 1, '111010101011': 1}\n",
      "Most probable bitpattern: 110101010101 = 2731\n",
      "Found period: None\n",
      "retrying...\n",
      "Trying a = 9\n",
      "Found factor by chance: 9\n"
     ]
    },
    {
     "data": {
      "text/plain": [
       "(9, 7)"
      ]
     },
     "execution_count": 13,
     "metadata": {},
     "output_type": "execute_result"
    }
   ],
   "source": [
    "my_integer = 7*9\n",
    "shors_algorithm(my_integer)"
   ]
  },
  {
   "cell_type": "code",
   "execution_count": 15,
   "metadata": {},
   "outputs": [
    {
     "name": "stdout",
     "output_type": "stream",
     "text": [
      "Running Shor's algorithm quantum on N = 99\n",
      "Trying a = 17\n",
      "Running quantum algorithm...\n",
      "Total number of qubits: 30\n"
     ]
    }
   ],
   "source": [
    "my_integer = 11*9\n",
    "shors_algorithm(my_integer)"
   ]
  },
  {
   "cell_type": "markdown",
   "metadata": {},
   "source": [
    "# References\n",
    "\n",
    "* P. Shor, 1997 , \"Polynomial-time algorithms for prime factorization and discrete logarithms on a quantum computer\", SIAM J. Comp., 26, pp. 1484-150\n",
    "* S. Beauregard, 2003, \"Circuit for Shor's algorithm using 2n+3 qubits.\", Quantum Info. Comput. 3, 2 (March 2003), 175–185."
   ]
  },
  {
   "cell_type": "code",
   "execution_count": null,
   "metadata": {},
   "outputs": [],
   "source": []
  }
 ],
 "metadata": {
  "kernelspec": {
   "display_name": "Python 3.8.13 ('base')",
   "language": "python",
   "name": "python3"
  },
  "language_info": {
   "codemirror_mode": {
    "name": "ipython",
    "version": 3
   },
   "file_extension": ".py",
   "mimetype": "text/x-python",
   "name": "python",
   "nbconvert_exporter": "python",
   "pygments_lexer": "ipython3",
   "version": "3.8.13"
  },
  "orig_nbformat": 4,
  "vscode": {
   "interpreter": {
    "hash": "d4d1e4263499bec80672ea0156c357c1ee493ec2b1c70f0acce89fc37c4a6abe"
   }
  }
 },
 "nbformat": 4,
 "nbformat_minor": 2
}
