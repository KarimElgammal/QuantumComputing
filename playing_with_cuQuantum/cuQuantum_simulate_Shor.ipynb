{
 "cells": [
  {
   "cell_type": "markdown",
   "metadata": {},
   "source": [
    "## Factoring Integers"
   ]
  },
  {
   "cell_type": "markdown",
   "metadata": {},
   "source": [
    "The most famous application of quantum computers is factoring integers using Shor's algorithm. It is of considerate interest because an efficient algorithm for factoring would allow to crack modern asymmetric encryption schemes, such as RSA.\n",
    "\n",
    "For small integers this quantum algorithm can be simulated on a classical computer."
   ]
  },
  {
   "cell_type": "code",
   "execution_count": null,
   "metadata": {},
   "outputs": [],
   "source": [
    "#!pip install qiskit[all]"
   ]
  },
  {
   "cell_type": "markdown",
   "metadata": {},
   "source": [
    "Here we need a set of additional tools and helper functions, the actual algorithm will follow further down."
   ]
  },
  {
   "cell_type": "code",
   "execution_count": 1,
   "metadata": {},
   "outputs": [],
   "source": [
    "from math import gcd, log2, ceil\n",
    "import numpy as np\n",
    "from random import randint\n",
    "import sys\n",
    "sys.path.append('./GTC_tutorial/data')\n",
    "from qiskit.algorithms import Shor\n",
    "import qiskit_to_cirq_conversion\n",
    "import fractions\n"
   ]
  },
  {
   "cell_type": "code",
   "execution_count": 2,
   "metadata": {},
   "outputs": [],
   "source": [
    "def get_num_bits(N):\n",
    "    return int(log2(N)+1)\n"
   ]
  },
  {
   "cell_type": "code",
   "execution_count": 3,
   "metadata": {},
   "outputs": [],
   "source": [
    "def get_histogram(result, width, shots):\n",
    "    if shots == 1:\n",
    "        return {result.tobytes(): 1}\n",
    "\n",
    "    # We rely on the PY37+ feature that the dict is ordered, and sort the\n",
    "    # measurement outcome (significant ones come first)\n",
    "    out = {}\n",
    "    axis = None if result.ndim == 1 else 0\n",
    "    keys, values = np.unique(result, axis=axis, return_counts=True)\n",
    "    idx = np.argsort(values)[::-1]\n",
    "    keys = keys[idx]\n",
    "    values = values[idx]\n",
    "    for i in range(keys.shape[0]):\n",
    "        # numpy arrays are not hashable\n",
    "        if result.ndim == 2:  # from qsimcirq\n",
    "            k = ''.join(str(keys[i])[1:-1].split())\n",
    "        else:\n",
    "            assert False\n",
    "        out[k] = values[i]\n",
    "\n",
    "    # sanity check\n",
    "    counts = 0\n",
    "    for k, v in out.items():\n",
    "        counts += v\n",
    "    assert counts == shots, f\"counts = {counts}, shots = {shots}\"\n",
    "\n",
    "    if shots/len(out) < 5.0:\n",
    "        print(f\"WARNING: too many ({len(out)}) unique bitstrings with limited shots ({shots}), \"\n",
    "              \"statistics may not be accurate\")\n",
    "\n",
    "    return out\n"
   ]
  },
  {
   "cell_type": "code",
   "execution_count": 4,
   "metadata": {},
   "outputs": [],
   "source": [
    "def get_factors(r, r_nbits, x, N):\n",
    "    assert r_nbits > 0\n",
    "    assert x > 0\n",
    "    assert N > 0\n",
    "    eigenphase = float(r) / 2**r_nbits\n",
    "    f = fractions.Fraction.from_float(eigenphase).limit_denominator(N)    \n",
    "    # If the numerator is zero, the order finder failed.\n",
    "    if f.numerator == 0:\n",
    "        return None\n",
    "    \n",
    "    # Else, return the denominator if it is valid.\n",
    "    r = f.denominator\n",
    "    if x**r % N != 1:\n",
    "        return None\n",
    "    return r"
   ]
  },
  {
   "cell_type": "markdown",
   "metadata": {},
   "source": [
    "### Shor's algorithm\n",
    "The integer factoring problem is finding the components $g$, $h$ of a given product $N=g \\cdot h$ of two primes.\n",
    "\n",
    "The algorithm consists of two ideas.\n",
    "\n",
    "##### 1. Reduce the problem of factoring the integer to the order-finding problem (classically):\n",
    "Given an integer $a$ find the period $x=r$ of $a^x (\\text{mod} N)$, <br>\n",
    "i.e., the smallest positive integer $r$ that satisfies $a^r = 1 (\\text{mod} N)$."
   ]
  },
  {
   "cell_type": "code",
   "execution_count": 5,
   "metadata": {},
   "outputs": [],
   "source": [
    "def shors_algorithm(N):\n",
    "    print(\"Running Shor's algorithm classically on N =\", N)\n",
    "    while(True):\n",
    "        # 1. Select a random integer between 2 and N-1\n",
    "        a = randint(2,N-1)\n",
    "        \n",
    "        # 2. See if it happens to factor N\n",
    "        print(\"Trying a =\", a)\n",
    "        g = gcd(a,N)\n",
    "        if g != 1:\n",
    "            print(\"Found factor by chance:\", g)\n",
    "            return (g, N//g)\n",
    "        \n",
    "        # 3. Find the period a^r = 1 (mod N)\n",
    "        r = find_period(a, N)\n",
    "        \n",
    "        # 4. If a period is found and it is\n",
    "        # * even and\n",
    "        # * not a^(r/2) = -1 (mod N),\n",
    "        # the factors will be the gcd(a^(r/2) + 1, N), gcd(a^(r/2 - 1, N).\n",
    "        if r != None and r % 2 != 1 and (r//2) % N != N-1:\n",
    "            a1 = gcd(a ** (r//2) + 1, N)\n",
    "            print(\"Found factor:\", a1)\n",
    "            return (a1, N//a1)\n",
    "        print(\"retrying...\")"
   ]
  },
  {
   "cell_type": "markdown",
   "metadata": {},
   "source": [
    "##### 2. Solve the order-finding problem with a quantum algorithm.\n",
    "\n",
    "The key component of the algorithm is an efficient quantum algorithm to find the period $r$ of the operation $x^r (\\text{mod} N)$. A naive classical algorithm for this problem is easy to implement, but inefficient:"
   ]
  },
  {
   "cell_type": "code",
   "execution_count": 6,
   "metadata": {},
   "outputs": [],
   "source": [
    "def find_period(a, N):\n",
    "    return find_period_classical(a, N)"
   ]
  },
  {
   "cell_type": "code",
   "execution_count": 7,
   "metadata": {},
   "outputs": [],
   "source": [
    "def find_period_classical(a, N):\n",
    "    \"\"\"A naive classical method to find the period r of x^r (mod N).\"\"\"\n",
    "    assert 1 < a and a < N\n",
    "    r = 1\n",
    "    y = a\n",
    "    while y != 1:\n",
    "        y = y * a % N\n",
    "        r += 1\n",
    "    return r"
   ]
  },
  {
   "cell_type": "code",
   "execution_count": 8,
   "metadata": {},
   "outputs": [
    {
     "name": "stdout",
     "output_type": "stream",
     "text": [
      "Running Shor's algorithm classically on N = 15\n",
      "Trying a = 10\n",
      "Found factor by chance: 5\n"
     ]
    },
    {
     "data": {
      "text/plain": [
       "(5, 3)"
      ]
     },
     "execution_count": 8,
     "metadata": {},
     "output_type": "execute_result"
    }
   ],
   "source": [
    "my_integer = 3*5\n",
    "shors_algorithm(my_integer)"
   ]
  },
  {
   "cell_type": "markdown",
   "metadata": {},
   "source": [
    "An efficient quantum solution derives the period from a measurement of $n = \\lceil log2(N) \\rceil$ qubits:"
   ]
  },
  {
   "cell_type": "code",
   "execution_count": 9,
   "metadata": {},
   "outputs": [],
   "source": [
    "def find_period_quantum(x, N):\n",
    "    \"\"\"The quantum algorithm to find the period r of x^r (mod N).\"\"\"\n",
    "    \n",
    "    print(\"Running quantum algorithm...\")\n",
    "    shots   = 128\n",
    "    nbits   = get_num_bits(N)\n",
    "    \n",
    "    qiskit_circuit              = Shor().construct_circuit(N, x)\n",
    "    cirq_circuit, qubit_offsets = qiskit_to_cirq_conversion.convert(qiskit_circuit)\n",
    "\n",
    "    print(\"Total number of qubits:\", qubit_offsets['total'])\n",
    "    cirq_circuit.append(cirq.measure_each(*cirq.LineQubit.range(qubit_offsets['up'], qubit_offsets['down'])))\n",
    "\n",
    "    result = qsim_simulator.sample(cirq_circuit,repetitions=shots)\n",
    "    measurement_results = result.to_numpy()\n",
    "    print(\"Measurement results:\")\n",
    "    print(measurement_results)\n",
    "    hist = get_histogram(measurement_results, qubit_offsets['down'], shots)\n",
    "    print(\"Number of occurences:\", hist)\n",
    "    most_probable_bitpattern = max(hist, key=hist.get)\n",
    "    result = int(most_probable_bitpattern[::-1],2)\n",
    "    print(\"Most probable bitpattern:\", most_probable_bitpattern, \"=\", result)\n",
    "    r = get_factors(result, qubit_offsets['down'], x, N)\n",
    "    print(\"Found period:\", r)\n",
    "    print(\"The circuit:\")\n",
    "    print(cirq_circuit)\n",
    "    return r"
   ]
  },
  {
   "cell_type": "code",
   "execution_count": 10,
   "metadata": {},
   "outputs": [],
   "source": [
    "def find_period(a, N):\n",
    "    return find_period_quantum(a, N)"
   ]
  },
  {
   "cell_type": "code",
   "execution_count": 12,
   "metadata": {},
   "outputs": [
    {
     "name": "stdout",
     "output_type": "stream",
     "text": [
      "Running Shor's algorithm classically on N = 15\n",
      "Trying a = 7\n",
      "Running quantum algorithm...\n",
      "Total number of qubits: 18\n"
     ]
    },
    {
     "ename": "NameError",
     "evalue": "name 'cirq' is not defined",
     "output_type": "error",
     "traceback": [
      "\u001b[0;31m---------------------------------------------------------------------------\u001b[0m",
      "\u001b[0;31mNameError\u001b[0m                                 Traceback (most recent call last)",
      "Cell \u001b[0;32mIn [12], line 2\u001b[0m\n\u001b[1;32m      1\u001b[0m my_integer \u001b[38;5;241m=\u001b[39m \u001b[38;5;241m3\u001b[39m\u001b[38;5;241m*\u001b[39m\u001b[38;5;241m5\u001b[39m\n\u001b[0;32m----> 2\u001b[0m shors_algorithm(my_integer)\n",
      "Cell \u001b[0;32mIn [5], line 15\u001b[0m, in \u001b[0;36mshors_algorithm\u001b[0;34m(N)\u001b[0m\n\u001b[1;32m     12\u001b[0m     \u001b[38;5;28;01mreturn\u001b[39;00m (g, N\u001b[38;5;241m/\u001b[39m\u001b[38;5;241m/\u001b[39mg)\n\u001b[1;32m     14\u001b[0m \u001b[38;5;66;03m# 3. Find the period a^r = 1 (mod N)\u001b[39;00m\n\u001b[0;32m---> 15\u001b[0m r \u001b[38;5;241m=\u001b[39m \u001b[43mfind_period\u001b[49m\u001b[43m(\u001b[49m\u001b[43ma\u001b[49m\u001b[43m,\u001b[49m\u001b[43m \u001b[49m\u001b[43mN\u001b[49m\u001b[43m)\u001b[49m\n\u001b[1;32m     17\u001b[0m \u001b[38;5;66;03m# 4. If a period is found and it is\u001b[39;00m\n\u001b[1;32m     18\u001b[0m \u001b[38;5;66;03m# * even and\u001b[39;00m\n\u001b[1;32m     19\u001b[0m \u001b[38;5;66;03m# * not a^(r/2) = -1 (mod N),\u001b[39;00m\n\u001b[1;32m     20\u001b[0m \u001b[38;5;66;03m# the factors will be the gcd(a^(r/2) + 1, N), gcd(a^(r/2 - 1, N).\u001b[39;00m\n\u001b[1;32m     21\u001b[0m \u001b[38;5;28;01mif\u001b[39;00m r \u001b[38;5;241m!=\u001b[39m \u001b[38;5;28;01mNone\u001b[39;00m \u001b[38;5;129;01mand\u001b[39;00m r \u001b[38;5;241m%\u001b[39m \u001b[38;5;241m2\u001b[39m \u001b[38;5;241m!=\u001b[39m \u001b[38;5;241m1\u001b[39m \u001b[38;5;129;01mand\u001b[39;00m (r\u001b[38;5;241m/\u001b[39m\u001b[38;5;241m/\u001b[39m\u001b[38;5;241m2\u001b[39m) \u001b[38;5;241m%\u001b[39m N \u001b[38;5;241m!=\u001b[39m N\u001b[38;5;241m-\u001b[39m\u001b[38;5;241m1\u001b[39m:\n",
      "Cell \u001b[0;32mIn [10], line 2\u001b[0m, in \u001b[0;36mfind_period\u001b[0;34m(a, N)\u001b[0m\n\u001b[1;32m      1\u001b[0m \u001b[38;5;28;01mdef\u001b[39;00m \u001b[38;5;21mfind_period\u001b[39m(a, N):\n\u001b[0;32m----> 2\u001b[0m     \u001b[38;5;28;01mreturn\u001b[39;00m \u001b[43mfind_period_quantum\u001b[49m\u001b[43m(\u001b[49m\u001b[43ma\u001b[49m\u001b[43m,\u001b[49m\u001b[43m \u001b[49m\u001b[43mN\u001b[49m\u001b[43m)\u001b[49m\n",
      "Cell \u001b[0;32mIn [9], line 12\u001b[0m, in \u001b[0;36mfind_period_quantum\u001b[0;34m(x, N)\u001b[0m\n\u001b[1;32m      9\u001b[0m cirq_circuit, qubit_offsets \u001b[38;5;241m=\u001b[39m qiskit_to_cirq_conversion\u001b[38;5;241m.\u001b[39mconvert(qiskit_circuit)\n\u001b[1;32m     11\u001b[0m \u001b[38;5;28mprint\u001b[39m(\u001b[38;5;124m\"\u001b[39m\u001b[38;5;124mTotal number of qubits:\u001b[39m\u001b[38;5;124m\"\u001b[39m, qubit_offsets[\u001b[38;5;124m'\u001b[39m\u001b[38;5;124mtotal\u001b[39m\u001b[38;5;124m'\u001b[39m])\n\u001b[0;32m---> 12\u001b[0m cirq_circuit\u001b[38;5;241m.\u001b[39mappend(\u001b[43mcirq\u001b[49m\u001b[38;5;241m.\u001b[39mmeasure_each(\u001b[38;5;241m*\u001b[39mcirq\u001b[38;5;241m.\u001b[39mLineQubit\u001b[38;5;241m.\u001b[39mrange(qubit_offsets[\u001b[38;5;124m'\u001b[39m\u001b[38;5;124mup\u001b[39m\u001b[38;5;124m'\u001b[39m], qubit_offsets[\u001b[38;5;124m'\u001b[39m\u001b[38;5;124mdown\u001b[39m\u001b[38;5;124m'\u001b[39m])))\n\u001b[1;32m     14\u001b[0m result \u001b[38;5;241m=\u001b[39m qsim_simulator\u001b[38;5;241m.\u001b[39msample(cirq_circuit,repetitions\u001b[38;5;241m=\u001b[39mshots)\n\u001b[1;32m     15\u001b[0m measurement_results \u001b[38;5;241m=\u001b[39m result\u001b[38;5;241m.\u001b[39mto_numpy()\n",
      "\u001b[0;31mNameError\u001b[0m: name 'cirq' is not defined"
     ]
    }
   ],
   "source": [
    "my_integer = 3*5\n",
    "shors_algorithm(my_integer)"
   ]
  },
  {
   "cell_type": "code",
   "execution_count": null,
   "metadata": {},
   "outputs": [],
   "source": []
  }
 ],
 "metadata": {
  "kernelspec": {
   "display_name": "Python 3 (ipykernel)",
   "language": "python",
   "name": "python3"
  },
  "language_info": {
   "codemirror_mode": {
    "name": "ipython",
    "version": 3
   },
   "file_extension": ".py",
   "mimetype": "text/x-python",
   "name": "python",
   "nbconvert_exporter": "python",
   "pygments_lexer": "ipython3",
   "version": "3.8.13"
  },
  "orig_nbformat": 4
 },
 "nbformat": 4,
 "nbformat_minor": 2
}
