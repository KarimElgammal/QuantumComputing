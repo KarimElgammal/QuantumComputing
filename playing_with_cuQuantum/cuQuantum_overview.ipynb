{
 "cells": [
  {
   "attachments": {},
   "cell_type": "markdown",
   "metadata": {},
   "source": [
    "# overview about cuQuantum with Cirq\n",
    "\n",
    "Note: This notebook is based on the cuQuantum tutorial at GTC fall 2022 and [their documentation](https://docs.nvidia.com/cuda/cuquantum/index.html)."
   ]
  },
  {
   "cell_type": "markdown",
   "metadata": {},
   "source": [
    "# cuQuantum-Appliance: Google Cirq accelerated with cuQuantum\n",
    "\n",
    "In this tutorial, we'll learn how to simulate quantum circuits constructed with Google Cirq on GPUs using cuQuantum-accelerated qsim.\n",
    "\n",
    "_Cirq_ is a popular python framework for programming quantum computers circuit by Google's QuantumAI team. It provides an extensive set of gates, algorithms and examples and can execute quantum algorithms either on simulator backends or quantum hardware.\n",
    "\n",
    "_qsim_ is Google's fast state vector simulator for Cirq. For fast GPU simulations it uses the NVIDIA cuQuantum SDK.\n",
    "\n",
    "The _NVIDIA cuQuantum Appliance_ docker image provides a ready-to-go image containing all components and allows GPU-accelerated simulations on all NVIDIA platforms with Volta-architecture or newer.\n",
    "\n",
    "More information on the different components can be found on:\n",
    "* NVIDIA cuQuantum Appliance: https://catalog.ngc.nvidia.com/orgs/nvidia/containers/cuquantum-appliance\n",
    "* NVIDIA cuQuantum SDK: https://developer.nvidia.com/cuquantum-sdk\n",
    "* Google Cirq: https://quantumai.google/cirq\n",
    "* Google qsim: https://quantumai.google/qsim"
   ]
  },
  {
   "cell_type": "markdown",
   "metadata": {},
   "source": [
    "## Setup\n",
    "\n",
    "As first step, we load the Cirq and qsim python modules"
   ]
  },
  {
   "cell_type": "code",
   "execution_count": 4,
   "metadata": {},
   "outputs": [],
   "source": [
    "import cirq\n",
    "import qsimcirq"
   ]
  },
  {
   "cell_type": "markdown",
   "metadata": {},
   "source": [
    "## Building a circuit\n",
    "\n",
    "As warmup, we build a circuit to construct a 5-qubit GHZ state. A GHZ state is a non-classical state which entangles all qubits. It is defined as\n",
    "\n",
    "$|GHZ \\rangle = \\frac{1}{\\sqrt{2}} \\left(|00000 \\rangle + |11111 \\rangle \\right)$\n",
    "    \n",
    "At first we create a new quantum circuit in Cirq and a list of 5 qubits. "
   ]
  },
  {
   "cell_type": "code",
   "execution_count": 5,
   "metadata": {},
   "outputs": [],
   "source": [
    "c = cirq.Circuit()"
   ]
  },
  {
   "cell_type": "code",
   "execution_count": 6,
   "metadata": {},
   "outputs": [],
   "source": [
    "#let's create a GHZ circuit of 5 qubits\n",
    "qubits = cirq.LineQubit.range(5)"
   ]
  },
  {
   "cell_type": "code",
   "execution_count": 10,
   "metadata": {},
   "outputs": [
    {
     "data": {
      "text/plain": [
       "[cirq.LineQubit(0),\n",
       " cirq.LineQubit(1),\n",
       " cirq.LineQubit(2),\n",
       " cirq.LineQubit(3),\n",
       " cirq.LineQubit(4)]"
      ]
     },
     "execution_count": 10,
     "metadata": {},
     "output_type": "execute_result"
    }
   ],
   "source": [
    "qubits"
   ]
  },
  {
   "cell_type": "code",
   "execution_count": 12,
   "metadata": {},
   "outputs": [
    {
     "name": "stdout",
     "output_type": "stream",
     "text": [
      "\n"
     ]
    }
   ],
   "source": [
    "print(c)"
   ]
  },
  {
   "cell_type": "markdown",
   "metadata": {},
   "source": [
    "We assume all qubits will be in state $0$, i.e., the system is in state $|00000\\rangle$.\n",
    "\n",
    "In our circuit, we first apply a Hadamard gate on qubit 0 putting it into state\n",
    "$ |\\psi_0 \\rangle = \\frac{1}{\\sqrt{2}} \\left( |0 \\rangle + | 1 \\rangle \\right) $\n",
    "and entangle all qubits with qubit 0 by applying a chain controlled-NOT gates."
   ]
  },
  {
   "cell_type": "code",
   "execution_count": 13,
   "metadata": {},
   "outputs": [
    {
     "name": "stdout",
     "output_type": "stream",
     "text": [
      "0: ───H───\n"
     ]
    }
   ],
   "source": [
    "#apply a Hadamard gate to the first qubit\n",
    "c.append(cirq.H(qubits[0]))\n",
    "print(c)"
   ]
  },
  {
   "cell_type": "code",
   "execution_count": 14,
   "metadata": {},
   "outputs": [
    {
     "name": "stdout",
     "output_type": "stream",
     "text": [
      "0: ───H───@───────────────\n",
      "          │\n",
      "1: ───────X───@───────────\n",
      "              │\n",
      "2: ───────────X───@───────\n",
      "                  │\n",
      "3: ───────────────X───@───\n",
      "                      │\n",
      "4: ───────────────────X───\n"
     ]
    }
   ],
   "source": [
    "#apply a chain controlled CNOT gates to the rest of the qubits\n",
    "for i in range(1,5):\n",
    "    c.append(cirq.CNOT(qubits[i-1], qubits[i]))\n",
    "print(c)"
   ]
  },
  {
   "cell_type": "markdown",
   "metadata": {},
   "source": [
    "Using Cirq's internal simulator we can easily simulate this small circuit and verify that the resulting quantum state is indeed a GHZ state."
   ]
  },
  {
   "cell_type": "code",
   "execution_count": 15,
   "metadata": {},
   "outputs": [],
   "source": [
    "#let's simulate the circuit using cirq\n",
    "cirq_sim = cirq.Simulator()\n",
    "cirq_sim_result = cirq_sim.simulate(c)"
   ]
  },
  {
   "cell_type": "code",
   "execution_count": 18,
   "metadata": {},
   "outputs": [
    {
     "name": "stdout",
     "output_type": "stream",
     "text": [
      "measurements: (no measurements)\n",
      "\n",
      "qubits: (cirq.LineQubit(0), cirq.LineQubit(1), cirq.LineQubit(2), cirq.LineQubit(3), cirq.LineQubit(4))\n",
      "output vector: 0.707|00000⟩ + 0.707|11111⟩\n",
      "\n",
      "phase:\n",
      "output vector: |⟩\n"
     ]
    }
   ],
   "source": [
    "print(cirq_sim_result)"
   ]
  },
  {
   "cell_type": "markdown",
   "metadata": {},
   "source": [
    "If we add a measurement to our circuit and sampling the (classical) outcome several times, we can also observe the effect of the entanglement:\n",
    "the system will be either in a state where all measured qubits are $0$ or all qubits are $1$. We never observe a situation in which only a few of the measured qubits in state $1$ and the remaining in state $0$."
   ]
  },
  {
   "cell_type": "code",
   "execution_count": 16,
   "metadata": {},
   "outputs": [],
   "source": [
    "#add a measurement to the circuit\n",
    "c.append(cirq.measure_each(*qubits))"
   ]
  },
  {
   "cell_type": "code",
   "execution_count": 17,
   "metadata": {},
   "outputs": [
    {
     "name": "stdout",
     "output_type": "stream",
     "text": [
      "0: ───H───@───M───────────────\n",
      "          │\n",
      "1: ───────X───@───M───────────\n",
      "              │\n",
      "2: ───────────X───@───M───────\n",
      "                  │\n",
      "3: ───────────────X───@───M───\n",
      "                      │\n",
      "4: ───────────────────X───M───\n"
     ]
    }
   ],
   "source": [
    "print(c)"
   ]
  },
  {
   "cell_type": "code",
   "execution_count": 19,
   "metadata": {},
   "outputs": [
    {
     "name": "stdout",
     "output_type": "stream",
     "text": [
      "   0  1  2  3  4\n",
      "0  1  1  1  1  1\n",
      "1  0  0  0  0  0\n",
      "2  1  1  1  1  1\n",
      "3  0  0  0  0  0\n",
      "4  0  0  0  0  0\n",
      "5  1  1  1  1  1\n",
      "6  0  0  0  0  0\n",
      "7  1  1  1  1  1\n",
      "8  1  1  1  1  1\n",
      "9  0  0  0  0  0\n"
     ]
    }
   ],
   "source": [
    "#sample the outcome 10 times\n",
    "cirq_sim_result_sampled = cirq_sim.sample(c, repetitions=10)\n",
    "print(cirq_sim_result_sampled)"
   ]
  },
  {
   "cell_type": "code",
   "execution_count": 20,
   "metadata": {},
   "outputs": [
    {
     "name": "stdout",
     "output_type": "stream",
     "text": [
      "0: ───H───@───M───────────────\n",
      "          │\n",
      "1: ───────X───@───M───────────\n",
      "              │\n",
      "2: ───────────X───@───M───────\n",
      "                  │\n",
      "3: ───────────────X───@───M───\n",
      "                      │\n",
      "4: ───────────────────X───M───\n"
     ]
    }
   ],
   "source": [
    "print(c)"
   ]
  },
  {
   "cell_type": "code",
   "execution_count": null,
   "metadata": {},
   "outputs": [],
   "source": []
  }
 ],
 "metadata": {
  "kernelspec": {
   "display_name": "Python 3 (ipykernel)",
   "language": "python",
   "name": "python3"
  },
  "language_info": {
   "codemirror_mode": {
    "name": "ipython",
    "version": 3
   },
   "file_extension": ".py",
   "mimetype": "text/x-python",
   "name": "python",
   "nbconvert_exporter": "python",
   "pygments_lexer": "ipython3",
   "version": "3.11.1"
  },
  "orig_nbformat": 4,
  "vscode": {
   "interpreter": {
    "hash": "916dbcbb3f70747c44a77c7bcd40155683ae19c65e1c03b4aa3499c5328201f1"
   }
  }
 },
 "nbformat": 4,
 "nbformat_minor": 2
}
