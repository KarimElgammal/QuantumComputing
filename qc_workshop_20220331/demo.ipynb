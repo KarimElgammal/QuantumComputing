{
 "cells": [
  {
   "cell_type": "code",
   "execution_count": 3,
   "metadata": {},
   "outputs": [],
   "source": [
    "import qiskit\n",
    "#from qiskit import *\n",
    "from qiskit.tools.visualization import *\n",
    "from qiskit.tools.monitor import job_monitor\n",
    "from qiskit.utils import QuantumInstance\n",
    "from qiskit.algorithms import Shor\n",
    "from qiskit import Aer\n",
    "from qiskit import IBMQ"
   ]
  },
  {
   "cell_type": "markdown",
   "metadata": {},
   "source": [
    "check the qiskit version"
   ]
  },
  {
   "cell_type": "code",
   "execution_count": 4,
   "metadata": {},
   "outputs": [
    {
     "data": {
      "text/plain": [
       "{'qiskit-terra': '0.19.2', 'qiskit-aer': '0.10.3', 'qiskit-ignis': '0.7.0', 'qiskit-ibmq-provider': '0.18.3', 'qiskit-aqua': None, 'qiskit': '0.34.2', 'qiskit-nature': '0.3.1', 'qiskit-finance': '0.3.1', 'qiskit-optimization': '0.3.1', 'qiskit-machine-learning': '0.3.1'}"
      ]
     },
     "execution_count": 4,
     "metadata": {},
     "output_type": "execute_result"
    }
   ],
   "source": [
    "qiskit.__qiskit_version__"
   ]
  },
  {
   "cell_type": "markdown",
   "metadata": {},
   "source": [
    "IBM quantum experience"
   ]
  },
  {
   "cell_type": "code",
   "execution_count": null,
   "metadata": {},
   "outputs": [],
   "source": []
  },
  {
   "cell_type": "code",
   "execution_count": 5,
   "metadata": {},
   "outputs": [],
   "source": [
    "with open('/Users/karim/staff/cred/IBMQ/tocken.txt', 'r') as file:\n",
    "    myTocken = file.read().replace('\\n', '')"
   ]
  },
  {
   "cell_type": "code",
   "execution_count": 6,
   "metadata": {},
   "outputs": [],
   "source": [
    "IBMQ.save_account(myTocken,overwrite=True)"
   ]
  },
  {
   "cell_type": "code",
   "execution_count": 8,
   "metadata": {},
   "outputs": [
    {
     "data": {
      "text/plain": [
       "<AccountProvider for IBMQ(hub='ibm-q', group='open', project='main')>"
      ]
     },
     "execution_count": 8,
     "metadata": {},
     "output_type": "execute_result"
    }
   ],
   "source": [
    "IBMQ.load_account()"
   ]
  },
  {
   "cell_type": "code",
   "execution_count": null,
   "metadata": {},
   "outputs": [],
   "source": [
    "IBMQ.providers()"
   ]
  },
  {
   "cell_type": "markdown",
   "metadata": {},
   "source": [
    "get a list of the quantum computing instances that we can run on it"
   ]
  },
  {
   "cell_type": "markdown",
   "metadata": {},
   "source": [
    "you can find more here: https://quantum-computing.ibm.com/lab/docs/iql/manage/account/ibmq#backends "
   ]
  },
  {
   "cell_type": "code",
   "execution_count": 9,
   "metadata": {},
   "outputs": [],
   "source": [
    "provider = IBMQ.get_provider('ibm-q')"
   ]
  },
  {
   "cell_type": "code",
   "execution_count": 10,
   "metadata": {},
   "outputs": [
    {
     "data": {
      "text/plain": [
       "[<IBMQBackend('ibmq_armonk') from IBMQ(hub='ibm-q', group='open', project='main')>,\n",
       " <IBMQBackend('ibmq_santiago') from IBMQ(hub='ibm-q', group='open', project='main')>,\n",
       " <IBMQBackend('ibmq_bogota') from IBMQ(hub='ibm-q', group='open', project='main')>,\n",
       " <IBMQBackend('ibmq_lima') from IBMQ(hub='ibm-q', group='open', project='main')>,\n",
       " <IBMQBackend('ibmq_belem') from IBMQ(hub='ibm-q', group='open', project='main')>,\n",
       " <IBMQBackend('ibmq_quito') from IBMQ(hub='ibm-q', group='open', project='main')>,\n",
       " <IBMQBackend('ibmq_manila') from IBMQ(hub='ibm-q', group='open', project='main')>]"
      ]
     },
     "execution_count": 10,
     "metadata": {},
     "output_type": "execute_result"
    }
   ],
   "source": [
    "provider.backends(simulator=False, operational=True)"
   ]
  },
  {
   "cell_type": "code",
   "execution_count": 11,
   "metadata": {},
   "outputs": [
    {
     "data": {
      "text/plain": [
       "[<IBMQSimulator('ibmq_qasm_simulator') from IBMQ(hub='ibm-q', group='open', project='main')>,\n",
       " <IBMQBackend('ibmq_armonk') from IBMQ(hub='ibm-q', group='open', project='main')>,\n",
       " <IBMQBackend('ibmq_santiago') from IBMQ(hub='ibm-q', group='open', project='main')>,\n",
       " <IBMQBackend('ibmq_bogota') from IBMQ(hub='ibm-q', group='open', project='main')>,\n",
       " <IBMQBackend('ibmq_lima') from IBMQ(hub='ibm-q', group='open', project='main')>,\n",
       " <IBMQBackend('ibmq_belem') from IBMQ(hub='ibm-q', group='open', project='main')>,\n",
       " <IBMQBackend('ibmq_quito') from IBMQ(hub='ibm-q', group='open', project='main')>,\n",
       " <IBMQSimulator('simulator_statevector') from IBMQ(hub='ibm-q', group='open', project='main')>,\n",
       " <IBMQSimulator('simulator_mps') from IBMQ(hub='ibm-q', group='open', project='main')>,\n",
       " <IBMQSimulator('simulator_extended_stabilizer') from IBMQ(hub='ibm-q', group='open', project='main')>,\n",
       " <IBMQSimulator('simulator_stabilizer') from IBMQ(hub='ibm-q', group='open', project='main')>,\n",
       " <IBMQBackend('ibmq_manila') from IBMQ(hub='ibm-q', group='open', project='main')>]"
      ]
     },
     "execution_count": 11,
     "metadata": {},
     "output_type": "execute_result"
    }
   ],
   "source": [
    "provider.backends()"
   ]
  },
  {
   "cell_type": "code",
   "execution_count": 36,
   "metadata": {},
   "outputs": [],
   "source": [
    "from qiskit.providers.ibmq import least_busy"
   ]
  },
  {
   "cell_type": "code",
   "execution_count": 12,
   "metadata": {},
   "outputs": [
    {
     "data": {
      "text/plain": [
       "<IBMQBackend('ibmq_manila') from IBMQ(hub='ibm-q', group='open', project='main')>"
      ]
     },
     "execution_count": 12,
     "metadata": {},
     "output_type": "execute_result"
    }
   ],
   "source": [
    "small_devices = provider.backends(filters=lambda x: x.configuration().n_qubits <= 5 and x.configuration().n_qubits >2 and not x.configuration().simulator)\n",
    "least_busy(small_devices)"
   ]
  },
  {
   "cell_type": "code",
   "execution_count": 87,
   "metadata": {},
   "outputs": [
    {
     "data": {
      "text/plain": [
       "[<IBMQBackend('ibmq_santiago') from IBMQ(hub='ibm-q', group='open', project='main')>,\n",
       " <IBMQBackend('ibmq_bogota') from IBMQ(hub='ibm-q', group='open', project='main')>,\n",
       " <IBMQBackend('ibmq_lima') from IBMQ(hub='ibm-q', group='open', project='main')>,\n",
       " <IBMQBackend('ibmq_belem') from IBMQ(hub='ibm-q', group='open', project='main')>,\n",
       " <IBMQBackend('ibmq_quito') from IBMQ(hub='ibm-q', group='open', project='main')>,\n",
       " <IBMQBackend('ibmq_manila') from IBMQ(hub='ibm-q', group='open', project='main')>]"
      ]
     },
     "execution_count": 87,
     "metadata": {},
     "output_type": "execute_result"
    }
   ],
   "source": [
    "big_devices = provider.backends(filters=lambda x: x.configuration().n_qubits >= 5 and not x.configuration().simulator)\n",
    "big_devices"
   ]
  },
  {
   "cell_type": "code",
   "execution_count": 83,
   "metadata": {},
   "outputs": [
    {
     "data": {
      "text/plain": [
       "<IBMQBackend('ibmq_manila') from IBMQ(hub='ibm-q', group='open', project='main')>"
      ]
     },
     "execution_count": 83,
     "metadata": {},
     "output_type": "execute_result"
    }
   ],
   "source": [
    "backend = least_busy(small_devices)\n",
    "backend"
   ]
  },
  {
   "cell_type": "code",
   "execution_count": 50,
   "metadata": {},
   "outputs": [
    {
     "data": {
      "text/plain": [
       "5"
      ]
     },
     "execution_count": 50,
     "metadata": {},
     "output_type": "execute_result"
    }
   ],
   "source": [
    "backend.configuration().n_qubits"
   ]
  },
  {
   "cell_type": "code",
   "execution_count": 51,
   "metadata": {},
   "outputs": [
    {
     "data": {
      "text/plain": [
       "<IBMQBackend('ibmq_quito') from IBMQ(hub='ibm-q', group='open', project='main')>"
      ]
     },
     "execution_count": 51,
     "metadata": {},
     "output_type": "execute_result"
    }
   ],
   "source": [
    "provider.get_backend('ibmq_quito')"
   ]
  },
  {
   "cell_type": "code",
   "execution_count": null,
   "metadata": {},
   "outputs": [],
   "source": []
  },
  {
   "cell_type": "code",
   "execution_count": 68,
   "metadata": {},
   "outputs": [],
   "source": [
    "num2factorize=3"
   ]
  },
  {
   "cell_type": "code",
   "execution_count": 69,
   "metadata": {},
   "outputs": [],
   "source": [
    "factors = Shor(num2factorize)"
   ]
  },
  {
   "cell_type": "code",
   "execution_count": 70,
   "metadata": {},
   "outputs": [],
   "source": [
    "simulator = Aer.get_backend('aer_simulator') #qasm_simulator\n",
    "sim_job = QuantumInstance(backend=simulator,shots=128, skip_qobj_validation = False)"
   ]
  },
  {
   "cell_type": "code",
   "execution_count": 71,
   "metadata": {},
   "outputs": [],
   "source": [
    "sim_algo = Shor(quantum_instance=sim_job)"
   ]
  },
  {
   "cell_type": "code",
   "execution_count": 72,
   "metadata": {},
   "outputs": [
    {
     "name": "stderr",
     "output_type": "stream",
     "text": [
      "/Users/karim/.pyenv/versions/3.10.2/lib/python3.10/site-packages/numpy/linalg/linalg.py:2146: RuntimeWarning: divide by zero encountered in det\n",
      "  r = _umath_linalg.det(a, signature=signature)\n",
      "/Users/karim/.pyenv/versions/3.10.2/lib/python3.10/site-packages/numpy/linalg/linalg.py:2146: RuntimeWarning: invalid value encountered in det\n",
      "  r = _umath_linalg.det(a, signature=signature)\n"
     ]
    }
   ],
   "source": [
    "sim_result = sim_algo.factor(num2factorize)"
   ]
  },
  {
   "cell_type": "code",
   "execution_count": 73,
   "metadata": {},
   "outputs": [
    {
     "ename": "IndexError",
     "evalue": "list index out of range",
     "output_type": "error",
     "traceback": [
      "\u001b[0;31m---------------------------------------------------------------------------\u001b[0m",
      "\u001b[0;31mIndexError\u001b[0m                                Traceback (most recent call last)",
      "\u001b[1;32m/Users/karim/Documents/GitHub/QuantumComputing/qc_workshop_20220331/demo.ipynb Cell 27'\u001b[0m in \u001b[0;36m<cell line: 1>\u001b[0;34m()\u001b[0m\n\u001b[0;32m----> <a href='vscode-notebook-cell:/Users/karim/Documents/GitHub/QuantumComputing/qc_workshop_20220331/demo.ipynb#ch0000037?line=0'>1</a>\u001b[0m \u001b[39mprint\u001b[39m(\u001b[39mf\u001b[39m\u001b[39m\"\u001b[39m\u001b[39mThe list of factors of \u001b[39m\u001b[39m{\u001b[39;00mnum2factorize\u001b[39m}\u001b[39;00m\u001b[39m as computed by the Shor\u001b[39m\u001b[39m'\u001b[39m\u001b[39ms algorithm is \u001b[39m\u001b[39m{\u001b[39;00msim_result\u001b[39m.\u001b[39mfactors[\u001b[39m0\u001b[39m]\u001b[39m}\u001b[39;00m\u001b[39m.\u001b[39m\u001b[39m\"\u001b[39m)\n",
      "\u001b[0;31mIndexError\u001b[0m: list index out of range"
     ]
    }
   ],
   "source": [
    "print(f\"The list of factors of {num2factorize} as computed by the Shor's algorithm is {sim_result.factors[0]}.\")"
   ]
  },
  {
   "cell_type": "code",
   "execution_count": 74,
   "metadata": {},
   "outputs": [],
   "source": [
    "import math"
   ]
  },
  {
   "cell_type": "code",
   "execution_count": 75,
   "metadata": {},
   "outputs": [
    {
     "name": "stdout",
     "output_type": "stream",
     "text": [
      "Computed of qubits for circuit: 10\n",
      "Actual number of qubits of circuit: 10\n"
     ]
    }
   ],
   "source": [
    "print(f'Computed of qubits for circuit: {4 * math.ceil(math.log(num2factorize, 2)) + 2}')\n",
    "print(f'Actual number of qubits of circuit: {sim_algo.construct_circuit(num2factorize).num_qubits}')"
   ]
  },
  {
   "cell_type": "markdown",
   "metadata": {},
   "source": [
    "##do the same but on a quantum computer"
   ]
  },
  {
   "cell_type": "code",
   "execution_count": 76,
   "metadata": {},
   "outputs": [],
   "source": [
    "quantum_instance = QuantumInstance(backend=least_busy(small_devices),shots=128, skip_qobj_validation = False)"
   ]
  },
  {
   "cell_type": "code",
   "execution_count": 77,
   "metadata": {},
   "outputs": [
    {
     "data": {
      "text/html": [
       "<pre>&lt;qiskit.providers.models.backendstatus.BackendStatus object at 0x174719660&gt;</pre><b>name</b>: ibmq_quito<br/><b>version</b>: 1.1.27, <b>pending jobs</b>: 2<br/><b>status</b>: active<br/>"
      ],
      "text/plain": [
       "<qiskit.providers.models.backendstatus.BackendStatus at 0x174719660>"
      ]
     },
     "execution_count": 77,
     "metadata": {},
     "output_type": "execute_result"
    }
   ],
   "source": [
    "#quantum_instance.backend.name()\n",
    "#quantum_instance.backend.provider()\n",
    "quantum_instance.backend.status()"
   ]
  },
  {
   "cell_type": "code",
   "execution_count": 78,
   "metadata": {},
   "outputs": [
    {
     "data": {
      "text/plain": [
       "5"
      ]
     },
     "execution_count": 78,
     "metadata": {},
     "output_type": "execute_result"
    }
   ],
   "source": [
    "quantum_instance.backend.configuration().n_qubits"
   ]
  },
  {
   "cell_type": "code",
   "execution_count": 79,
   "metadata": {},
   "outputs": [],
   "source": [
    "qcalc_algo = Shor(quantum_instance=quantum_instance)"
   ]
  },
  {
   "cell_type": "code",
   "execution_count": 80,
   "metadata": {},
   "outputs": [
    {
     "ename": "TranspilerError",
     "evalue": "'Number of qubits (10) in Shor(N=3, a=2) is greater than maximum (5) in the coupling_map'",
     "output_type": "error",
     "traceback": [
      "\u001b[0;31m---------------------------------------------------------------------------\u001b[0m",
      "\u001b[0;31mTranspilerError\u001b[0m                           Traceback (most recent call last)",
      "\u001b[1;32m/Users/karim/Documents/GitHub/QuantumComputing/qc_workshop_20220331/demo.ipynb Cell 35'\u001b[0m in \u001b[0;36m<cell line: 1>\u001b[0;34m()\u001b[0m\n\u001b[0;32m----> <a href='vscode-notebook-cell:/Users/karim/Documents/GitHub/QuantumComputing/qc_workshop_20220331/demo.ipynb#ch0000044?line=0'>1</a>\u001b[0m qcalc_result \u001b[39m=\u001b[39m qcalc_algo\u001b[39m.\u001b[39;49mfactor(num2factorize)\n",
      "File \u001b[0;32m~/.pyenv/versions/3.10.2/lib/python3.10/site-packages/qiskit/algorithms/factorizers/shor.py:467\u001b[0m, in \u001b[0;36mShor.factor\u001b[0;34m(self, N, a)\u001b[0m\n\u001b[1;32m    <a href='file:///Users/karim/.pyenv/versions/3.10.2/lib/python3.10/site-packages/qiskit/algorithms/factorizers/shor.py?line=464'>465</a>\u001b[0m \u001b[39melse\u001b[39;00m:\n\u001b[1;32m    <a href='file:///Users/karim/.pyenv/versions/3.10.2/lib/python3.10/site-packages/qiskit/algorithms/factorizers/shor.py?line=465'>466</a>\u001b[0m     circuit \u001b[39m=\u001b[39m \u001b[39mself\u001b[39m\u001b[39m.\u001b[39mconstruct_circuit(N\u001b[39m=\u001b[39mN, a\u001b[39m=\u001b[39ma, measurement\u001b[39m=\u001b[39m\u001b[39mTrue\u001b[39;00m)\n\u001b[0;32m--> <a href='file:///Users/karim/.pyenv/versions/3.10.2/lib/python3.10/site-packages/qiskit/algorithms/factorizers/shor.py?line=466'>467</a>\u001b[0m     counts \u001b[39m=\u001b[39m \u001b[39mself\u001b[39;49m\u001b[39m.\u001b[39;49m_quantum_instance\u001b[39m.\u001b[39;49mexecute(circuit)\u001b[39m.\u001b[39mget_counts(circuit)\n\u001b[1;32m    <a href='file:///Users/karim/.pyenv/versions/3.10.2/lib/python3.10/site-packages/qiskit/algorithms/factorizers/shor.py?line=468'>469</a>\u001b[0m result\u001b[39m.\u001b[39mtotal_counts \u001b[39m=\u001b[39m \u001b[39mlen\u001b[39m(counts)\n\u001b[1;32m    <a href='file:///Users/karim/.pyenv/versions/3.10.2/lib/python3.10/site-packages/qiskit/algorithms/factorizers/shor.py?line=470'>471</a>\u001b[0m \u001b[39m# For each simulation result, print proper info to user\u001b[39;00m\n\u001b[1;32m    <a href='file:///Users/karim/.pyenv/versions/3.10.2/lib/python3.10/site-packages/qiskit/algorithms/factorizers/shor.py?line=471'>472</a>\u001b[0m \u001b[39m# and try to calculate the factors of N\u001b[39;00m\n",
      "File \u001b[0;32m~/.pyenv/versions/3.10.2/lib/python3.10/site-packages/qiskit/utils/quantum_instance.py:501\u001b[0m, in \u001b[0;36mQuantumInstance.execute\u001b[0;34m(self, circuits, had_transpiled)\u001b[0m\n\u001b[1;32m    <a href='file:///Users/karim/.pyenv/versions/3.10.2/lib/python3.10/site-packages/qiskit/utils/quantum_instance.py?line=497'>498</a>\u001b[0m         circuits \u001b[39m=\u001b[39m [circuits]\n\u001b[1;32m    <a href='file:///Users/karim/.pyenv/versions/3.10.2/lib/python3.10/site-packages/qiskit/utils/quantum_instance.py?line=498'>499</a>\u001b[0m \u001b[39melse\u001b[39;00m:\n\u001b[1;32m    <a href='file:///Users/karim/.pyenv/versions/3.10.2/lib/python3.10/site-packages/qiskit/utils/quantum_instance.py?line=499'>500</a>\u001b[0m     \u001b[39m# transpile here, the method always returns a copied list\u001b[39;00m\n\u001b[0;32m--> <a href='file:///Users/karim/.pyenv/versions/3.10.2/lib/python3.10/site-packages/qiskit/utils/quantum_instance.py?line=500'>501</a>\u001b[0m     circuits \u001b[39m=\u001b[39m \u001b[39mself\u001b[39;49m\u001b[39m.\u001b[39;49mtranspile(circuits)\n\u001b[1;32m    <a href='file:///Users/karim/.pyenv/versions/3.10.2/lib/python3.10/site-packages/qiskit/utils/quantum_instance.py?line=502'>503</a>\u001b[0m \u001b[39mfrom\u001b[39;00m \u001b[39mqiskit\u001b[39;00m\u001b[39m.\u001b[39;00m\u001b[39mproviders\u001b[39;00m \u001b[39mimport\u001b[39;00m Backend\n\u001b[1;32m    <a href='file:///Users/karim/.pyenv/versions/3.10.2/lib/python3.10/site-packages/qiskit/utils/quantum_instance.py?line=504'>505</a>\u001b[0m circuit_job \u001b[39m=\u001b[39m \u001b[39misinstance\u001b[39m(\u001b[39mself\u001b[39m\u001b[39m.\u001b[39m_backend, Backend)\n",
      "File \u001b[0;32m~/.pyenv/versions/3.10.2/lib/python3.10/site-packages/qiskit/utils/quantum_instance.py:425\u001b[0m, in \u001b[0;36mQuantumInstance.transpile\u001b[0;34m(self, circuits, pass_manager)\u001b[0m\n\u001b[1;32m    <a href='file:///Users/karim/.pyenv/versions/3.10.2/lib/python3.10/site-packages/qiskit/utils/quantum_instance.py?line=421'>422</a>\u001b[0m \u001b[39mif\u001b[39;00m pass_manager \u001b[39mis\u001b[39;00m \u001b[39mNone\u001b[39;00m:\n\u001b[1;32m    <a href='file:///Users/karim/.pyenv/versions/3.10.2/lib/python3.10/site-packages/qiskit/utils/quantum_instance.py?line=422'>423</a>\u001b[0m     \u001b[39m# if they haven't been set in the init, use the transpile args from the init\u001b[39;00m\n\u001b[1;32m    <a href='file:///Users/karim/.pyenv/versions/3.10.2/lib/python3.10/site-packages/qiskit/utils/quantum_instance.py?line=423'>424</a>\u001b[0m     \u001b[39mif\u001b[39;00m \u001b[39mself\u001b[39m\u001b[39m.\u001b[39m_pass_manager \u001b[39mis\u001b[39;00m \u001b[39mNone\u001b[39;00m \u001b[39mand\u001b[39;00m \u001b[39mself\u001b[39m\u001b[39m.\u001b[39m_bound_pass_manager \u001b[39mis\u001b[39;00m \u001b[39mNone\u001b[39;00m:\n\u001b[0;32m--> <a href='file:///Users/karim/.pyenv/versions/3.10.2/lib/python3.10/site-packages/qiskit/utils/quantum_instance.py?line=424'>425</a>\u001b[0m         transpiled_circuits \u001b[39m=\u001b[39m compiler\u001b[39m.\u001b[39;49mtranspile(\n\u001b[1;32m    <a href='file:///Users/karim/.pyenv/versions/3.10.2/lib/python3.10/site-packages/qiskit/utils/quantum_instance.py?line=425'>426</a>\u001b[0m             circuits, \u001b[39mself\u001b[39;49m\u001b[39m.\u001b[39;49m_backend, \u001b[39m*\u001b[39;49m\u001b[39m*\u001b[39;49m\u001b[39mself\u001b[39;49m\u001b[39m.\u001b[39;49m_backend_config, \u001b[39m*\u001b[39;49m\u001b[39m*\u001b[39;49m\u001b[39mself\u001b[39;49m\u001b[39m.\u001b[39;49m_compile_config\n\u001b[1;32m    <a href='file:///Users/karim/.pyenv/versions/3.10.2/lib/python3.10/site-packages/qiskit/utils/quantum_instance.py?line=426'>427</a>\u001b[0m         )\n\u001b[1;32m    <a href='file:///Users/karim/.pyenv/versions/3.10.2/lib/python3.10/site-packages/qiskit/utils/quantum_instance.py?line=427'>428</a>\u001b[0m     \u001b[39m# it they have been set, run them\u001b[39;00m\n\u001b[1;32m    <a href='file:///Users/karim/.pyenv/versions/3.10.2/lib/python3.10/site-packages/qiskit/utils/quantum_instance.py?line=428'>429</a>\u001b[0m     \u001b[39melse\u001b[39;00m:\n\u001b[1;32m    <a href='file:///Users/karim/.pyenv/versions/3.10.2/lib/python3.10/site-packages/qiskit/utils/quantum_instance.py?line=429'>430</a>\u001b[0m         pass_manager \u001b[39m=\u001b[39m PassManager()\n",
      "File \u001b[0;32m~/.pyenv/versions/3.10.2/lib/python3.10/site-packages/qiskit/compiler/transpiler.py:332\u001b[0m, in \u001b[0;36mtranspile\u001b[0;34m(circuits, backend, basis_gates, inst_map, coupling_map, backend_properties, initial_layout, layout_method, routing_method, translation_method, scheduling_method, instruction_durations, dt, approximation_degree, timing_constraints, seed_transpiler, optimization_level, pass_manager, callback, output_name, unitary_synthesis_method, unitary_synthesis_plugin_config, target)\u001b[0m\n\u001b[1;32m    <a href='file:///Users/karim/.pyenv/versions/3.10.2/lib/python3.10/site-packages/qiskit/compiler/transpiler.py?line=305'>306</a>\u001b[0m \u001b[39m# Get transpile_args to configure the circuit transpilation job(s)\u001b[39;00m\n\u001b[1;32m    <a href='file:///Users/karim/.pyenv/versions/3.10.2/lib/python3.10/site-packages/qiskit/compiler/transpiler.py?line=306'>307</a>\u001b[0m transpile_args \u001b[39m=\u001b[39m _parse_transpile_args(\n\u001b[1;32m    <a href='file:///Users/karim/.pyenv/versions/3.10.2/lib/python3.10/site-packages/qiskit/compiler/transpiler.py?line=307'>308</a>\u001b[0m     circuits,\n\u001b[1;32m    <a href='file:///Users/karim/.pyenv/versions/3.10.2/lib/python3.10/site-packages/qiskit/compiler/transpiler.py?line=308'>309</a>\u001b[0m     backend,\n\u001b[0;32m   (...)\u001b[0m\n\u001b[1;32m    <a href='file:///Users/karim/.pyenv/versions/3.10.2/lib/python3.10/site-packages/qiskit/compiler/transpiler.py?line=328'>329</a>\u001b[0m     target,\n\u001b[1;32m    <a href='file:///Users/karim/.pyenv/versions/3.10.2/lib/python3.10/site-packages/qiskit/compiler/transpiler.py?line=329'>330</a>\u001b[0m )\n\u001b[0;32m--> <a href='file:///Users/karim/.pyenv/versions/3.10.2/lib/python3.10/site-packages/qiskit/compiler/transpiler.py?line=331'>332</a>\u001b[0m _check_circuits_coupling_map(circuits, transpile_args, backend)\n\u001b[1;32m    <a href='file:///Users/karim/.pyenv/versions/3.10.2/lib/python3.10/site-packages/qiskit/compiler/transpiler.py?line=333'>334</a>\u001b[0m \u001b[39m# Transpile circuits in parallel\u001b[39;00m\n\u001b[1;32m    <a href='file:///Users/karim/.pyenv/versions/3.10.2/lib/python3.10/site-packages/qiskit/compiler/transpiler.py?line=334'>335</a>\u001b[0m circuits \u001b[39m=\u001b[39m parallel_map(_transpile_circuit, \u001b[39mlist\u001b[39m(\u001b[39mzip\u001b[39m(circuits, transpile_args)))\n",
      "File \u001b[0;32m~/.pyenv/versions/3.10.2/lib/python3.10/site-packages/qiskit/compiler/transpiler.py:379\u001b[0m, in \u001b[0;36m_check_circuits_coupling_map\u001b[0;34m(circuits, transpile_args, backend)\u001b[0m\n\u001b[1;32m    <a href='file:///Users/karim/.pyenv/versions/3.10.2/lib/python3.10/site-packages/qiskit/compiler/transpiler.py?line=375'>376</a>\u001b[0m         max_qubits \u001b[39m=\u001b[39m backend\u001b[39m.\u001b[39mnum_qubits\n\u001b[1;32m    <a href='file:///Users/karim/.pyenv/versions/3.10.2/lib/python3.10/site-packages/qiskit/compiler/transpiler.py?line=377'>378</a>\u001b[0m \u001b[39mif\u001b[39;00m max_qubits \u001b[39mis\u001b[39;00m \u001b[39mnot\u001b[39;00m \u001b[39mNone\u001b[39;00m \u001b[39mand\u001b[39;00m (num_qubits \u001b[39m>\u001b[39m max_qubits):\n\u001b[0;32m--> <a href='file:///Users/karim/.pyenv/versions/3.10.2/lib/python3.10/site-packages/qiskit/compiler/transpiler.py?line=378'>379</a>\u001b[0m     \u001b[39mraise\u001b[39;00m TranspilerError(\n\u001b[1;32m    <a href='file:///Users/karim/.pyenv/versions/3.10.2/lib/python3.10/site-packages/qiskit/compiler/transpiler.py?line=379'>380</a>\u001b[0m         \u001b[39mf\u001b[39m\u001b[39m\"\u001b[39m\u001b[39mNumber of qubits (\u001b[39m\u001b[39m{\u001b[39;00mnum_qubits\u001b[39m}\u001b[39;00m\u001b[39m) in \u001b[39m\u001b[39m{\u001b[39;00mcircuit\u001b[39m.\u001b[39mname\u001b[39m}\u001b[39;00m\u001b[39m \u001b[39m\u001b[39m\"\u001b[39m\n\u001b[1;32m    <a href='file:///Users/karim/.pyenv/versions/3.10.2/lib/python3.10/site-packages/qiskit/compiler/transpiler.py?line=380'>381</a>\u001b[0m         \u001b[39mf\u001b[39m\u001b[39m\"\u001b[39m\u001b[39mis greater than maximum (\u001b[39m\u001b[39m{\u001b[39;00mmax_qubits\u001b[39m}\u001b[39;00m\u001b[39m) in the coupling_map\u001b[39m\u001b[39m\"\u001b[39m\n\u001b[1;32m    <a href='file:///Users/karim/.pyenv/versions/3.10.2/lib/python3.10/site-packages/qiskit/compiler/transpiler.py?line=381'>382</a>\u001b[0m     )\n",
      "\u001b[0;31mTranspilerError\u001b[0m: 'Number of qubits (10) in Shor(N=3, a=2) is greater than maximum (5) in the coupling_map'"
     ]
    }
   ],
   "source": [
    "qcalc_result = qcalc_algo.factor(num2factorize)"
   ]
  },
  {
   "cell_type": "code",
   "execution_count": 81,
   "metadata": {},
   "outputs": [
    {
     "name": "stdout",
     "output_type": "stream",
     "text": [
      "The list of factors of 3 as computed by the Shor's algorithm is 3.\n"
     ]
    }
   ],
   "source": [
    "print(f\"The list of factors of {num2factorize} as computed by the Shor's algorithm is {qcalc_result.factors[0]}.\")"
   ]
  },
  {
   "cell_type": "code",
   "execution_count": null,
   "metadata": {},
   "outputs": [],
   "source": []
  },
  {
   "cell_type": "code",
   "execution_count": null,
   "metadata": {},
   "outputs": [],
   "source": []
  },
  {
   "cell_type": "code",
   "execution_count": null,
   "metadata": {},
   "outputs": [],
   "source": []
  },
  {
   "cell_type": "code",
   "execution_count": null,
   "metadata": {},
   "outputs": [],
   "source": []
  }
 ],
 "metadata": {
  "kernelspec": {
   "display_name": "Python 3",
   "language": "python",
   "name": "python3"
  },
  "language_info": {
   "codemirror_mode": {
    "name": "ipython",
    "version": 3
   },
   "file_extension": ".py",
   "mimetype": "text/x-python",
   "name": "python",
   "nbconvert_exporter": "python",
   "pygments_lexer": "ipython3",
   "version": "3.10.2"
  }
 },
 "nbformat": 4,
 "nbformat_minor": 4
}
