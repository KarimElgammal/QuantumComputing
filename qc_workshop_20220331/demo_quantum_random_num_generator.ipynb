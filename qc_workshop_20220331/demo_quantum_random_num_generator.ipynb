{
 "cells": [
  {
   "cell_type": "code",
   "execution_count": 3,
   "metadata": {},
   "outputs": [],
   "source": [
    "import qiskit\n",
    "from qiskit import QuantumCircuit\n",
    "from qiskit import QuantumRegister\n",
    "from qiskit import ClassicalRegister\n",
    "from qiskit import *\n",
    "from qiskit import execute\n",
    "from qiskit.tools.visualization import *\n",
    "from qiskit.tools.monitor import job_monitor\n",
    "from qiskit.utils import QuantumInstance\n",
    "from qiskit.algorithms import Shor\n",
    "from qiskit import Aer\n",
    "from qiskit import IBMQ\n",
    "from qiskit.providers.ibmq import least_busy\n",
    "import math\n",
    "import qiskit.tools.jupyter"
   ]
  },
  {
   "cell_type": "code",
   "execution_count": 4,
   "metadata": {},
   "outputs": [
    {
     "name": "stdout",
     "output_type": "stream",
     "text": [
      "qiskit                  0.34.2\n",
      "qiskit-aer              0.10.3\n",
      "qiskit-experiments      0.2.0\n",
      "qiskit-finance          0.3.1\n",
      "qiskit-ibmq-provider    0.18.3\n",
      "qiskit-ignis            0.7.0\n",
      "qiskit-machine-learning 0.3.1\n",
      "qiskit-nature           0.3.1\n",
      "qiskit-optimization     0.3.1\n",
      "qiskit-terra            0.19.2\n"
     ]
    }
   ],
   "source": [
    "!pip3 list | grep qiskit"
   ]
  },
  {
   "cell_type": "code",
   "execution_count": 5,
   "metadata": {},
   "outputs": [
    {
     "data": {
      "text/html": [
       "<h3>Version Information</h3><table><tr><th>Qiskit Software</th><th>Version</th></tr><tr><td><code>qiskit-terra</code></td><td>0.19.2</td></tr><tr><td><code>qiskit-aer</code></td><td>0.10.3</td></tr><tr><td><code>qiskit-ignis</code></td><td>0.7.0</td></tr><tr><td><code>qiskit-ibmq-provider</code></td><td>0.18.3</td></tr><tr><td><code>qiskit</code></td><td>0.34.2</td></tr><tr><td><code>qiskit-nature</code></td><td>0.3.1</td></tr><tr><td><code>qiskit-finance</code></td><td>0.3.1</td></tr><tr><td><code>qiskit-optimization</code></td><td>0.3.1</td></tr><tr><td><code>qiskit-machine-learning</code></td><td>0.3.1</td></tr><tr><th>System information</th></tr><tr><td>Python version</td><td>3.10.2</td></tr><tr><td>Python compiler</td><td>Clang 13.0.0 (clang-1300.0.29.30)</td></tr><tr><td>Python build</td><td>main, Feb 18 2022 20:07:47</td></tr><tr><td>OS</td><td>Darwin</td></tr><tr><td>CPUs</td><td>8</td></tr><tr><td>Memory (Gb)</td><td>8.0</td></tr><tr><td colspan='2'>Thu Mar 31 14:40:17 2022 CEST</td></tr></table>"
      ],
      "text/plain": [
       "<IPython.core.display.HTML object>"
      ]
     },
     "metadata": {},
     "output_type": "display_data"
    }
   ],
   "source": [
    "%qiskit_version_table"
   ]
  },
  {
   "cell_type": "code",
   "execution_count": 6,
   "metadata": {},
   "outputs": [],
   "source": [
    "qr = QuantumRegister(5)\n",
    "cr = ClassicalRegister(5)\n",
    "circuit = QuantumCircuit(qr,cr)"
   ]
  },
  {
   "cell_type": "code",
   "execution_count": 7,
   "metadata": {},
   "outputs": [
    {
     "data": {
      "image/png": "[encoded data removed]",
      "text/plain": [
       "<Figure size 129.678x385.28 with 1 Axes>"
      ]
     },
     "execution_count": 7,
     "metadata": {},
     "output_type": "execute_result"
    }
   ],
   "source": [
    "circuit.draw(output='mpl')"
   ]
  },
  {
   "cell_type": "code",
   "execution_count": 8,
   "metadata": {},
   "outputs": [],
   "source": [
    "for x in range(0, 5):\n",
    "    circuit.h(qr[x])"
   ]
  },
  {
   "cell_type": "code",
   "execution_count": 9,
   "metadata": {},
   "outputs": [
    {
     "data": {
      "image/png": "[encoded data removed]",
      "text/plain": [
       "<Figure size 159.778x385.28 with 1 Axes>"
      ]
     },
     "execution_count": 9,
     "metadata": {},
     "output_type": "execute_result"
    }
   ],
   "source": [
    "circuit.draw(output='mpl')"
   ]
  },
  {
   "cell_type": "code",
   "execution_count": 10,
   "metadata": {},
   "outputs": [
    {
     "data": {
      "image/png": "[encoded data removed]",
      "text/plain": [
       "<Figure size 460.778x385.28 with 1 Axes>"
      ]
     },
     "execution_count": 10,
     "metadata": {},
     "output_type": "execute_result"
    }
   ],
   "source": [
    "circuit.measure(qr, cr)\n",
    "circuit.draw(output='mpl')"
   ]
  },
  {
   "cell_type": "code",
   "execution_count": 11,
   "metadata": {},
   "outputs": [
    {
     "name": "stderr",
     "output_type": "stream",
     "text": [
      "/Users/karim/.pyenv/versions/3.10.2/lib/python3.10/site-packages/numpy/linalg/linalg.py:2146: RuntimeWarning: divide by zero encountered in det\n",
      "  r = _umath_linalg.det(a, signature=signature)\n",
      "/Users/karim/.pyenv/versions/3.10.2/lib/python3.10/site-packages/numpy/linalg/linalg.py:2146: RuntimeWarning: invalid value encountered in det\n",
      "  r = _umath_linalg.det(a, signature=signature)\n"
     ]
    }
   ],
   "source": [
    "simulator = Aer.get_backend('aer_simulator') #qasm_simulator\n",
    "shots = 1024\n",
    "sim_job = execute(circuit, backend=simulator,shots=shots,memory=True)\n",
    "sim_result = sim_job.result()"
   ]
  },
  {
   "cell_type": "code",
   "execution_count": 12,
   "metadata": {},
   "outputs": [
    {
     "data": {
      "text/plain": [
       "Result(backend_name='aer_simulator', backend_version='0.10.3', qobj_id='83d99449-bbfa-4f95-aa3f-30c1b5ee68c2', job_id='a4ea0862-7ae8-4588-981c-2560ff750d98', success=True, results=[ExperimentResult(shots=1024, success=True, meas_level=2, data=ExperimentResultData(counts={'0xa': 23, '0x3': 39, '0xb': 32, '0xc': 37, '0x1b': 31, '0x7': 29, '0x14': 20, '0x9': 19, '0x15': 34, '0x5': 28, '0x2': 26, '0x4': 32, '0x1': 32, '0x1a': 33, '0x12': 31, '0x1e': 33, '0x1c': 25, '0x10': 22, '0x19': 38, '0x6': 36, '0x1d': 27, '0x17': 40, '0xd': 33, '0xf': 33, '0xe': 34, '0x13': 39, '0x0': 41, '0x18': 43, '0x1f': 27, '0x16': 32, '0x8': 42, '0x11': 33}, memory=['0x11', '0x11', '0x6', '0x16', '0xf', '0x18', '0x0', '0x13', '0x15', '0x13', '0x18', '0x19', '0xd', '0x1d', '0x1c', '0x8', '0x1c', '0x1e', '0x12', '0x7', '0x1a', '0x4', '0x2', '0x13', '0xd', '0x7', '0x8', '0x8', '0xd', '0x5', '0x11', '0x0', '0x2', '0x4', '0x9', '0x14', '0x1f', '0x8', '0x1a', '0x1d', '0x6', '0x8', '0x1b', '0x13', '0x18', '0xc', '0x8', '0x16', '0x1a', '0x1e', '0x18', '0x13', '0x4', '0x1f', '0xd', '0xb', '0x14', '0x1a', '0xe', '0xc', '0x8', '0x2', '0xe', '0xc', '0x1e', '0x4', '0x1a', '0x10', '0x3', '0x14', '0x1b', '0x4', '0x1d', '0x10', '0x17', '0x15', '0x0', '0x3', '0x1a', '0x1f', '0xa', '0x18', '0x1', '0x4', '0x11', '0x16', '0x6', '0x1b', '0x9', '0x14', '0x18', '0x2', '0x13', '0x0', '0x18', '0xe', '0xc', '0x10', '0xc', '0x17', '0x13', '0xb', '0x8', '0x0', '0x1b', '0x8', '0x4', '0xd', '0x14', '0x1d', '0x16', '0x1e', '0x1e', '0xb', '0xb', '0x1f', '0x1f', '0x1c', '0xa', '0x0', '0x1f', '0x3', '0x4', '0xb', '0x16', '0x1c', '0xc', '0x2', '0x13', '0x17', '0x1e', '0x19', '0xb', '0x1', '0x1', '0x1e', '0x1b', '0x14', '0x7', '0xd', '0x1f', '0x6', '0x1e', '0xa', '0x19', '0xf', '0x4', '0x1e', '0x4', '0x1a', '0x8', '0xb', '0xf', '0x4', '0x15', '0x0', '0x17', '0x4', '0xb', '0x13', '0xd', '0x1f', '0x13', '0x14', '0x16', '0x1b', '0xd', '0x19', '0x6', '0xc', '0x1', '0xf', '0xd', '0x6', '0x1d', '0x8', '0x16', '0x5', '0x3', '0x15', '0x1e', '0xc', '0x7', '0xc', '0x5', '0x3', '0xd', '0x1e', '0x4', '0xb', '0x18', '0x11', '0x9', '0xe', '0x17', '0x15', '0xf', '0xe', '0x10', '0x14', '0x18', '0x1', '0x0', '0x1b', '0x1b', '0x11', '0x12', '0x18', '0x1a', '0xe', '0x12', '0x1e', '0x16', '0x1b', '0x6', '0x1a', '0x5', '0x7', '0x18', '0x9', '0x8', '0x17', '0x0', '0x13', '0x2', '0x1', '0xd', '0x17', '0x0', '0x3', '0x17', '0xf', '0x13', '0x17', '0xd', '0x8', '0x6', '0x19', '0x9', '0x1c', '0x8', '0x1d', '0xb', '0x6', '0xf', '0x19', '0xb', '0xd', '0xc', '0x1', '0xd', '0x1', '0x17', '0x8', '0xd', '0x1', '0x0', '0x9', '0x1b', '0x17', '0x17', '0x10', '0x17', '0x5', '0x11', '0xe', '0x3', '0xb', '0x9', '0x0', '0x1a', '0x10', '0x15', '0x4', '0x9', '0x15', '0x1', '0x5', '0x0', '0x1a', '0xe', '0x16', '0x1a', '0x1e', '0x16', '0x8', '0x6', '0x17', '0x1b', '0xa', '0x15', '0x13', '0x5', '0x0', '0x5', '0x4', '0x4', '0xa', '0xe', '0xa', '0x1a', '0x8', '0x13', '0xf', '0x5', '0x8', '0x6', '0x5', '0x17', '0x10', '0x18', '0x6', '0x19', '0x7', '0x7', '0x1e', '0x8', '0x17', '0x18', '0x11', '0xb', '0x18', '0xd', '0x0', '0x17', '0x14', '0x13', '0x13', '0x12', '0xf', '0x8', '0x17', '0x8', '0x3', '0x4', '0x1d', '0x0', '0x16', '0x4', '0x2', '0x19', '0x19', '0x12', '0xa', '0x7', '0x10', '0x1', '0x18', '0x5', '0x6', '0x11', '0x2', '0x1f', '0x8', '0xa', '0x7', '0x15', '0x19', '0x1d', '0x10', '0x16', '0x15', '0x16', '0x0', '0x3', '0x12', '0x2', '0x17', '0x6', '0x4', '0xe', '0x7', '0x17', '0xb', '0x17', '0x18', '0x12', '0xe', '0xa', '0x16', '0x10', '0x1c', '0x12', '0xe', '0x14', '0x13', '0x2', '0x15', '0x8', '0x15', '0x1f', '0x18', '0x1e', '0x18', '0x6', '0x13', '0x4', '0x13', '0x9', '0xe', '0x1f', '0x1d', '0xf', '0x18', '0x19', '0x15', '0x4', '0x1d', '0x1f', '0x14', '0x13', '0x11', '0x1b', '0x11', '0xc', '0xb', '0xd', '0x3', '0x1a', '0x1b', '0x1a', '0xd', '0x13', '0x8', '0x1f', '0x5', '0x1b', '0x11', '0x1a', '0xa', '0x19', '0x1', '0x13', '0x3', '0x1f', '0x1c', '0x2', '0x19', '0x1b', '0xf', '0x3', '0x6', '0x7', '0x12', '0x0', '0x10', '0x8', '0x1c', '0x16', '0x3', '0x19', '0x6', '0x0', '0x5', '0xd', '0x0', '0x14', '0x19', '0xf', '0xc', '0x4', '0xf', '0x11', '0x3', '0xf', '0x1a', '0xf', '0x0', '0x15', '0x16', '0x8', '0x15', '0x18', '0xf', '0x14', '0x1', '0x2', '0x15', '0x1b', '0x5', '0x1e', '0x12', '0x14', '0x7', '0x10', '0xc', '0xf', '0x19', '0x18', '0x2', '0x19', '0x1', '0x11', '0x10', '0x18', '0x16', '0xa', '0x7', '0xc', '0x15', '0xe', '0xb', '0x14', '0x15', '0x17', '0xe', '0x1a', '0x1', '0x17', '0x9', '0x1b', '0x15', '0x1b', '0x1a', '0xe', '0x12', '0x6', '0x3', '0x15', '0x1d', '0x13', '0x3', '0x8', '0xc', '0xa', '0x13', '0x19', '0x12', '0x3', '0x1b', '0x8', '0x17', '0xc', '0xb', '0x1a', '0xb', '0x4', '0x1f', '0x0', '0x10', '0x1a', '0x17', '0xb', '0x1e', '0xc', '0x18', '0x13', '0x2', '0x5', '0x0', '0x16', '0x2', '0xc', '0x0', '0x11', '0x6', '0x16', '0x18', '0xb', '0xe', '0x7', '0x3', '0x12', '0x5', '0x19', '0xc', '0x17', '0x17', '0x1d', '0xe', '0x13', '0xa', '0x6', '0xb', '0x19', '0x1d', '0x7', '0x7', '0x6', '0x1b', '0x1b', '0x1', '0x7', '0x1a', '0xf', '0xe', '0x18', '0x16', '0x3', '0x7', '0x9', '0x8', '0x4', '0x1f', '0x0', '0x12', '0x14', '0x14', '0x11', '0x1', '0x1', '0x4', '0x12', '0x6', '0x1e', '0x10', '0xf', '0x1b', '0x1f', '0x15', '0x0', '0xc', '0xc', '0xd', '0x1c', '0x10', '0x1d', '0x2', '0xe', '0x9', '0x1e', '0x7', '0x18', '0xb', '0xc', '0x18', '0x2', '0x3', '0x15', '0x0', '0x1e', '0x1e', '0x8', '0xe', '0xc', '0xa', '0x17', '0x13', '0xf', '0xf', '0x1f', '0x1e', '0x11', '0x18', '0x10', '0x1d', '0xe', '0xe', '0xd', '0x12', '0xa', '0x15', '0x1d', '0x18', '0x16', '0x13', '0x10', '0x16', '0x1e', '0x15', '0x3', '0xc', '0xe', '0x1b', '0x4', '0xa', '0x7', '0xe', '0xb', '0x16', '0x1', '0x13', '0x1e', '0xd', '0x1c', '0xf', '0x1b', '0x1d', '0xa', '0xd', '0x1d', '0x13', '0x15', '0x13', '0x16', '0x6', '0xd', '0x3', '0x13', '0xc', '0x12', '0xf', '0xf', '0x10', '0x15', '0x11', '0x6', '0x1a', '0x8', '0x19', '0x2', '0x5', '0x1f', '0xe', '0x0', '0xd', '0x17', '0x0', '0x5', '0x19', '0xc', '0x12', '0x3', '0x1a', '0x1a', '0x1f', '0x2', '0x16', '0xf', '0x11', '0x6', '0x8', '0x11', '0x4', '0x17', '0x1e', '0x1b', '0x4', '0x11', '0x0', '0x16', '0x1', '0x17', '0x3', '0x6', '0x1e', '0xd', '0x0', '0x17', '0x1d', '0x3', '0x0', '0xb', '0x19', '0x9', '0x17', '0x1', '0x1d', '0xd', '0x11', '0xc', '0x18', '0x3', '0x1', '0x12', '0xd', '0x12', '0x1f', '0x12', '0x18', '0x15', '0x1c', '0x18', '0x3', '0x5', '0xb', '0x13', '0x1c', '0x7', '0x2', '0xc', '0x12', '0x1d', '0x1c', '0x3', '0x17', '0x12', '0x15', '0x7', '0x1c', '0x3', '0x0', '0x1', '0x15', '0x1b', '0x13', '0x1b', '0x6', '0x12', '0x1c', '0x1', '0x1a', '0xf', '0x13', '0xc', '0x5', '0x1c', '0xd', '0x6', '0x18', '0x13', '0x5', '0x1c', '0x7', '0x6', '0x1c', '0x11', '0x1a', '0x1', '0xe', '0xd', '0xf', '0x1a', '0x11', '0x3', '0x1b', '0x1c', '0x18', '0x1e', '0x1f', '0xf', '0x1', '0x1d', '0xe', '0x19', '0xf', '0x0', '0x17', '0x2', '0x5', '0x6', '0x1e', '0x0', '0x3', '0x1a', '0x1a', '0x18', '0xb', '0x2', '0x19', '0x1a', '0x8', '0x1f', '0xd', '0x6', '0x7', '0x1f', '0x7', '0x0', '0x5', '0x3', '0x19', '0x12', '0xa', '0x0', '0xd', '0x18', '0x1c', '0x1a', '0x12', '0x16', '0x19', '0x19', '0x7', '0x19', '0x19', '0x11', '0x18', '0xa', '0xb', '0xc', '0x1c', '0x18', '0x11', '0x17', '0x1f', '0x1e', '0xb', '0x1c', '0x3', '0x16', '0x5', '0x11', '0x16', '0x11', '0x3', '0x12', '0x6', '0x6', '0x14', '0x7', '0x10', '0x1', '0xa', '0xe', '0x1d', '0x8', '0x0', '0x1f', '0x3', '0x1', '0x17', '0x8', '0xd', '0xe', '0x1c', '0xe', '0x2', '0x13', '0x7', '0x7', '0x11', '0x1c', '0x19', '0x2', '0x0', '0x4', '0x19', '0xc', '0xf', '0x1f', '0x10', '0xe', '0x1e', '0x8', '0xf', '0x5', '0x19', '0xb', '0x19', '0xa', '0x2', '0x15', '0x17', '0x3', '0x5', '0x8', '0x5', '0xf', '0x19', '0x15', '0x12', '0xc', '0x9', '0x16', '0x1d', '0x4', '0xa', '0xc', '0x1b', '0x8', '0x11', '0x6', '0x2', '0x4', '0x17', '0x3', '0xc', '0x14', '0x1c', '0xa', '0x15', '0x6', '0x1', '0x18', '0x1d', '0x9', '0x3', '0x1', '0x19', '0x19', '0x12', '0x19', '0x8', '0x1', '0x1b', '0x12', '0x9', '0x1a', '0x0', '0x3', '0x13', '0xf', '0x11', '0x11', '0xe', '0xb', '0x15', '0x13', '0x1d', '0x8', '0x15', '0xc', '0x4', '0xe', '0x10', '0xc', '0x9', '0x18', '0xb', '0x18', '0x9', '0x11', '0x6', '0x1', '0x1d', '0x8', '0x17', '0x1e', '0xb', '0x16', '0x1b', '0x0', '0x9', '0x18', '0x18', '0x1e', '0x12', '0x16', '0x1e', '0x8', '0x14', '0x5', '0xc']), header=QobjExperimentHeader(clbit_labels=[['c0', 0], ['c0', 1], ['c0', 2], ['c0', 3], ['c0', 4]], creg_sizes=[['c0', 5]], global_phase=0.0, memory_slots=5, metadata=None, n_qubits=5, name='circuit-9', qreg_sizes=[['q0', 5]], qubit_labels=[['q0', 0], ['q0', 1], ['q0', 2], ['q0', 3], ['q0', 4]]), status=DONE, seed_simulator=4119016052, metadata={'noise': 'ideal', 'batched_shots_optimization': False, 'remapped_qubits': False, 'parallel_state_update': 8, 'parallel_shots': 1, 'device': 'CPU', 'active_input_qubits': [0, 1, 2, 3, 4], 'measure_sampling': True, 'num_clbits': 5, 'input_qubit_map': [[4, 4], [3, 3], [2, 2], [1, 1], [0, 0]], 'num_qubits': 5, 'method': 'stabilizer', 'fusion': {'enabled': False}}, time_taken=0.0030259590000000004)], date=2022-03-31T14:41:43.120834, status=COMPLETED, status=QobjHeader(backend_name='aer_simulator', backend_version='0.10.3'), metadata={'mpi_rank': 0, 'time_taken': 0.003529583, 'max_gpu_memory_mb': 0, 'time_taken_execute': 0.003044708, 'max_memory_mb': 8192, 'time_taken_load_qobj': 0.00043045800000000005, 'parallel_experiments': 1, 'num_mpi_processes': 1, 'omp_enabled': True}, time_taken=0.0038139820098876953)"
      ]
     },
     "execution_count": 12,
     "metadata": {},
     "output_type": "execute_result"
    }
   ],
   "source": [
    "sim_result"
   ]
  },
  {
   "cell_type": "code",
   "execution_count": 13,
   "metadata": {},
   "outputs": [
    {
     "name": "stdout",
     "output_type": "stream",
     "text": [
      "[17, 17, 6, 22, 15, 24, 0, 19, 21, 19, 24, 25, 13, 29, 28, 8, 28, 30, 18, 7, 26, 4, 2, 19, 13, 7, 8, 8, 13, 5, 17, 0, 2, 4, 9, 20, 31, 8, 26, 29, 6, 8, 27, 19, 24, 12, 8, 22, 26, 30, 24, 19, 4, 31, 13, 11, 20, 26, 14, 12, 8, 2, 14, 12, 30, 4, 26, 16, 3, 20, 27, 4, 29, 16, 23, 21, 0, 3, 26, 31, 10, 24, 1, 4, 17, 22, 6, 27, 9, 20, 24, 2, 19, 0, 24, 14, 12, 16, 12, 23, 19, 11, 8, 0, 27, 8, 4, 13, 20, 29, 22, 30, 30, 11, 11, 31, 31, 28, 10, 0, 31, 3, 4, 11, 22, 28, 12, 2, 19, 23, 30, 25, 11, 1, 1, 30, 27, 20, 7, 13, 31, 6, 30, 10, 25, 15, 4, 30, 4, 26, 8, 11, 15, 4, 21, 0, 23, 4, 11, 19, 13, 31, 19, 20, 22, 27, 13, 25, 6, 12, 1, 15, 13, 6, 29, 8, 22, 5, 3, 21, 30, 12, 7, 12, 5, 3, 13, 30, 4, 11, 24, 17, 9, 14, 23, 21, 15, 14, 16, 20, 24, 1, 0, 27, 27, 17, 18, 24, 26, 14, 18, 30, 22, 27, 6, 26, 5, 7, 24, 9, 8, 23, 0, 19, 2, 1, 13, 23, 0, 3, 23, 15, 19, 23, 13, 8, 6, 25, 9, 28, 8, 29, 11, 6, 15, 25, 11, 13, 12, 1, 13, 1, 23, 8, 13, 1, 0, 9, 27, 23, 23, 16, 23, 5, 17, 14, 3, 11, 9, 0, 26, 16, 21, 4, 9, 21, 1, 5, 0, 26, 14, 22, 26, 30, 22, 8, 6, 23, 27, 10, 21, 19, 5, 0, 5, 4, 4, 10, 14, 10, 26, 8, 19, 15, 5, 8, 6, 5, 23, 16, 24, 6, 25, 7, 7, 30, 8, 23, 24, 17, 11, 24, 13, 0, 23, 20, 19, 19, 18, 15, 8, 23, 8, 3, 4, 29, 0, 22, 4, 2, 25, 25, 18, 10, 7, 16, 1, 24, 5, 6, 17, 2, 31, 8, 10, 7, 21, 25, 29, 16, 22, 21, 22, 0, 3, 18, 2, 23, 6, 4, 14, 7, 23, 11, 23, 24, 18, 14, 10, 22, 16, 28, 18, 14, 20, 19, 2, 21, 8, 21, 31, 24, 30, 24, 6, 19, 4, 19, 9, 14, 31, 29, 15, 24, 25, 21, 4, 29, 31, 20, 19, 17, 27, 17, 12, 11, 13, 3, 26, 27, 26, 13, 19, 8, 31, 5, 27, 17, 26, 10, 25, 1, 19, 3, 31, 28, 2, 25, 27, 15, 3, 6, 7, 18, 0, 16, 8, 28, 22, 3, 25, 6, 0, 5, 13, 0, 20, 25, 15, 12, 4, 15, 17, 3, 15, 26, 15, 0, 21, 22, 8, 21, 24, 15, 20, 1, 2, 21, 27, 5, 30, 18, 20, 7, 16, 12, 15, 25, 24, 2, 25, 1, 17, 16, 24, 22, 10, 7, 12, 21, 14, 11, 20, 21, 23, 14, 26, 1, 23, 9, 27, 21, 27, 26, 14, 18, 6, 3, 21, 29, 19, 3, 8, 12, 10, 19, 25, 18, 3, 27, 8, 23, 12, 11, 26, 11, 4, 31, 0, 16, 26, 23, 11, 30, 12, 24, 19, 2, 5, 0, 22, 2, 12, 0, 17, 6, 22, 24, 11, 14, 7, 3, 18, 5, 25, 12, 23, 23, 29, 14, 19, 10, 6, 11, 25, 29, 7, 7, 6, 27, 27, 1, 7, 26, 15, 14, 24, 22, 3, 7, 9, 8, 4, 31, 0, 18, 20, 20, 17, 1, 1, 4, 18, 6, 30, 16, 15, 27, 31, 21, 0, 12, 12, 13, 28, 16, 29, 2, 14, 9, 30, 7, 24, 11, 12, 24, 2, 3, 21, 0, 30, 30, 8, 14, 12, 10, 23, 19, 15, 15, 31, 30, 17, 24, 16, 29, 14, 14, 13, 18, 10, 21, 29, 24, 22, 19, 16, 22, 30, 21, 3, 12, 14, 27, 4, 10, 7, 14, 11, 22, 1, 19, 30, 13, 28, 15, 27, 29, 10, 13, 29, 19, 21, 19, 22, 6, 13, 3, 19, 12, 18, 15, 15, 16, 21, 17, 6, 26, 8, 25, 2, 5, 31, 14, 0, 13, 23, 0, 5, 25, 12, 18, 3, 26, 26, 31, 2, 22, 15, 17, 6, 8, 17, 4, 23, 30, 27, 4, 17, 0, 22, 1, 23, 3, 6, 30, 13, 0, 23, 29, 3, 0, 11, 25, 9, 23, 1, 29, 13, 17, 12, 24, 3, 1, 18, 13, 18, 31, 18, 24, 21, 28, 24, 3, 5, 11, 19, 28, 7, 2, 12, 18, 29, 28, 3, 23, 18, 21, 7, 28, 3, 0, 1, 21, 27, 19, 27, 6, 18, 28, 1, 26, 15, 19, 12, 5, 28, 13, 6, 24, 19, 5, 28, 7, 6, 28, 17, 26, 1, 14, 13, 15, 26, 17, 3, 27, 28, 24, 30, 31, 15, 1, 29, 14, 25, 15, 0, 23, 2, 5, 6, 30, 0, 3, 26, 26, 24, 11, 2, 25, 26, 8, 31, 13, 6, 7, 31, 7, 0, 5, 3, 25, 18, 10, 0, 13, 24, 28, 26, 18, 22, 25, 25, 7, 25, 25, 17, 24, 10, 11, 12, 28, 24, 17, 23, 31, 30, 11, 28, 3, 22, 5, 17, 22, 17, 3, 18, 6, 6, 20, 7, 16, 1, 10, 14, 29, 8, 0, 31, 3, 1, 23, 8, 13, 14, 28, 14, 2, 19, 7, 7, 17, 28, 25, 2, 0, 4, 25, 12, 15, 31, 16, 14, 30, 8, 15, 5, 25, 11, 25, 10, 2, 21, 23, 3, 5, 8, 5, 15, 25, 21, 18, 12, 9, 22, 29, 4, 10, 12, 27, 8, 17, 6, 2, 4, 23, 3, 12, 20, 28, 10, 21, 6, 1, 24, 29, 9, 3, 1, 25, 25, 18, 25, 8, 1, 27, 18, 9, 26, 0, 3, 19, 15, 17, 17, 14, 11, 21, 19, 29, 8, 21, 12, 4, 14, 16, 12, 9, 24, 11, 24, 9, 17, 6, 1, 29, 8, 23, 30, 11, 22, 27, 0, 9, 24, 24, 30, 18, 22, 30, 8, 20, 5, 12]\n"
     ]
    }
   ],
   "source": [
    "#to retrieve the results independently, instead of as a probability\n",
    "sim_memory = sim_result.get_memory()\n",
    "sim_outputArray = []\n",
    "for x in range(0, shots):\n",
    "    converted = int(sim_memory[x], 2)\n",
    "    sim_outputArray.append(converted)\n",
    "print(sim_outputArray)"
   ]
  },
  {
   "cell_type": "code",
   "execution_count": 14,
   "metadata": {},
   "outputs": [
    {
     "data": {
      "text/plain": [
       "1024"
      ]
     },
     "execution_count": 14,
     "metadata": {},
     "output_type": "execute_result"
    }
   ],
   "source": [
    "len(sim_outputArray)"
   ]
  },
  {
   "cell_type": "code",
   "execution_count": 15,
   "metadata": {},
   "outputs": [
    {
     "data": {
      "image/png": "[encoded data removed]",
      "text/plain": [
       "<Figure size 504x360 with 1 Axes>"
      ]
     },
     "execution_count": 15,
     "metadata": {},
     "output_type": "execute_result"
    }
   ],
   "source": [
    "plot_histogram(sim_result.get_counts(circuit))"
   ]
  },
  {
   "cell_type": "code",
   "execution_count": 16,
   "metadata": {},
   "outputs": [
    {
     "name": "stdout",
     "output_type": "stream",
     "text": [
      "['10001', '10001', '00110', '10110', '01111', '11000', '00000', '10011', '10101', '10011', '11000', '11001', '01101', '11101', '11100', '01000', '11100', '11110', '10010', '00111', '11010', '00100', '00010', '10011', '01101', '00111', '01000', '01000', '01101', '00101', '10001', '00000', '00010', '00100', '01001', '10100', '11111', '01000', '11010', '11101', '00110', '01000', '11011', '10011', '11000', '01100', '01000', '10110', '11010', '11110', '11000', '10011', '00100', '11111', '01101', '01011', '10100', '11010', '01110', '01100', '01000', '00010', '01110', '01100', '11110', '00100', '11010', '10000', '00011', '10100', '11011', '00100', '11101', '10000', '10111', '10101', '00000', '00011', '11010', '11111', '01010', '11000', '00001', '00100', '10001', '10110', '00110', '11011', '01001', '10100', '11000', '00010', '10011', '00000', '11000', '01110', '01100', '10000', '01100', '10111', '10011', '01011', '01000', '00000', '11011', '01000', '00100', '01101', '10100', '11101', '10110', '11110', '11110', '01011', '01011', '11111', '11111', '11100', '01010', '00000', '11111', '00011', '00100', '01011', '10110', '11100', '01100', '00010', '10011', '10111', '11110', '11001', '01011', '00001', '00001', '11110', '11011', '10100', '00111', '01101', '11111', '00110', '11110', '01010', '11001', '01111', '00100', '11110', '00100', '11010', '01000', '01011', '01111', '00100', '10101', '00000', '10111', '00100', '01011', '10011', '01101', '11111', '10011', '10100', '10110', '11011', '01101', '11001', '00110', '01100', '00001', '01111', '01101', '00110', '11101', '01000', '10110', '00101', '00011', '10101', '11110', '01100', '00111', '01100', '00101', '00011', '01101', '11110', '00100', '01011', '11000', '10001', '01001', '01110', '10111', '10101', '01111', '01110', '10000', '10100', '11000', '00001', '00000', '11011', '11011', '10001', '10010', '11000', '11010', '01110', '10010', '11110', '10110', '11011', '00110', '11010', '00101', '00111', '11000', '01001', '01000', '10111', '00000', '10011', '00010', '00001', '01101', '10111', '00000', '00011', '10111', '01111', '10011', '10111', '01101', '01000', '00110', '11001', '01001', '11100', '01000', '11101', '01011', '00110', '01111', '11001', '01011', '01101', '01100', '00001', '01101', '00001', '10111', '01000', '01101', '00001', '00000', '01001', '11011', '10111', '10111', '10000', '10111', '00101', '10001', '01110', '00011', '01011', '01001', '00000', '11010', '10000', '10101', '00100', '01001', '10101', '00001', '00101', '00000', '11010', '01110', '10110', '11010', '11110', '10110', '01000', '00110', '10111', '11011', '01010', '10101', '10011', '00101', '00000', '00101', '00100', '00100', '01010', '01110', '01010', '11010', '01000', '10011', '01111', '00101', '01000', '00110', '00101', '10111', '10000', '11000', '00110', '11001', '00111', '00111', '11110', '01000', '10111', '11000', '10001', '01011', '11000', '01101', '00000', '10111', '10100', '10011', '10011', '10010', '01111', '01000', '10111', '01000', '00011', '00100', '11101', '00000', '10110', '00100', '00010', '11001', '11001', '10010', '01010', '00111', '10000', '00001', '11000', '00101', '00110', '10001', '00010', '11111', '01000', '01010', '00111', '10101', '11001', '11101', '10000', '10110', '10101', '10110', '00000', '00011', '10010', '00010', '10111', '00110', '00100', '01110', '00111', '10111', '01011', '10111', '11000', '10010', '01110', '01010', '10110', '10000', '11100', '10010', '01110', '10100', '10011', '00010', '10101', '01000', '10101', '11111', '11000', '11110', '11000', '00110', '10011', '00100', '10011', '01001', '01110', '11111', '11101', '01111', '11000', '11001', '10101', '00100', '11101', '11111', '10100', '10011', '10001', '11011', '10001', '01100', '01011', '01101', '00011', '11010', '11011', '11010', '01101', '10011', '01000', '11111', '00101', '11011', '10001', '11010', '01010', '11001', '00001', '10011', '00011', '11111', '11100', '00010', '11001', '11011', '01111', '00011', '00110', '00111', '10010', '00000', '10000', '01000', '11100', '10110', '00011', '11001', '00110', '00000', '00101', '01101', '00000', '10100', '11001', '01111', '01100', '00100', '01111', '10001', '00011', '01111', '11010', '01111', '00000', '10101', '10110', '01000', '10101', '11000', '01111', '10100', '00001', '00010', '10101', '11011', '00101', '11110', '10010', '10100', '00111', '10000', '01100', '01111', '11001', '11000', '00010', '11001', '00001', '10001', '10000', '11000', '10110', '01010', '00111', '01100', '10101', '01110', '01011', '10100', '10101', '10111', '01110', '11010', '00001', '10111', '01001', '11011', '10101', '11011', '11010', '01110', '10010', '00110', '00011', '10101', '11101', '10011', '00011', '01000', '01100', '01010', '10011', '11001', '10010', '00011', '11011', '01000', '10111', '01100', '01011', '11010', '01011', '00100', '11111', '00000', '10000', '11010', '10111', '01011', '11110', '01100', '11000', '10011', '00010', '00101', '00000', '10110', '00010', '01100', '00000', '10001', '00110', '10110', '11000', '01011', '01110', '00111', '00011', '10010', '00101', '11001', '01100', '10111', '10111', '11101', '01110', '10011', '01010', '00110', '01011', '11001', '11101', '00111', '00111', '00110', '11011', '11011', '00001', '00111', '11010', '01111', '01110', '11000', '10110', '00011', '00111', '01001', '01000', '00100', '11111', '00000', '10010', '10100', '10100', '10001', '00001', '00001', '00100', '10010', '00110', '11110', '10000', '01111', '11011', '11111', '10101', '00000', '01100', '01100', '01101', '11100', '10000', '11101', '00010', '01110', '01001', '11110', '00111', '11000', '01011', '01100', '11000', '00010', '00011', '10101', '00000', '11110', '11110', '01000', '01110', '01100', '01010', '10111', '10011', '01111', '01111', '11111', '11110', '10001', '11000', '10000', '11101', '01110', '01110', '01101', '10010', '01010', '10101', '11101', '11000', '10110', '10011', '10000', '10110', '11110', '10101', '00011', '01100', '01110', '11011', '00100', '01010', '00111', '01110', '01011', '10110', '00001', '10011', '11110', '01101', '11100', '01111', '11011', '11101', '01010', '01101', '11101', '10011', '10101', '10011', '10110', '00110', '01101', '00011', '10011', '01100', '10010', '01111', '01111', '10000', '10101', '10001', '00110', '11010', '01000', '11001', '00010', '00101', '11111', '01110', '00000', '01101', '10111', '00000', '00101', '11001', '01100', '10010', '00011', '11010', '11010', '11111', '00010', '10110', '01111', '10001', '00110', '01000', '10001', '00100', '10111', '11110', '11011', '00100', '10001', '00000', '10110', '00001', '10111', '00011', '00110', '11110', '01101', '00000', '10111', '11101', '00011', '00000', '01011', '11001', '01001', '10111', '00001', '11101', '01101', '10001', '01100', '11000', '00011', '00001', '10010', '01101', '10010', '11111', '10010', '11000', '10101', '11100', '11000', '00011', '00101', '01011', '10011', '11100', '00111', '00010', '01100', '10010', '11101', '11100', '00011', '10111', '10010', '10101', '00111', '11100', '00011', '00000', '00001', '10101', '11011', '10011', '11011', '00110', '10010', '11100', '00001', '11010', '01111', '10011', '01100', '00101', '11100', '01101', '00110', '11000', '10011', '00101', '11100', '00111', '00110', '11100', '10001', '11010', '00001', '01110', '01101', '01111', '11010', '10001', '00011', '11011', '11100', '11000', '11110', '11111', '01111', '00001', '11101', '01110', '11001', '01111', '00000', '10111', '00010', '00101', '00110', '11110', '00000', '00011', '11010', '11010', '11000', '01011', '00010', '11001', '11010', '01000', '11111', '01101', '00110', '00111', '11111', '00111', '00000', '00101', '00011', '11001', '10010', '01010', '00000', '01101', '11000', '11100', '11010', '10010', '10110', '11001', '11001', '00111', '11001', '11001', '10001', '11000', '01010', '01011', '01100', '11100', '11000', '10001', '10111', '11111', '11110', '01011', '11100', '00011', '10110', '00101', '10001', '10110', '10001', '00011', '10010', '00110', '00110', '10100', '00111', '10000', '00001', '01010', '01110', '11101', '01000', '00000', '11111', '00011', '00001', '10111', '01000', '01101', '01110', '11100', '01110', '00010', '10011', '00111', '00111', '10001', '11100', '11001', '00010', '00000', '00100', '11001', '01100', '01111', '11111', '10000', '01110', '11110', '01000', '01111', '00101', '11001', '01011', '11001', '01010', '00010', '10101', '10111', '00011', '00101', '01000', '00101', '01111', '11001', '10101', '10010', '01100', '01001', '10110', '11101', '00100', '01010', '01100', '11011', '01000', '10001', '00110', '00010', '00100', '10111', '00011', '01100', '10100', '11100', '01010', '10101', '00110', '00001', '11000', '11101', '01001', '00011', '00001', '11001', '11001', '10010', '11001', '01000', '00001', '11011', '10010', '01001', '11010', '00000', '00011', '10011', '01111', '10001', '10001', '01110', '01011', '10101', '10011', '11101', '01000', '10101', '01100', '00100', '01110', '10000', '01100', '01001', '11000', '01011', '11000', '01001', '10001', '00110', '00001', '11101', '01000', '10111', '11110', '01011', '10110', '11011', '00000', '01001', '11000', '11000', '11110', '10010', '10110', '11110', '01000', '10100', '00101', '01100']\n"
     ]
    }
   ],
   "source": [
    "print(sim_memory)"
   ]
  },
  {
   "cell_type": "markdown",
   "metadata": {},
   "source": [
    "Lets do the same on a quantum device"
   ]
  },
  {
   "cell_type": "code",
   "execution_count": 17,
   "metadata": {},
   "outputs": [
    {
     "data": {
      "text/plain": [
       "<AccountProvider for IBMQ(hub='ibm-q', group='open', project='main')>"
      ]
     },
     "execution_count": 17,
     "metadata": {},
     "output_type": "execute_result"
    }
   ],
   "source": [
    "with open('/Users/karim/staff/cred/IBMQ/tocken.txt', 'r') as file:\n",
    "    myTocken = file.read().replace('\\n', '')\n",
    "IBMQ.save_account(myTocken,overwrite=True)\n",
    "IBMQ.load_account()"
   ]
  },
  {
   "cell_type": "code",
   "execution_count": 18,
   "metadata": {},
   "outputs": [
    {
     "data": {
      "application/vnd.jupyter.widget-view+json": {
       "model_id": "f4f1e40ed04b4db7abc997b4d494f33c",
       "version_major": 2,
       "version_minor": 0
      },
      "text/plain": [
       "VBox(children=(HTML(value=\"<h1 style='color:#ffffff;background-color:#000000;padding-top: 1%;padding-bottom: 1…"
      ]
     },
     "metadata": {},
     "output_type": "display_data"
    },
    {
     "data": {
      "text/plain": [
       "<IBMQBackend('ibmq_santiago') from IBMQ(hub='ibm-q', group='open', project='main')>"
      ]
     },
     "execution_count": 18,
     "metadata": {},
     "output_type": "execute_result"
    }
   ],
   "source": [
    "provider = IBMQ.get_provider('ibm-q')\n",
    "small_devices = provider.backends(filters=lambda x: x.configuration().n_qubits >= 5 and not x.configuration().simulator)\n",
    "least_busy(small_devices)"
   ]
  },
  {
   "cell_type": "code",
   "execution_count": 19,
   "metadata": {},
   "outputs": [
    {
     "data": {
      "text/plain": [
       "5"
      ]
     },
     "execution_count": 19,
     "metadata": {},
     "output_type": "execute_result"
    }
   ],
   "source": [
    "backend = least_busy(small_devices)\n",
    "backend.configuration().n_qubits"
   ]
  },
  {
   "cell_type": "code",
   "execution_count": 20,
   "metadata": {},
   "outputs": [
    {
     "data": {
      "text/html": [
       "<pre>&lt;qiskit.providers.models.backendstatus.BackendStatus object at 0x156fe7490&gt;</pre><b>name</b>: ibmq_lima<br/><b>version</b>: 1.0.34, <b>pending jobs</b>: 6<br/><b>status</b>: active<br/>"
      ],
      "text/plain": [
       "<qiskit.providers.models.backendstatus.BackendStatus at 0x156fe7490>"
      ]
     },
     "execution_count": 20,
     "metadata": {},
     "output_type": "execute_result"
    }
   ],
   "source": [
    "quantum_instance = QuantumInstance(backend=backend,shots=128, skip_qobj_validation = False)\n",
    "quantum_instance.backend.status()"
   ]
  },
  {
   "cell_type": "code",
   "execution_count": 21,
   "metadata": {},
   "outputs": [],
   "source": [
    "#provider = IBMQ.get_provider('ibm-q')\n",
    "#qcomp = provider.get_backend('ibmq_16_melbourne')\n",
    "shots = 1024\n",
    "q_job = execute(circuit, backend, shots = shots, memory=True)"
   ]
  },
  {
   "cell_type": "code",
   "execution_count": 22,
   "metadata": {},
   "outputs": [
    {
     "name": "stdout",
     "output_type": "stream",
     "text": [
      "Job Status: job has successfully run\n"
     ]
    }
   ],
   "source": [
    "job_monitor(q_job)"
   ]
  },
  {
   "cell_type": "code",
   "execution_count": null,
   "metadata": {},
   "outputs": [],
   "source": [
    "q_result = q_job.result()\n",
    "q_memory = q_result.get_memory()\n",
    "q_outputArray = []\n",
    "for x in range(0, shots):\n",
    "    converted = int(q_memory[x], 2)\n",
    "    q_outputArray.append(converted)\n",
    "print(q_outputArray)"
   ]
  },
  {
   "cell_type": "code",
   "execution_count": null,
   "metadata": {},
   "outputs": [],
   "source": [
    "q_job.error_message()"
   ]
  },
  {
   "cell_type": "code",
   "execution_count": null,
   "metadata": {},
   "outputs": [],
   "source": [
    "plot_histogram(q_result.get_counts(circuit))"
   ]
  },
  {
   "cell_type": "code",
   "execution_count": null,
   "metadata": {},
   "outputs": [],
   "source": []
  }
 ],
 "metadata": {
  "interpreter": {
   "hash": "27af1eeeb92b5991d3180e82c8d8b1547dacbfe5a769b447ec95fa790dfbbaa9"
  },
  "kernelspec": {
   "display_name": "Python 3.10.2 64-bit ('3.10.2')",
   "language": "python",
   "name": "python3"
  },
  "language_info": {
   "codemirror_mode": {
    "name": "ipython",
    "version": 3
   },
   "file_extension": ".py",
   "mimetype": "text/x-python",
   "name": "python",
   "nbconvert_exporter": "python",
   "pygments_lexer": "ipython3",
   "version": "3.10.2"
  },
  "orig_nbformat": 4
 },
 "nbformat": 4,
 "nbformat_minor": 2
}
